{
  "cells": [
    {
      "cell_type": "markdown",
      "metadata": {
        "id": "view-in-github",
        "colab_type": "text"
      },
      "source": [
        "<a href=\"https://colab.research.google.com/github/senthilchandrasegaran/designing-intelligence/blob/main/notebooks/LIWC_Analysis.ipynb\" target=\"_parent\"><img src=\"https://colab.research.google.com/assets/colab-badge.svg\" alt=\"Open In Colab\"/></a>"
      ]
    },
    {
      "cell_type": "markdown",
      "id": "ce64ac55",
      "metadata": {
        "id": "ce64ac55"
      },
      "source": [
        "# LIWC Analysis of Transcript with Speaker Identifiers\n",
        "Preferred Transcript format:\n",
        "\n",
        "    Speaker1: speech turn.\n",
        "    Speaker2: speech turn.\n",
        "   \n",
        "Note: `Speaker1` and `Speaker2` are preferably single strings with no space in between. The separation between the speaker and the speech turn should be a colon (Dutch: doublepunt)."
      ]
    },
    {
      "cell_type": "markdown",
      "id": "986f29b7",
      "metadata": {
        "id": "986f29b7"
      },
      "source": [
        "## Set up the Notebook\n",
        "Since you are likely to run the notebook using Colab, you do not have to do change anything in the cell(s) below. However, if you plan to clone this repository and run it locally, please edit the cell below according to the instructions in the comments."
      ]
    },
    {
      "cell_type": "code",
      "execution_count": 1,
      "id": "3e7eb8e9",
      "metadata": {
        "id": "3e7eb8e9",
        "outputId": "7bf8c83a-b4ca-478c-f1a2-c678418898b3",
        "colab": {
          "base_uri": "https://localhost:8080/"
        }
      },
      "outputs": [
        {
          "output_type": "stream",
          "name": "stdout",
          "text": [
            "Cloning into 'designing-intelligence'...\n",
            "remote: Enumerating objects: 109, done.\u001b[K\n",
            "remote: Counting objects: 100% (109/109), done.\u001b[K\n",
            "remote: Compressing objects: 100% (73/73), done.\u001b[K\n",
            "remote: Total 109 (delta 48), reused 80 (delta 32), pack-reused 0\u001b[K\n",
            "Receiving objects: 100% (109/109), 432.32 KiB | 10.81 MiB/s, done.\n",
            "Resolving deltas: 100% (48/48), done.\n",
            "/content/designing-intelligence/notebooks\n",
            "Already up to date.\n"
          ]
        }
      ],
      "source": [
        "environment = 'local'\n",
        "\n",
        "# Comment out the lines below until the line marked with '#---'\n",
        "!git clone https://github.com/senthilchandrasegaran/designing-intelligence\n",
        "%cd /content/designing-intelligence/notebooks/\n",
        "!git pull\n",
        "environment = 'colab'\n",
        "#---\n",
        "\n",
        "if environment == 'colab' :\n",
        "    path = '/content/designing-intelligence/'\n",
        "else :\n",
        "    path = '../'\n",
        "\n",
        "import re\n",
        "import spacy\n",
        "import itertools\n",
        "import math\n",
        "import warnings\n",
        "\n",
        "import matplotlib.pyplot as plt\n",
        "import matplotlib.ticker as ticker\n",
        "import numpy as np\n",
        "import pandas as pd\n",
        "import pprint as pp\n",
        "import seaborn as sns\n",
        "\n",
        "from collections import Counter\n",
        "from IPython.display import Markdown, display\n",
        "from matplotlib import rcParams\n",
        "from spacy.lookups import Lookups\n",
        "from spacy.lang.en import English\n",
        "\n",
        "warnings.filterwarnings('ignore')\n",
        "\n",
        "from IPython.display import Markdown, display"
      ]
    },
    {
      "cell_type": "code",
      "execution_count": 2,
      "id": "42179001",
      "metadata": {
        "id": "42179001"
      },
      "outputs": [],
      "source": [
        "# Function to print output as markdown text (allows for some text decoration)\n",
        "def printmd(string):\n",
        "    display(Markdown(string))"
      ]
    },
    {
      "cell_type": "markdown",
      "id": "a76e08a6",
      "metadata": {
        "id": "a76e08a6"
      },
      "source": [
        "## Read the Transcript\n",
        "For now, this notebook is set up to read the transcript as a text file. Please refer to the sample transcript in the 'data' folder to see what it looks like. The cells below read the transcript and print it out for verification."
      ]
    },
    {
      "cell_type": "code",
      "execution_count": 3,
      "id": "74305d9d",
      "metadata": {
        "id": "74305d9d"
      },
      "outputs": [],
      "source": [
        "transcript_file_name = 'transcript-dana-annie.txt'\n",
        "liwc_dictionary = 'causal-thinking.dic'"
      ]
    },
    {
      "cell_type": "code",
      "execution_count": 4,
      "id": "26a99f49",
      "metadata": {
        "id": "26a99f49",
        "outputId": "2d771626-c4a4-47ff-813a-6efea9cdb3a3",
        "colab": {
          "base_uri": "https://localhost:8080/",
          "height": 143
        }
      },
      "outputs": [
        {
          "output_type": "execute_result",
          "data": {
            "text/plain": [
              "    speaker                                        speech_turn\n",
              "143   Annie                                       Oh yes↑ no ↓\n",
              "0      Dana   Uhm:: (3.0) should we start with a sentence o...\n",
              "64    Annie                                       ((Laughing))"
            ],
            "text/html": [
              "\n",
              "  <div id=\"df-5036eea1-6273-43e6-9693-d338299afe12\">\n",
              "    <div class=\"colab-df-container\">\n",
              "      <div>\n",
              "<style scoped>\n",
              "    .dataframe tbody tr th:only-of-type {\n",
              "        vertical-align: middle;\n",
              "    }\n",
              "\n",
              "    .dataframe tbody tr th {\n",
              "        vertical-align: top;\n",
              "    }\n",
              "\n",
              "    .dataframe thead th {\n",
              "        text-align: right;\n",
              "    }\n",
              "</style>\n",
              "<table border=\"1\" class=\"dataframe\">\n",
              "  <thead>\n",
              "    <tr style=\"text-align: right;\">\n",
              "      <th></th>\n",
              "      <th>speaker</th>\n",
              "      <th>speech_turn</th>\n",
              "    </tr>\n",
              "  </thead>\n",
              "  <tbody>\n",
              "    <tr>\n",
              "      <th>143</th>\n",
              "      <td>Annie</td>\n",
              "      <td>Oh yes↑ no ↓</td>\n",
              "    </tr>\n",
              "    <tr>\n",
              "      <th>0</th>\n",
              "      <td>Dana</td>\n",
              "      <td>Uhm:: (3.0) should we start with a sentence o...</td>\n",
              "    </tr>\n",
              "    <tr>\n",
              "      <th>64</th>\n",
              "      <td>Annie</td>\n",
              "      <td>((Laughing))</td>\n",
              "    </tr>\n",
              "  </tbody>\n",
              "</table>\n",
              "</div>\n",
              "      <button class=\"colab-df-convert\" onclick=\"convertToInteractive('df-5036eea1-6273-43e6-9693-d338299afe12')\"\n",
              "              title=\"Convert this dataframe to an interactive table.\"\n",
              "              style=\"display:none;\">\n",
              "        \n",
              "  <svg xmlns=\"http://www.w3.org/2000/svg\" height=\"24px\"viewBox=\"0 0 24 24\"\n",
              "       width=\"24px\">\n",
              "    <path d=\"M0 0h24v24H0V0z\" fill=\"none\"/>\n",
              "    <path d=\"M18.56 5.44l.94 2.06.94-2.06 2.06-.94-2.06-.94-.94-2.06-.94 2.06-2.06.94zm-11 1L8.5 8.5l.94-2.06 2.06-.94-2.06-.94L8.5 2.5l-.94 2.06-2.06.94zm10 10l.94 2.06.94-2.06 2.06-.94-2.06-.94-.94-2.06-.94 2.06-2.06.94z\"/><path d=\"M17.41 7.96l-1.37-1.37c-.4-.4-.92-.59-1.43-.59-.52 0-1.04.2-1.43.59L10.3 9.45l-7.72 7.72c-.78.78-.78 2.05 0 2.83L4 21.41c.39.39.9.59 1.41.59.51 0 1.02-.2 1.41-.59l7.78-7.78 2.81-2.81c.8-.78.8-2.07 0-2.86zM5.41 20L4 18.59l7.72-7.72 1.47 1.35L5.41 20z\"/>\n",
              "  </svg>\n",
              "      </button>\n",
              "      \n",
              "  <style>\n",
              "    .colab-df-container {\n",
              "      display:flex;\n",
              "      flex-wrap:wrap;\n",
              "      gap: 12px;\n",
              "    }\n",
              "\n",
              "    .colab-df-convert {\n",
              "      background-color: #E8F0FE;\n",
              "      border: none;\n",
              "      border-radius: 50%;\n",
              "      cursor: pointer;\n",
              "      display: none;\n",
              "      fill: #1967D2;\n",
              "      height: 32px;\n",
              "      padding: 0 0 0 0;\n",
              "      width: 32px;\n",
              "    }\n",
              "\n",
              "    .colab-df-convert:hover {\n",
              "      background-color: #E2EBFA;\n",
              "      box-shadow: 0px 1px 2px rgba(60, 64, 67, 0.3), 0px 1px 3px 1px rgba(60, 64, 67, 0.15);\n",
              "      fill: #174EA6;\n",
              "    }\n",
              "\n",
              "    [theme=dark] .colab-df-convert {\n",
              "      background-color: #3B4455;\n",
              "      fill: #D2E3FC;\n",
              "    }\n",
              "\n",
              "    [theme=dark] .colab-df-convert:hover {\n",
              "      background-color: #434B5C;\n",
              "      box-shadow: 0px 1px 3px 1px rgba(0, 0, 0, 0.15);\n",
              "      filter: drop-shadow(0px 1px 2px rgba(0, 0, 0, 0.3));\n",
              "      fill: #FFFFFF;\n",
              "    }\n",
              "  </style>\n",
              "\n",
              "      <script>\n",
              "        const buttonEl =\n",
              "          document.querySelector('#df-5036eea1-6273-43e6-9693-d338299afe12 button.colab-df-convert');\n",
              "        buttonEl.style.display =\n",
              "          google.colab.kernel.accessAllowed ? 'block' : 'none';\n",
              "\n",
              "        async function convertToInteractive(key) {\n",
              "          const element = document.querySelector('#df-5036eea1-6273-43e6-9693-d338299afe12');\n",
              "          const dataTable =\n",
              "            await google.colab.kernel.invokeFunction('convertToInteractive',\n",
              "                                                     [key], {});\n",
              "          if (!dataTable) return;\n",
              "\n",
              "          const docLinkHtml = 'Like what you see? Visit the ' +\n",
              "            '<a target=\"_blank\" href=https://colab.research.google.com/notebooks/data_table.ipynb>data table notebook</a>'\n",
              "            + ' to learn more about interactive tables.';\n",
              "          element.innerHTML = '';\n",
              "          dataTable['output_type'] = 'display_data';\n",
              "          await google.colab.output.renderOutput(dataTable, element);\n",
              "          const docLink = document.createElement('div');\n",
              "          docLink.innerHTML = docLinkHtml;\n",
              "          element.appendChild(docLink);\n",
              "        }\n",
              "      </script>\n",
              "    </div>\n",
              "  </div>\n",
              "  "
            ]
          },
          "metadata": {},
          "execution_count": 4
        }
      ],
      "source": [
        "with open(path + 'data/' + transcript_file_name, 'r') as fo:\n",
        "    transcript_text = fo.read()\n",
        "    \n",
        "def load_transcript_into_dataframe(transcript):\n",
        "    transcript_lines = transcript.split('\\n')\n",
        "    processed_list = []\n",
        "    for line in transcript_lines :\n",
        "        if len(line.split(':')) > 1 :\n",
        "            speaker = line.split(':')[0]\n",
        "            speaker = speaker.strip()\n",
        "            speaker = ('').join(speaker.split(' '))\n",
        "            speech = (':').join(line.split(':')[1:])\n",
        "            line_obj = { 'speaker' : speaker, 'speech_turn' : speech}\n",
        "            processed_list.append(line_obj)\n",
        "        else :\n",
        "            speaker = processed_list[-1]['speaker']\n",
        "            speaker = speaker.strip()\n",
        "            speaker = ('').join(speaker.split(' '))\n",
        "            speech = processed_list[-1]['speech_turn']\n",
        "            new_speech = speech + ' ' + line\n",
        "            processed_list[-1]['speech_turn'] = new_speech\n",
        "    df = pd.DataFrame(processed_list)\n",
        "    return df\n",
        "\n",
        "transcript_df = load_transcript_into_dataframe(transcript_text)\n",
        "transcript_df.sample(3)"
      ]
    },
    {
      "cell_type": "markdown",
      "id": "105ac62f",
      "metadata": {
        "id": "105ac62f"
      },
      "source": [
        "# LIWC Functions\n",
        "The below cell is a set of functions that (very) slightly modified from [Chris Brown's LIWC analysis library](https://github.com/chbrown/liwc-python). It works the same way as his library is supposed to work, but edited here to address what seems to be encoding errors. Ignore the next cell for all practical purposes."
      ]
    },
    {
      "cell_type": "code",
      "execution_count": 5,
      "id": "627b9190",
      "metadata": {
        "id": "627b9190"
      },
      "outputs": [],
      "source": [
        "def tokenize(text):\n",
        "    # you may want to use a smarter tokenizer\n",
        "    for match in re.finditer(r'\\w+', text, re.UNICODE):\n",
        "        yield match.group(0)\n",
        "        \n",
        "def _parse_categories(lines):\n",
        "    \"\"\"\n",
        "    Read (category_id, category_name) pairs from the categories section.\n",
        "    Each line consists of an integer followed a tab and then the category name.\n",
        "    This section is separated from the lexicon by a line consisting of a single \"%\".\n",
        "    \"\"\"\n",
        "    for line in lines:\n",
        "        line = line.strip()\n",
        "        if '%' in line:\n",
        "            return\n",
        "        # ignore non-matching groups of categories\n",
        "        if \"\\t\" in line:\n",
        "            category_id, category_name = line.split(\"\\t\", 1) # ORIGINAL\n",
        "            yield category_id, category_name\n",
        "\n",
        "\n",
        "def _parse_lexicon(lines, category_mapping):\n",
        "    \"\"\"\n",
        "    Read (match_expression, category_names) pairs from the lexicon section.\n",
        "    Each line consists of a match expression followed by a tab and then one or more\n",
        "    tab-separated integers, which are mapped to category names using `category_mapping`.\n",
        "    \"\"\"\n",
        "    for line in lines:\n",
        "        line = line.strip()\n",
        "        parts = line.split(\"\\t\")\n",
        "        yield parts[0], [category_mapping[category_id] for category_id in parts[1:]]\n",
        "\n",
        "\n",
        "def read_dic(filepath):\n",
        "    \"\"\"\n",
        "    Reads a LIWC lexicon from a file in the .dic format, returning a tuple of\n",
        "    (lexicon, category_names), where:\n",
        "    * `lexicon` is a dict mapping string patterns to lists of category names\n",
        "    * `category_names` is a list of category names (as strings)\n",
        "    \"\"\"\n",
        "    with open(filepath) as lines:\n",
        "        # read up to first \"%\" (should be very first line of file)\n",
        "        for line in lines:\n",
        "            if '%' in line:\n",
        "                break\n",
        "        # read categories (a mapping from integer string to category name)\n",
        "        category_mapping = dict(_parse_categories(lines))\n",
        "        # read lexicon (a mapping from matching string to a list of category names)\n",
        "        lexicon = dict(_parse_lexicon(lines, category_mapping))\n",
        "    return lexicon, list(category_mapping.values())\n",
        "\n",
        "def build_trie(lexicon):\n",
        "    \"\"\"\n",
        "    Build a character-trie from the plain pattern_string -> categories_list\n",
        "    mapping provided by `lexicon`.\n",
        "    Some LIWC patterns end with a `*` to indicate a wildcard match.\n",
        "    \"\"\"\n",
        "    trie = {}\n",
        "    for pattern, category_names in lexicon.items():\n",
        "        cursor = trie\n",
        "        for char in pattern:\n",
        "            if char == \"*\":\n",
        "                cursor[\"*\"] = category_names\n",
        "                break\n",
        "            if char not in cursor:\n",
        "                cursor[char] = {}\n",
        "            cursor = cursor[char]\n",
        "        cursor[\"$\"] = category_names\n",
        "    return trie\n",
        "\n",
        "\n",
        "def search_trie(trie, token, token_i=0):\n",
        "    \"\"\"\n",
        "    Search the given character-trie for paths that match the `token` string.\n",
        "    \"\"\"\n",
        "    if \"*\" in trie:\n",
        "        return trie[\"*\"]\n",
        "    if \"$\" in trie and token_i == len(token):\n",
        "        return trie[\"$\"]\n",
        "    if token_i < len(token):\n",
        "        char = token[token_i]\n",
        "        if char in trie:\n",
        "            return search_trie(trie[char], token, token_i + 1)\n",
        "    return []\n",
        "\n",
        "def load_token_parser(filepath):\n",
        "    \"\"\"\n",
        "    Reads a LIWC lexicon from a file in the .dic format, returning a tuple of\n",
        "    (parse, category_names), where:\n",
        "    * `parse` is a function from a token to a list of strings (potentially\n",
        "      empty) of matching categories\n",
        "    * `category_names` is a list of strings representing all LIWC categories in\n",
        "      the lexicon\n",
        "    \"\"\"\n",
        "    lexicon, category_names = read_dic(filepath)\n",
        "    trie = build_trie(lexicon)\n",
        "\n",
        "    def parse_token(token):\n",
        "        for category_name in search_trie(trie, token):\n",
        "            yield category_name\n",
        "\n",
        "    return parse_token, category_names"
      ]
    },
    {
      "cell_type": "markdown",
      "id": "8f43f045",
      "metadata": {
        "id": "8f43f045"
      },
      "source": [
        "## Load the LIWC Dictionary\n",
        "This loads the dictionary specified at the start of this notebook."
      ]
    },
    {
      "cell_type": "code",
      "execution_count": 6,
      "id": "af1e558d",
      "metadata": {
        "id": "af1e558d"
      },
      "outputs": [],
      "source": [
        "parse, category_names = load_token_parser(path + 'liwc-dictionaries/' + liwc_dictionary)\n",
        "lexicon, cat_names = read_dic(path + 'liwc-dictionaries/' + liwc_dictionary)"
      ]
    },
    {
      "cell_type": "code",
      "execution_count": 7,
      "id": "4b04ae14",
      "metadata": {
        "id": "4b04ae14"
      },
      "outputs": [],
      "source": [
        "lex_keys = lexicon.keys()\n",
        "\n",
        "liwc_dic_obj = {}\n",
        "\n",
        "for cat in category_names:\n",
        "    cat_words = [key for key in lex_keys if cat in lexicon[key]]\n",
        "    liwc_dic_obj[cat] = cat_words"
      ]
    },
    {
      "cell_type": "markdown",
      "id": "19e16d1e",
      "metadata": {
        "id": "19e16d1e"
      },
      "source": [
        "## Count LIWC Dictionary Term Occurence in Transcript\n",
        "The function `analyse_turns_liwc` below uses the loaded LIWC dictionary to analyse the provided transcript. Every turn in the transcript is checked against the words in every category in the LIWC dictionary. In the default dictionary, only one category is provided, i.e., `CausalThinking`. However it is possible for a dictionary file to have more than one category.\n",
        "\n",
        "The function then plots the number of word matches in each turn in a bar chart, coloured by speaker."
      ]
    },
    {
      "cell_type": "code",
      "execution_count": 8,
      "id": "c8f135ca",
      "metadata": {
        "id": "c8f135ca"
      },
      "outputs": [],
      "source": [
        "nlp = spacy.load(\"en_core_web_sm\")\n",
        "\n",
        "def plot_turns(liwc_df, speech_turns, speaker, speaker_order):\n",
        "    unique_categories = list(set(list(liwc_df[liwc_df['Category'] != 'None']['Category'])))\n",
        "    for unique_category in unique_categories :\n",
        "        liwc_cat_df = liwc_df[(liwc_df['Category'] == unique_category) | (liwc_df['Category'] == 'None')] \n",
        "        fig = plt.figure(figsize=[round(len(speech_turns)/10),2], dpi=300)\n",
        "        col = sns.color_palette(\"Set2\")\n",
        "        sns.set_style('ticks', {'axes.linewidth': 0.5, 'axes.edgecolor':'grey', 'axes.spinecolor' : 'grey'})\n",
        "        sns.set_context('paper', font_scale = 1)\n",
        "        ax = sns.barplot(x=\"Turn Index\", y=\"Count\", data=liwc_cat_df, hue='Speaker', palette ='Set2', linewidth=0)\n",
        "        loc = ticker.MultipleLocator(base=10) # this locator puts ticks at regular intervals\n",
        "        ax.xaxis.set_major_locator(loc)\n",
        "        ax.set_title('LIWC category matches for ' + speaker)\n",
        "        num_speakers = len(set(speaker_order))\n",
        "        legend_columns = round(num_speakers/4) + 1\n",
        "        plt.legend(loc='best', ncol=legend_columns, borderaxespad=0.15, framealpha=0.4)\n",
        "        plt.savefig('../plots/liwc_'+ transcript_file_name.split('.txt')[0] + '.pdf', bbox_inches='tight')\n",
        "        plt.show()\n",
        "    \n",
        "def analyse_turns_liwc(df, speaker='All'):\n",
        "    if not type(speaker) == str :\n",
        "        print('Please make sure to enter only ONE speaker, or \"All\" for all speakers.')\n",
        "        return\n",
        "        \n",
        "    all_speakers = list(set(list(df['speaker'])))\n",
        "    \n",
        "    if speaker == 'All' :\n",
        "        speakers = all_speakers\n",
        "        speech_turns = df['speech_turn']\n",
        "        speaker_order = df['speaker']\n",
        "    else :\n",
        "        if not speaker in all_speakers :\n",
        "            print('The speaker entered is not in the transcript. Please check and try again.')\n",
        "            return\n",
        "        else :\n",
        "            speech_turns = df[df['speaker'] == speaker]['speech_turn']\n",
        "            speaker_order = df[df['speaker'] == speaker]['speaker']\n",
        "            \n",
        "    liwc_obj_list = []\n",
        "    for ind, speech_turn in enumerate(speech_turns) :\n",
        "        speech_turn_tokens = [token.text for token in nlp(speech_turn) if not (token.is_space or token.is_punct)]\n",
        "        turn_counts = Counter(category for token in speech_turn_tokens for category in parse(token))\n",
        "        \n",
        "        if len(turn_counts) == 0 :\n",
        "            val = 0\n",
        "            liwc_obj = {\n",
        "                             'Speaker' : speaker_order[ind],\n",
        "                             'Turn' : speech_turn,\n",
        "                             'Turn Index' : ind,\n",
        "                             'Category' : 'None',\n",
        "                             'Count' : val,\n",
        "                        }\n",
        "            liwc_obj_list.append(liwc_obj)\n",
        "            continue\n",
        "            \n",
        "        for cat in list(turn_counts.keys()) :\n",
        "            val = turn_counts[cat]\n",
        "            liwc_obj = {\n",
        "                             'Speaker' : speaker_order[ind],\n",
        "                             'Turn' : speech_turn,\n",
        "                             'Turn Index' : ind,\n",
        "                             'Category' : cat,\n",
        "                             'Count' : val,\n",
        "                        }\n",
        "            liwc_obj_list.append(liwc_obj)\n",
        "    \n",
        "    liwc_df = pd.DataFrame(liwc_obj_list)\n",
        "    plot_turns(liwc_df, speech_turns, speaker, speaker_order)\n",
        "            \n",
        "    \n",
        "    return liwc_df"
      ]
    },
    {
      "cell_type": "code",
      "execution_count": 9,
      "id": "8f619c24",
      "metadata": {
        "id": "8f619c24",
        "outputId": "67256600-4a29-40bf-cea7-26074b1e77f8",
        "colab": {
          "base_uri": "https://localhost:8080/",
          "height": 270
        }
      },
      "outputs": [
        {
          "output_type": "display_data",
          "data": {
            "text/plain": [
              "<Figure size 4500x600 with 1 Axes>"
            ],
            "image/png": "[encoded data removed]"
          },
          "metadata": {
            "needs_background": "light"
          }
        }
      ],
      "source": [
        "analysed_df = analyse_turns_liwc(transcript_df) "
      ]
    },
    {
      "cell_type": "code",
      "execution_count": 10,
      "id": "4f12bbc4",
      "metadata": {
        "id": "4f12bbc4",
        "outputId": "68b8106d-1407-488b-da83-973d652e5f66",
        "colab": {
          "base_uri": "https://localhost:8080/",
          "height": 206
        }
      },
      "outputs": [
        {
          "output_type": "execute_result",
          "data": {
            "text/plain": [
              "   Speaker                                               Turn  Turn Index  \\\n",
              "20    Dana                                           Yea yea.          20   \n",
              "99   Annie   [Yeah, maybe we should] change the [creativit...          99   \n",
              "29    Dana   >So it's nice that it made a sentence out of it<          29   \n",
              "53   Annie   But maybe let's continue with this <typical c...          53   \n",
              "54    Dana                                     Yea (.) Oh(h)h          54   \n",
              "\n",
              "          Category  Count  \n",
              "20            None      0  \n",
              "99  CausalThinking      3  \n",
              "29  CausalThinking      1  \n",
              "53            None      0  \n",
              "54            None      0  "
            ],
            "text/html": [
              "\n",
              "  <div id=\"df-8dc5e0b2-05f6-4448-8eb8-298f5f0e7077\">\n",
              "    <div class=\"colab-df-container\">\n",
              "      <div>\n",
              "<style scoped>\n",
              "    .dataframe tbody tr th:only-of-type {\n",
              "        vertical-align: middle;\n",
              "    }\n",
              "\n",
              "    .dataframe tbody tr th {\n",
              "        vertical-align: top;\n",
              "    }\n",
              "\n",
              "    .dataframe thead th {\n",
              "        text-align: right;\n",
              "    }\n",
              "</style>\n",
              "<table border=\"1\" class=\"dataframe\">\n",
              "  <thead>\n",
              "    <tr style=\"text-align: right;\">\n",
              "      <th></th>\n",
              "      <th>Speaker</th>\n",
              "      <th>Turn</th>\n",
              "      <th>Turn Index</th>\n",
              "      <th>Category</th>\n",
              "      <th>Count</th>\n",
              "    </tr>\n",
              "  </thead>\n",
              "  <tbody>\n",
              "    <tr>\n",
              "      <th>20</th>\n",
              "      <td>Dana</td>\n",
              "      <td>Yea yea.</td>\n",
              "      <td>20</td>\n",
              "      <td>None</td>\n",
              "      <td>0</td>\n",
              "    </tr>\n",
              "    <tr>\n",
              "      <th>99</th>\n",
              "      <td>Annie</td>\n",
              "      <td>[Yeah, maybe we should] change the [creativit...</td>\n",
              "      <td>99</td>\n",
              "      <td>CausalThinking</td>\n",
              "      <td>3</td>\n",
              "    </tr>\n",
              "    <tr>\n",
              "      <th>29</th>\n",
              "      <td>Dana</td>\n",
              "      <td>&gt;So it's nice that it made a sentence out of it&lt;</td>\n",
              "      <td>29</td>\n",
              "      <td>CausalThinking</td>\n",
              "      <td>1</td>\n",
              "    </tr>\n",
              "    <tr>\n",
              "      <th>53</th>\n",
              "      <td>Annie</td>\n",
              "      <td>But maybe let's continue with this &lt;typical c...</td>\n",
              "      <td>53</td>\n",
              "      <td>None</td>\n",
              "      <td>0</td>\n",
              "    </tr>\n",
              "    <tr>\n",
              "      <th>54</th>\n",
              "      <td>Dana</td>\n",
              "      <td>Yea (.) Oh(h)h</td>\n",
              "      <td>54</td>\n",
              "      <td>None</td>\n",
              "      <td>0</td>\n",
              "    </tr>\n",
              "  </tbody>\n",
              "</table>\n",
              "</div>\n",
              "      <button class=\"colab-df-convert\" onclick=\"convertToInteractive('df-8dc5e0b2-05f6-4448-8eb8-298f5f0e7077')\"\n",
              "              title=\"Convert this dataframe to an interactive table.\"\n",
              "              style=\"display:none;\">\n",
              "        \n",
              "  <svg xmlns=\"http://www.w3.org/2000/svg\" height=\"24px\"viewBox=\"0 0 24 24\"\n",
              "       width=\"24px\">\n",
              "    <path d=\"M0 0h24v24H0V0z\" fill=\"none\"/>\n",
              "    <path d=\"M18.56 5.44l.94 2.06.94-2.06 2.06-.94-2.06-.94-.94-2.06-.94 2.06-2.06.94zm-11 1L8.5 8.5l.94-2.06 2.06-.94-2.06-.94L8.5 2.5l-.94 2.06-2.06.94zm10 10l.94 2.06.94-2.06 2.06-.94-2.06-.94-.94-2.06-.94 2.06-2.06.94z\"/><path d=\"M17.41 7.96l-1.37-1.37c-.4-.4-.92-.59-1.43-.59-.52 0-1.04.2-1.43.59L10.3 9.45l-7.72 7.72c-.78.78-.78 2.05 0 2.83L4 21.41c.39.39.9.59 1.41.59.51 0 1.02-.2 1.41-.59l7.78-7.78 2.81-2.81c.8-.78.8-2.07 0-2.86zM5.41 20L4 18.59l7.72-7.72 1.47 1.35L5.41 20z\"/>\n",
              "  </svg>\n",
              "      </button>\n",
              "      \n",
              "  <style>\n",
              "    .colab-df-container {\n",
              "      display:flex;\n",
              "      flex-wrap:wrap;\n",
              "      gap: 12px;\n",
              "    }\n",
              "\n",
              "    .colab-df-convert {\n",
              "      background-color: #E8F0FE;\n",
              "      border: none;\n",
              "      border-radius: 50%;\n",
              "      cursor: pointer;\n",
              "      display: none;\n",
              "      fill: #1967D2;\n",
              "      height: 32px;\n",
              "      padding: 0 0 0 0;\n",
              "      width: 32px;\n",
              "    }\n",
              "\n",
              "    .colab-df-convert:hover {\n",
              "      background-color: #E2EBFA;\n",
              "      box-shadow: 0px 1px 2px rgba(60, 64, 67, 0.3), 0px 1px 3px 1px rgba(60, 64, 67, 0.15);\n",
              "      fill: #174EA6;\n",
              "    }\n",
              "\n",
              "    [theme=dark] .colab-df-convert {\n",
              "      background-color: #3B4455;\n",
              "      fill: #D2E3FC;\n",
              "    }\n",
              "\n",
              "    [theme=dark] .colab-df-convert:hover {\n",
              "      background-color: #434B5C;\n",
              "      box-shadow: 0px 1px 3px 1px rgba(0, 0, 0, 0.15);\n",
              "      filter: drop-shadow(0px 1px 2px rgba(0, 0, 0, 0.3));\n",
              "      fill: #FFFFFF;\n",
              "    }\n",
              "  </style>\n",
              "\n",
              "      <script>\n",
              "        const buttonEl =\n",
              "          document.querySelector('#df-8dc5e0b2-05f6-4448-8eb8-298f5f0e7077 button.colab-df-convert');\n",
              "        buttonEl.style.display =\n",
              "          google.colab.kernel.accessAllowed ? 'block' : 'none';\n",
              "\n",
              "        async function convertToInteractive(key) {\n",
              "          const element = document.querySelector('#df-8dc5e0b2-05f6-4448-8eb8-298f5f0e7077');\n",
              "          const dataTable =\n",
              "            await google.colab.kernel.invokeFunction('convertToInteractive',\n",
              "                                                     [key], {});\n",
              "          if (!dataTable) return;\n",
              "\n",
              "          const docLinkHtml = 'Like what you see? Visit the ' +\n",
              "            '<a target=\"_blank\" href=https://colab.research.google.com/notebooks/data_table.ipynb>data table notebook</a>'\n",
              "            + ' to learn more about interactive tables.';\n",
              "          element.innerHTML = '';\n",
              "          dataTable['output_type'] = 'display_data';\n",
              "          await google.colab.output.renderOutput(dataTable, element);\n",
              "          const docLink = document.createElement('div');\n",
              "          docLink.innerHTML = docLinkHtml;\n",
              "          element.appendChild(docLink);\n",
              "        }\n",
              "      </script>\n",
              "    </div>\n",
              "  </div>\n",
              "  "
            ]
          },
          "metadata": {},
          "execution_count": 10
        }
      ],
      "source": [
        "analysed_df.sample(5)"
      ]
    },
    {
      "cell_type": "code",
      "execution_count": 11,
      "id": "de4a0224",
      "metadata": {
        "id": "de4a0224"
      },
      "outputs": [],
      "source": [
        "def make_regex(lex_list):\n",
        "    separator = '\\\\b|\\\\b'\n",
        "    reg_string = separator.join(lex_list)\n",
        "    reg_string_whole_word = \"\\\\b\" + reg_string + \"\\\\b\"\n",
        "    return reg_string_whole_word\n",
        "\n",
        "def count_lexicon_terms(sentence, lexicon):\n",
        "    reg_str = make_regex(lexicon)\n",
        "    num_matches = len(list(re.finditer(reg_str, sentence)))\n",
        "    return num_matches\n",
        "\n",
        "def count_words(sentence):\n",
        "    words = sentence.split()\n",
        "    return len(words)\n",
        "\n",
        "def match_lexicon_terms(sentence, lexicon):\n",
        "    reg_str = make_regex(lexicon)\n",
        "    reg_matches = re.findall(reg_str, sentence.lower())\n",
        "    reg_split = re.split(reg_str, sentence.lower())\n",
        "    ind = 0\n",
        "    matched_print = \"\"\n",
        "    for split_string in reg_split:\n",
        "        if ind == len(reg_matches) :\n",
        "            str_to_concat = split_string\n",
        "        else :\n",
        "            str_to_concat = split_string + '**' + reg_matches[ind] + '**'\n",
        "            ind += 1\n",
        "        matched_print += str_to_concat\n",
        "    return matched_print\n",
        "\n",
        "def print_lines(df, dict_terms, start, num_lines=10):\n",
        "    speakers_list = list(df['speaker'])\n",
        "    turns = list(df['speech_turn'])\n",
        "    end = start + num_lines\n",
        "    for ind, line in enumerate(turns[start:end]) :\n",
        "        index = ind + start\n",
        "        line_matched = match_lexicon_terms(line, dict_terms)\n",
        "        print(str(index)+' : ', end='')\n",
        "        print(speakers_list[index])\n",
        "        printmd(line_matched)\n",
        "        print('----------')"
      ]
    },
    {
      "cell_type": "markdown",
      "id": "83ee5e59",
      "metadata": {
        "id": "83ee5e59"
      },
      "source": [
        "## Examine the Transcript in Detail\n",
        "Based on the chart plotted, we can now use the function `print_lines` below to examine a sequence of terms such that all matching terms that fit a category are highlighted."
      ]
    },
    {
      "cell_type": "code",
      "execution_count": 12,
      "id": "b6558576",
      "metadata": {
        "id": "b6558576",
        "outputId": "3cfee8ab-ed8a-41d3-bb67-f23ce5e7a01e",
        "colab": {
          "base_uri": "https://localhost:8080/"
        }
      },
      "outputs": [
        {
          "output_type": "execute_result",
          "data": {
            "text/plain": [
              "['CausalThinking']"
            ]
          },
          "metadata": {},
          "execution_count": 12
        }
      ],
      "source": [
        "categories = list(liwc_dic_obj.keys())\n",
        "categories"
      ]
    },
    {
      "cell_type": "code",
      "execution_count": 13,
      "id": "3463a681",
      "metadata": {
        "id": "3463a681"
      },
      "outputs": [],
      "source": [
        "category = 'CausalThinking'"
      ]
    },
    {
      "cell_type": "code",
      "execution_count": 14,
      "id": "e8319812",
      "metadata": {
        "id": "e8319812",
        "outputId": "9295d5f5-08f7-45af-db64-dfa9f0a6b6ee",
        "colab": {
          "base_uri": "https://localhost:8080/",
          "height": 419
        }
      },
      "outputs": [
        {
          "output_type": "stream",
          "name": "stdout",
          "text": [
            "55 : Annie\n"
          ]
        },
        {
          "output_type": "display_data",
          "data": {
            "text/plain": [
              "<IPython.core.display.Markdown object>"
            ],
            "text/markdown": " what::↓"
          },
          "metadata": {}
        },
        {
          "output_type": "stream",
          "name": "stdout",
          "text": [
            "----------\n",
            "56 : Dana\n"
          ]
        },
        {
          "output_type": "display_data",
          "data": {
            "text/plain": [
              "<IPython.core.display.Markdown object>"
            ],
            "text/markdown": " i think you should start the last sentence (.) i thought ↑ that he was going to do that"
          },
          "metadata": {}
        },
        {
          "output_type": "stream",
          "name": "stdout",
          "text": [
            "----------\n",
            "57 : Annie\n"
          ]
        },
        {
          "output_type": "display_data",
          "data": {
            "text/plain": [
              "<IPython.core.display.Markdown object>"
            ],
            "text/markdown": " yeah. that's that’s↑**how** it worked last time"
          },
          "metadata": {}
        },
        {
          "output_type": "stream",
          "name": "stdout",
          "text": [
            "----------\n",
            "58 : Dana\n"
          ]
        },
        {
          "output_type": "display_data",
          "data": {
            "text/plain": [
              "<IPython.core.display.Markdown object>"
            ],
            "text/markdown": " oh (3.0)  i can just tell it's time to break out <those hose or water cannons again> ↓, this was just too much to take (.) i don't know if you ever **used** one of these in your garden (.) but when you never **used** one typical celebration of the (.) it's weird"
          },
          "metadata": {}
        },
        {
          "output_type": "stream",
          "name": "stdout",
          "text": [
            "----------\n",
            "59 : Annie\n"
          ]
        },
        {
          "output_type": "display_data",
          "data": {
            "text/plain": [
              "<IPython.core.display.Markdown object>"
            ],
            "text/markdown": " yeah, i think it's just **generating** text ↓"
          },
          "metadata": {}
        },
        {
          "output_type": "stream",
          "name": "stdout",
          "text": [
            "----------\n",
            "60 : Annie\n"
          ]
        },
        {
          "output_type": "display_data",
          "data": {
            "text/plain": [
              "<IPython.core.display.Markdown object>"
            ],
            "text/markdown": " i think i will know. see if you **pick** words from. yeah, "
          },
          "metadata": {}
        },
        {
          "output_type": "stream",
          "name": "stdout",
          "text": [
            "----------\n"
          ]
        }
      ],
      "source": [
        "liwc_terms = liwc_dic_obj[category]\n",
        "print_lines(transcript_df, liwc_terms, 55, num_lines=6)"
      ]
    },
    {
      "cell_type": "code",
      "execution_count": 14,
      "id": "ffa02a9e",
      "metadata": {
        "id": "ffa02a9e"
      },
      "outputs": [],
      "source": [
        ""
      ]
    }
  ],
  "metadata": {
    "kernelspec": {
      "display_name": "Python 3",
      "language": "python",
      "name": "python3"
    },
    "language_info": {
      "codemirror_mode": {
        "name": "ipython",
        "version": 3
      },
      "file_extension": ".py",
      "mimetype": "text/x-python",
      "name": "python",
      "nbconvert_exporter": "python",
      "pygments_lexer": "ipython3",
      "version": "3.9.4"
    },
    "colab": {
      "name": "LIWC_Analysis.ipynb",
      "provenance": [],
      "include_colab_link": true
    }
  },
  "nbformat": 4,
  "nbformat_minor": 5
}
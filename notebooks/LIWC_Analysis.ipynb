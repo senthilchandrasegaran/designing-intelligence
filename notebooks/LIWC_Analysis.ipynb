{
 "cells": [
  {
   "cell_type": "markdown",
   "id": "ce64ac55",
   "metadata": {},
   "source": [
    "# LIWC Analysis of Transcript with Speaker Identifiers\n",
    "Preferred Transcript format:\n",
    "\n",
    "    Speaker1: speech turn.\n",
    "    Speaker2: speech turn.\n",
    "   \n",
    "Note: `Speaker1` and `Speaker2` are preferably single strings with no space in between. The separation between the speaker and the speech turn should be a colon (Dutch: doublepunt)."
   ]
  },
  {
   "cell_type": "markdown",
   "id": "986f29b7",
   "metadata": {},
   "source": [
    "## Set up the Notebook\n",
    "Since you are likely to run the notebook using Colab, you do not have to do change anything in the cell(s) below. However, if you plan to clone this repository and run it locally, please edit the cell below according to the instructions in the comments."
   ]
  },
  {
   "cell_type": "code",
   "execution_count": 1,
   "id": "3e7eb8e9",
   "metadata": {},
   "outputs": [],
   "source": [
    "environment = 'local'\n",
    "\n",
    "# Comment out the lines below until the line marked with '#---'\n",
    "# !git clone https://github.com/senthilchandrasegaran/designing-intelligence\n",
    "# %cd /content/designing-intelligence/notebooks/\n",
    "# !git pull\n",
    "# environment = 'colab'\n",
    "#---\n",
    "\n",
    "if environment == 'colab' :\n",
    "    path = '/content/designing-intelligence/'\n",
    "else :\n",
    "    path = '../'\n",
    "\n",
    "import re\n",
    "import spacy\n",
    "import itertools\n",
    "import math\n",
    "import warnings\n",
    "\n",
    "import matplotlib.pyplot as plt\n",
    "import matplotlib.ticker as ticker\n",
    "import numpy as np\n",
    "import pandas as pd\n",
    "import pprint as pp\n",
    "import seaborn as sns\n",
    "\n",
    "from collections import Counter\n",
    "from IPython.display import Markdown, display\n",
    "from matplotlib import rcParams\n",
    "from spacy.lookups import Lookups\n",
    "from spacy.lang.en import English\n",
    "\n",
    "warnings.filterwarnings('ignore')\n",
    "\n",
    "from IPython.display import Markdown, display"
   ]
  },
  {
   "cell_type": "code",
   "execution_count": 2,
   "id": "42179001",
   "metadata": {},
   "outputs": [],
   "source": [
    "# Function to print output as markdown text (allows for some text decoration)\n",
    "def printmd(string):\n",
    "    display(Markdown(string))"
   ]
  },
  {
   "cell_type": "markdown",
   "id": "a76e08a6",
   "metadata": {},
   "source": [
    "## Read the Transcript\n",
    "For now, this notebook is set up to read the transcript as a text file. Please refer to the sample transcript in the 'data' folder to see what it looks like. The cells below read the transcript and print it out for verification."
   ]
  },
  {
   "cell_type": "code",
   "execution_count": 3,
   "id": "74305d9d",
   "metadata": {},
   "outputs": [],
   "source": [
    "transcript_file_name = 'transcript-dana-annie.txt'\n",
    "liwc_dictionary = 'causal-thinking.dic'"
   ]
  },
  {
   "cell_type": "code",
   "execution_count": 4,
   "id": "26a99f49",
   "metadata": {},
   "outputs": [
    {
     "data": {
      "text/html": [
       "<div>\n",
       "<style scoped>\n",
       "    .dataframe tbody tr th:only-of-type {\n",
       "        vertical-align: middle;\n",
       "    }\n",
       "\n",
       "    .dataframe tbody tr th {\n",
       "        vertical-align: top;\n",
       "    }\n",
       "\n",
       "    .dataframe thead th {\n",
       "        text-align: right;\n",
       "    }\n",
       "</style>\n",
       "<table border=\"1\" class=\"dataframe\">\n",
       "  <thead>\n",
       "    <tr style=\"text-align: right;\">\n",
       "      <th></th>\n",
       "      <th>speaker</th>\n",
       "      <th>speech_turn</th>\n",
       "    </tr>\n",
       "  </thead>\n",
       "  <tbody>\n",
       "    <tr>\n",
       "      <th>98</th>\n",
       "      <td>Dana</td>\n",
       "      <td>[Yeah. Maybe we should</td>\n",
       "    </tr>\n",
       "    <tr>\n",
       "      <th>10</th>\n",
       "      <td>Dana</td>\n",
       "      <td>It's just making a words ((laughing))</td>\n",
       "    </tr>\n",
       "    <tr>\n",
       "      <th>96</th>\n",
       "      <td>Dana</td>\n",
       "      <td>So now it's just giving information again. What</td>\n",
       "    </tr>\n",
       "  </tbody>\n",
       "</table>\n",
       "</div>"
      ],
      "text/plain": [
       "   speaker                                        speech_turn\n",
       "98    Dana                             [Yeah. Maybe we should\n",
       "10    Dana              It's just making a words ((laughing))\n",
       "96    Dana   So now it's just giving information again. What "
      ]
     },
     "execution_count": 4,
     "metadata": {},
     "output_type": "execute_result"
    }
   ],
   "source": [
    "with open(path + 'data/' + transcript_file_name, 'r') as fo:\n",
    "    transcript_text = fo.read()\n",
    "    \n",
    "def load_transcript_into_dataframe(transcript):\n",
    "    transcript_lines = transcript.split('\\n')\n",
    "    processed_list = []\n",
    "    for line in transcript_lines :\n",
    "        if len(line.split(':')) > 1 :\n",
    "            speaker = line.split(':')[0]\n",
    "            speaker = speaker.strip()\n",
    "            speaker = ('').join(speaker.split(' '))\n",
    "            speech = (':').join(line.split(':')[1:])\n",
    "            line_obj = { 'speaker' : speaker, 'speech_turn' : speech}\n",
    "            processed_list.append(line_obj)\n",
    "        else :\n",
    "            speaker = processed_list[-1]['speaker']\n",
    "            speaker = speaker.strip()\n",
    "            speaker = ('').join(speaker.split(' '))\n",
    "            speech = processed_list[-1]['speech_turn']\n",
    "            new_speech = speech + ' ' + line\n",
    "            processed_list[-1]['speech_turn'] = new_speech\n",
    "    df = pd.DataFrame(processed_list)\n",
    "    return df\n",
    "\n",
    "transcript_df = load_transcript_into_dataframe(transcript_text)\n",
    "transcript_df.sample(3)"
   ]
  },
  {
   "cell_type": "markdown",
   "id": "105ac62f",
   "metadata": {},
   "source": [
    "# LIWC Functions\n",
    "The below cell is a set of functions that (very) slightly modified from [Chris Brown's LIWC analysis library](https://github.com/chbrown/liwc-python). It works the same way as his library is supposed to work, but edited here to address what seems to be encoding errors. Ignore the next cell for all practical purposes."
   ]
  },
  {
   "cell_type": "code",
   "execution_count": 5,
   "id": "627b9190",
   "metadata": {},
   "outputs": [],
   "source": [
    "def tokenize(text):\n",
    "    # you may want to use a smarter tokenizer\n",
    "    for match in re.finditer(r'\\w+', text, re.UNICODE):\n",
    "        yield match.group(0)\n",
    "        \n",
    "def _parse_categories(lines):\n",
    "    \"\"\"\n",
    "    Read (category_id, category_name) pairs from the categories section.\n",
    "    Each line consists of an integer followed a tab and then the category name.\n",
    "    This section is separated from the lexicon by a line consisting of a single \"%\".\n",
    "    \"\"\"\n",
    "    for line in lines:\n",
    "        line = line.strip()\n",
    "        if '%' in line:\n",
    "            return\n",
    "        # ignore non-matching groups of categories\n",
    "        if \"\\t\" in line:\n",
    "            category_id, category_name = line.split(\"\\t\", 1) # ORIGINAL\n",
    "            yield category_id, category_name\n",
    "\n",
    "\n",
    "def _parse_lexicon(lines, category_mapping):\n",
    "    \"\"\"\n",
    "    Read (match_expression, category_names) pairs from the lexicon section.\n",
    "    Each line consists of a match expression followed by a tab and then one or more\n",
    "    tab-separated integers, which are mapped to category names using `category_mapping`.\n",
    "    \"\"\"\n",
    "    for line in lines:\n",
    "        line = line.strip()\n",
    "        parts = line.split(\"\\t\")\n",
    "        yield parts[0], [category_mapping[category_id] for category_id in parts[1:]]\n",
    "\n",
    "\n",
    "def read_dic(filepath):\n",
    "    \"\"\"\n",
    "    Reads a LIWC lexicon from a file in the .dic format, returning a tuple of\n",
    "    (lexicon, category_names), where:\n",
    "    * `lexicon` is a dict mapping string patterns to lists of category names\n",
    "    * `category_names` is a list of category names (as strings)\n",
    "    \"\"\"\n",
    "    with open(filepath) as lines:\n",
    "        # read up to first \"%\" (should be very first line of file)\n",
    "        for line in lines:\n",
    "            if '%' in line:\n",
    "                break\n",
    "        # read categories (a mapping from integer string to category name)\n",
    "        category_mapping = dict(_parse_categories(lines))\n",
    "        # read lexicon (a mapping from matching string to a list of category names)\n",
    "        lexicon = dict(_parse_lexicon(lines, category_mapping))\n",
    "    return lexicon, list(category_mapping.values())\n",
    "\n",
    "def build_trie(lexicon):\n",
    "    \"\"\"\n",
    "    Build a character-trie from the plain pattern_string -> categories_list\n",
    "    mapping provided by `lexicon`.\n",
    "    Some LIWC patterns end with a `*` to indicate a wildcard match.\n",
    "    \"\"\"\n",
    "    trie = {}\n",
    "    for pattern, category_names in lexicon.items():\n",
    "        cursor = trie\n",
    "        for char in pattern:\n",
    "            if char == \"*\":\n",
    "                cursor[\"*\"] = category_names\n",
    "                break\n",
    "            if char not in cursor:\n",
    "                cursor[char] = {}\n",
    "            cursor = cursor[char]\n",
    "        cursor[\"$\"] = category_names\n",
    "    return trie\n",
    "\n",
    "\n",
    "def search_trie(trie, token, token_i=0):\n",
    "    \"\"\"\n",
    "    Search the given character-trie for paths that match the `token` string.\n",
    "    \"\"\"\n",
    "    if \"*\" in trie:\n",
    "        return trie[\"*\"]\n",
    "    if \"$\" in trie and token_i == len(token):\n",
    "        return trie[\"$\"]\n",
    "    if token_i < len(token):\n",
    "        char = token[token_i]\n",
    "        if char in trie:\n",
    "            return search_trie(trie[char], token, token_i + 1)\n",
    "    return []\n",
    "\n",
    "def load_token_parser(filepath):\n",
    "    \"\"\"\n",
    "    Reads a LIWC lexicon from a file in the .dic format, returning a tuple of\n",
    "    (parse, category_names), where:\n",
    "    * `parse` is a function from a token to a list of strings (potentially\n",
    "      empty) of matching categories\n",
    "    * `category_names` is a list of strings representing all LIWC categories in\n",
    "      the lexicon\n",
    "    \"\"\"\n",
    "    lexicon, category_names = read_dic(filepath)\n",
    "    trie = build_trie(lexicon)\n",
    "\n",
    "    def parse_token(token):\n",
    "        for category_name in search_trie(trie, token):\n",
    "            yield category_name\n",
    "\n",
    "    return parse_token, category_names"
   ]
  },
  {
   "cell_type": "markdown",
   "id": "8f43f045",
   "metadata": {},
   "source": [
    "## Load the LIWC Dictionary\n",
    "This loads the dictionary specified at the start of this notebook."
   ]
  },
  {
   "cell_type": "code",
   "execution_count": 6,
   "id": "af1e558d",
   "metadata": {},
   "outputs": [],
   "source": [
    "parse, category_names = load_token_parser(path + 'liwc-dictionaries/' + liwc_dictionary)\n",
    "lexicon, cat_names = read_dic(path + 'liwc-dictionaries/' + liwc_dictionary)"
   ]
  },
  {
   "cell_type": "code",
   "execution_count": 7,
   "id": "4b04ae14",
   "metadata": {},
   "outputs": [],
   "source": [
    "lex_keys = lexicon.keys()\n",
    "\n",
    "liwc_dic_obj = {}\n",
    "\n",
    "for cat in category_names:\n",
    "    cat_words = [key for key in lex_keys if cat in lexicon[key]]\n",
    "    liwc_dic_obj[cat] = cat_words"
   ]
  },
  {
   "cell_type": "markdown",
   "id": "19e16d1e",
   "metadata": {},
   "source": [
    "## Count LIWC Dictionary Term Occurence in Transcript\n",
    "The function `analyse_turns_liwc` below uses the loaded LIWC dictionary to analyse the provided transcript. Every turn in the transcript is checked against the words in every category in the LIWC dictionary. In the default dictionary, only one category is provided, i.e., `CausalThinking`. However it is possible for a dictionary file to have more than one category.\n",
    "\n",
    "The function then plots the number of word matches in each turn in a bar chart, coloured by speaker."
   ]
  },
  {
   "cell_type": "code",
   "execution_count": 8,
   "id": "c8f135ca",
   "metadata": {},
   "outputs": [],
   "source": [
    "nlp = spacy.load(\"en_core_web_sm\")\n",
    "\n",
    "def plot_turns(liwc_df, speech_turns, speaker, speaker_order):\n",
    "    unique_categories = list(set(list(liwc_df[liwc_df['Category'] != 'None']['Category'])))\n",
    "    for unique_category in unique_categories :\n",
    "        liwc_cat_df = liwc_df[(liwc_df['Category'] == unique_category) | (liwc_df['Category'] == 'None')] \n",
    "        fig = plt.figure(figsize=[round(len(speech_turns)/10),2], dpi=300)\n",
    "        col = sns.color_palette(\"Set2\")\n",
    "        sns.set_style('ticks', {'axes.linewidth': 0.5, 'axes.edgecolor':'grey', 'axes.spinecolor' : 'grey'})\n",
    "        sns.set_context('paper', font_scale = 1)\n",
    "        ax = sns.barplot(x=\"Turn Index\", y=\"Count\", data=liwc_cat_df, hue='Speaker', palette ='Set2', linewidth=0)\n",
    "        loc = ticker.MultipleLocator(base=10) # this locator puts ticks at regular intervals\n",
    "        ax.xaxis.set_major_locator(loc)\n",
    "        ax.set_title('LIWC category matches for ' + speaker)\n",
    "        num_speakers = len(set(speaker_order))\n",
    "        legend_columns = round(num_speakers/4) + 1\n",
    "        plt.legend(loc='best', ncol=legend_columns, borderaxespad=0.15, framealpha=0.4)\n",
    "        plt.savefig('../plots/liwc_'+ transcript_file_name.split('.txt')[0] + '.pdf', bbox_inches='tight')\n",
    "        plt.show()\n",
    "    \n",
    "def analyse_turns_liwc(df, speaker='All'):\n",
    "    if not type(speaker) == str :\n",
    "        print('Please make sure to enter only ONE speaker, or \"All\" for all speakers.')\n",
    "        return\n",
    "        \n",
    "    all_speakers = list(set(list(df['speaker'])))\n",
    "    \n",
    "    if speaker == 'All' :\n",
    "        speakers = all_speakers\n",
    "        speech_turns = df['speech_turn']\n",
    "        speaker_order = df['speaker']\n",
    "    else :\n",
    "        if not speaker in all_speakers :\n",
    "            print('The speaker entered is not in the transcript. Please check and try again.')\n",
    "            return\n",
    "        else :\n",
    "            speech_turns = df[df['speaker'] == speaker]['speech_turn']\n",
    "            speaker_order = df[df['speaker'] == speaker]['speaker']\n",
    "            \n",
    "    liwc_obj_list = []\n",
    "    for ind, speech_turn in enumerate(speech_turns) :\n",
    "        speech_turn_tokens = [token.text for token in nlp(speech_turn) if not (token.is_space or token.is_punct)]\n",
    "        turn_counts = Counter(category for token in speech_turn_tokens for category in parse(token))\n",
    "        \n",
    "        if len(turn_counts) == 0 :\n",
    "            val = 0\n",
    "            liwc_obj = {\n",
    "                             'Speaker' : speaker_order[ind],\n",
    "                             'Turn' : speech_turn,\n",
    "                             'Turn Index' : ind,\n",
    "                             'Category' : 'None',\n",
    "                             'Count' : val,\n",
    "                        }\n",
    "            liwc_obj_list.append(liwc_obj)\n",
    "            continue\n",
    "            \n",
    "        for cat in list(turn_counts.keys()) :\n",
    "            val = turn_counts[cat]\n",
    "            liwc_obj = {\n",
    "                             'Speaker' : speaker_order[ind],\n",
    "                             'Turn' : speech_turn,\n",
    "                             'Turn Index' : ind,\n",
    "                             'Category' : cat,\n",
    "                             'Count' : val,\n",
    "                        }\n",
    "            liwc_obj_list.append(liwc_obj)\n",
    "    \n",
    "    liwc_df = pd.DataFrame(liwc_obj_list)\n",
    "    plot_turns(liwc_df, speech_turns, speaker, speaker_order)\n",
    "            \n",
    "    \n",
    "    return liwc_df"
   ]
  },
  {
   "cell_type": "code",
   "execution_count": 9,
   "id": "8f619c24",
   "metadata": {},
   "outputs": [
    {
     "data": {
      "image/png": "[encoded data removed]",
      "text/plain": [
       "<Figure size 4500x600 with 1 Axes>"
      ]
     },
     "metadata": {
      "needs_background": "light"
     },
     "output_type": "display_data"
    }
   ],
   "source": [
    "analysed_df = analyse_turns_liwc(transcript_df) "
   ]
  },
  {
   "cell_type": "code",
   "execution_count": 10,
   "id": "4f12bbc4",
   "metadata": {},
   "outputs": [
    {
     "data": {
      "text/html": [
       "<div>\n",
       "<style scoped>\n",
       "    .dataframe tbody tr th:only-of-type {\n",
       "        vertical-align: middle;\n",
       "    }\n",
       "\n",
       "    .dataframe tbody tr th {\n",
       "        vertical-align: top;\n",
       "    }\n",
       "\n",
       "    .dataframe thead th {\n",
       "        text-align: right;\n",
       "    }\n",
       "</style>\n",
       "<table border=\"1\" class=\"dataframe\">\n",
       "  <thead>\n",
       "    <tr style=\"text-align: right;\">\n",
       "      <th></th>\n",
       "      <th>Speaker</th>\n",
       "      <th>Turn</th>\n",
       "      <th>Turn Index</th>\n",
       "      <th>Category</th>\n",
       "      <th>Count</th>\n",
       "    </tr>\n",
       "  </thead>\n",
       "  <tbody>\n",
       "    <tr>\n",
       "      <th>130</th>\n",
       "      <td>Annie</td>\n",
       "      <td>Chirping?</td>\n",
       "      <td>130</td>\n",
       "      <td>None</td>\n",
       "      <td>0</td>\n",
       "    </tr>\n",
       "    <tr>\n",
       "      <th>11</th>\n",
       "      <td>Annie</td>\n",
       "      <td>Sandwiches, sea, salmon on the beach, sandwic...</td>\n",
       "      <td>11</td>\n",
       "      <td>None</td>\n",
       "      <td>0</td>\n",
       "    </tr>\n",
       "    <tr>\n",
       "      <th>4</th>\n",
       "      <td>Annie</td>\n",
       "      <td>[Yea] Beach. Yea.</td>\n",
       "      <td>4</td>\n",
       "      <td>None</td>\n",
       "      <td>0</td>\n",
       "    </tr>\n",
       "    <tr>\n",
       "      <th>132</th>\n",
       "      <td>Annie</td>\n",
       "      <td>Yeah. Two.</td>\n",
       "      <td>132</td>\n",
       "      <td>None</td>\n",
       "      <td>0</td>\n",
       "    </tr>\n",
       "    <tr>\n",
       "      <th>139</th>\n",
       "      <td>Annie</td>\n",
       "      <td>Or icicles on fence</td>\n",
       "      <td>139</td>\n",
       "      <td>None</td>\n",
       "      <td>0</td>\n",
       "    </tr>\n",
       "  </tbody>\n",
       "</table>\n",
       "</div>"
      ],
      "text/plain": [
       "    Speaker                                               Turn  Turn Index  \\\n",
       "130   Annie                                         Chirping?          130   \n",
       "11    Annie   Sandwiches, sea, salmon on the beach, sandwic...          11   \n",
       "4     Annie                                  [Yea] Beach. Yea.           4   \n",
       "132   Annie                                        Yeah. Two.          132   \n",
       "139   Annie                                Or icicles on fence         139   \n",
       "\n",
       "    Category  Count  \n",
       "130     None      0  \n",
       "11      None      0  \n",
       "4       None      0  \n",
       "132     None      0  \n",
       "139     None      0  "
      ]
     },
     "execution_count": 10,
     "metadata": {},
     "output_type": "execute_result"
    }
   ],
   "source": [
    "analysed_df.sample(5)"
   ]
  },
  {
   "cell_type": "code",
   "execution_count": 11,
   "id": "de4a0224",
   "metadata": {},
   "outputs": [],
   "source": [
    "def make_regex(lex_list):\n",
    "    separator = '\\\\b|\\\\b'\n",
    "    reg_string = separator.join(lex_list)\n",
    "    reg_string_whole_word = \"\\\\b\" + reg_string + \"\\\\b\"\n",
    "    return reg_string_whole_word\n",
    "\n",
    "def count_lexicon_terms(sentence, lexicon):\n",
    "    reg_str = make_regex(lexicon)\n",
    "    num_matches = len(list(re.finditer(reg_str, sentence)))\n",
    "    return num_matches\n",
    "\n",
    "def count_words(sentence):\n",
    "    words = sentence.split()\n",
    "    return len(words)\n",
    "\n",
    "def match_lexicon_terms(sentence, lexicon):\n",
    "    reg_str = make_regex(lexicon)\n",
    "    reg_matches = re.findall(reg_str, sentence.lower())\n",
    "    reg_split = re.split(reg_str, sentence.lower())\n",
    "    ind = 0\n",
    "    matched_print = \"\"\n",
    "    for split_string in reg_split:\n",
    "        if ind == len(reg_matches) :\n",
    "            str_to_concat = split_string\n",
    "        else :\n",
    "            str_to_concat = split_string + '**' + reg_matches[ind] + '**'\n",
    "            ind += 1\n",
    "        matched_print += str_to_concat\n",
    "    return matched_print\n",
    "\n",
    "def print_lines(df, dict_terms, start, num_lines=10):\n",
    "    speakers_list = list(df['speaker'])\n",
    "    turns = list(df['speech_turn'])\n",
    "    end = start + num_lines\n",
    "    for ind, line in enumerate(turns[start:end]) :\n",
    "        index = ind + start\n",
    "        line_matched = match_lexicon_terms(line, dict_terms)\n",
    "        print(str(index)+' : ', end='')\n",
    "        print(speakers_list[index])\n",
    "        printmd(line_matched)\n",
    "        print('----------')"
   ]
  },
  {
   "cell_type": "markdown",
   "id": "83ee5e59",
   "metadata": {},
   "source": [
    "## Examine the Transcript in Detail\n",
    "Based on the chart plotted, we can now use the function `print_lines` below to examine a sequence of terms such that all matching terms that fit a category are highlighted."
   ]
  },
  {
   "cell_type": "code",
   "execution_count": 12,
   "id": "b6558576",
   "metadata": {},
   "outputs": [
    {
     "data": {
      "text/plain": [
       "['CausalThinking']"
      ]
     },
     "execution_count": 12,
     "metadata": {},
     "output_type": "execute_result"
    }
   ],
   "source": [
    "categories = list(liwc_dic_obj.keys())\n",
    "categories"
   ]
  },
  {
   "cell_type": "code",
   "execution_count": 13,
   "id": "3463a681",
   "metadata": {},
   "outputs": [],
   "source": [
    "category = 'CausalThinking'"
   ]
  },
  {
   "cell_type": "code",
   "execution_count": 14,
   "id": "e8319812",
   "metadata": {},
   "outputs": [
    {
     "name": "stdout",
     "output_type": "stream",
     "text": [
      "55 : Annie\n"
     ]
    },
    {
     "data": {
      "text/markdown": [
       " what::↓"
      ],
      "text/plain": [
       "<IPython.core.display.Markdown object>"
      ]
     },
     "metadata": {},
     "output_type": "display_data"
    },
    {
     "name": "stdout",
     "output_type": "stream",
     "text": [
      "----------\n",
      "56 : Dana\n"
     ]
    },
    {
     "data": {
      "text/markdown": [
       " i think you should start the last sentence (.) i thought ↑ that he was going to do that"
      ],
      "text/plain": [
       "<IPython.core.display.Markdown object>"
      ]
     },
     "metadata": {},
     "output_type": "display_data"
    },
    {
     "name": "stdout",
     "output_type": "stream",
     "text": [
      "----------\n",
      "57 : Annie\n"
     ]
    },
    {
     "data": {
      "text/markdown": [
       " yeah. that's that’s↑**how** it worked last time"
      ],
      "text/plain": [
       "<IPython.core.display.Markdown object>"
      ]
     },
     "metadata": {},
     "output_type": "display_data"
    },
    {
     "name": "stdout",
     "output_type": "stream",
     "text": [
      "----------\n",
      "58 : Dana\n"
     ]
    },
    {
     "data": {
      "text/markdown": [
       " oh (3.0)  i can just tell it's time to break out <those hose or water cannons again> ↓, this was just too much to take (.) i don't know if you ever **used** one of these in your garden (.) but when you never **used** one typical celebration of the (.) it's weird"
      ],
      "text/plain": [
       "<IPython.core.display.Markdown object>"
      ]
     },
     "metadata": {},
     "output_type": "display_data"
    },
    {
     "name": "stdout",
     "output_type": "stream",
     "text": [
      "----------\n",
      "59 : Annie\n"
     ]
    },
    {
     "data": {
      "text/markdown": [
       " yeah, i think it's just **generating** text ↓"
      ],
      "text/plain": [
       "<IPython.core.display.Markdown object>"
      ]
     },
     "metadata": {},
     "output_type": "display_data"
    },
    {
     "name": "stdout",
     "output_type": "stream",
     "text": [
      "----------\n",
      "60 : Annie\n"
     ]
    },
    {
     "data": {
      "text/markdown": [
       " i think i will know. see if you **pick** words from. yeah, "
      ],
      "text/plain": [
       "<IPython.core.display.Markdown object>"
      ]
     },
     "metadata": {},
     "output_type": "display_data"
    },
    {
     "name": "stdout",
     "output_type": "stream",
     "text": [
      "----------\n"
     ]
    }
   ],
   "source": [
    "liwc_terms = liwc_dic_obj[category]\n",
    "print_lines(transcript_df, liwc_terms, 55, num_lines=6)"
   ]
  },
  {
   "cell_type": "code",
   "execution_count": null,
   "id": "ffa02a9e",
   "metadata": {},
   "outputs": [],
   "source": []
  }
 ],
 "metadata": {
  "kernelspec": {
   "display_name": "Python 3",
   "language": "python",
   "name": "python3"
  },
  "language_info": {
   "codemirror_mode": {
    "name": "ipython",
    "version": 3
   },
   "file_extension": ".py",
   "mimetype": "text/x-python",
   "name": "python",
   "nbconvert_exporter": "python",
   "pygments_lexer": "ipython3",
   "version": "3.9.4"
  }
 },
 "nbformat": 4,
 "nbformat_minor": 5
}

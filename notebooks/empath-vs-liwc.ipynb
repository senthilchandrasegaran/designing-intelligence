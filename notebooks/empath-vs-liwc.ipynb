{
  "cells": [
    {
      "cell_type": "markdown",
      "metadata": {
        "id": "view-in-github",
        "colab_type": "text"
      },
      "source": [
        "<a href=\"https://colab.research.google.com/github/senthilchandrasegaran/designing-intelligence/blob/main/notebooks/empath-vs-liwc.ipynb\" target=\"_parent\"><img src=\"https://colab.research.google.com/assets/colab-badge.svg\" alt=\"Open In Colab\"/></a>"
      ]
    },
    {
      "cell_type": "markdown",
      "id": "a7b90e34",
      "metadata": {
        "id": "a7b90e34"
      },
      "source": [
        "# Exploring Categories in Empath\n",
        "\n",
        "Empath (see [Fast et al., 2016](https://dl.acm.org/doi/10.1145/2858036.2858535)) is a tool for analysing a given corpus of text to identify the occurrence of certain pre-defined linguistic categories (similar to what is provided by LIWC), but also provides us with a way to create our own linguistic categories based on the behaviour we might want to examine. For instance, we might want to look for instances of **_reflective thinking_** in a corpus of designers' interview transcripts. \n",
        "\n",
        "In this notebook, we provide a way for you to compare Empath against LIWC. How does a category in Empath compare against a category in LIWC?\n",
        " "
      ]
    },
    {
      "cell_type": "markdown",
      "id": "f24bd7d3",
      "metadata": {
        "id": "f24bd7d3"
      },
      "source": [
        "## First, Some Housekeeping\n",
        "The cells below are hidden for simplicity. \n",
        "\n",
        "You can click on the triangle (pointing right) on the left of this cell to examine the code in the cells below.\n",
        "\n",
        "For now, simply run them. If you are unfamiliar with the notebook format, you \"run\" cells by clicking once on the \"play\" button below, to the left of the text that might say \"_[X] cells hidden_\". The same instruction applies for any other cell(s) later on in this notebook."
      ]
    },
    {
      "cell_type": "markdown",
      "id": "83cc7478",
      "metadata": {
        "id": "83cc7478"
      },
      "source": [
        "### Installing Libraries and Importing Data Sources\n",
        "We install and import some necessary libraries in this cell. Simply run the cell below by clicking on the \"Play\" button on the top left corner (if you cannot see it, hover your mouse pointer over the top left corner of the cell below and it should appear).\n"
      ]
    },
    {
      "cell_type": "code",
      "execution_count": 1,
      "id": "f85cd71e",
      "metadata": {
        "id": "f85cd71e",
        "outputId": "6caec799-19d0-4c67-9073-4153e381b741",
        "colab": {
          "base_uri": "https://localhost:8080/"
        }
      },
      "outputs": [
        {
          "output_type": "stream",
          "name": "stdout",
          "text": [
            "Looking in indexes: https://pypi.org/simple, https://us-python.pkg.dev/colab-wheels/public/simple/\n",
            "Collecting Empath\n",
            "  Downloading empath-0.89.tar.gz (57 kB)\n",
            "\u001b[K     |████████████████████████████████| 57 kB 1.4 MB/s \n",
            "\u001b[?25hRequirement already satisfied: requests in /usr/local/lib/python3.7/dist-packages (from Empath) (2.23.0)\n",
            "Requirement already satisfied: certifi>=2017.4.17 in /usr/local/lib/python3.7/dist-packages (from requests->Empath) (2022.5.18.1)\n",
            "Requirement already satisfied: chardet<4,>=3.0.2 in /usr/local/lib/python3.7/dist-packages (from requests->Empath) (3.0.4)\n",
            "Requirement already satisfied: idna<3,>=2.5 in /usr/local/lib/python3.7/dist-packages (from requests->Empath) (2.10)\n",
            "Requirement already satisfied: urllib3!=1.25.0,!=1.25.1,<1.26,>=1.21.1 in /usr/local/lib/python3.7/dist-packages (from requests->Empath) (1.24.3)\n",
            "Building wheels for collected packages: Empath\n",
            "  Building wheel for Empath (setup.py) ... \u001b[?25l\u001b[?25hdone\n",
            "  Created wheel for Empath: filename=empath-0.89-py3-none-any.whl size=57821 sha256=6d2e41448b7f4f4a05f6a7f4bebdc4eca321ac0f3ebc9204ef115d46095d2d97\n",
            "  Stored in directory: /root/.cache/pip/wheels/2b/78/a8/37d4505eeae79807f4b5565a193f7cfcee892137ad37591029\n",
            "Successfully built Empath\n",
            "Installing collected packages: Empath\n",
            "Successfully installed Empath-0.89\n"
          ]
        }
      ],
      "source": [
        "!pip install Empath\n",
        "\n",
        "import glob\n",
        "import re\n",
        "import string\n",
        "import sys\n",
        "\n",
        "import matplotlib.pyplot as plt\n",
        "import numpy as np\n",
        "import pandas as pd\n",
        "import pprint\n",
        "import seaborn as sns\n",
        "\n",
        "from IPython.display import Markdown, display\n",
        "from empath import Empath\n",
        "\n",
        "pp = pprint.PrettyPrinter(indent=2, compact=True)\n",
        "def printmd(string):\n",
        "    display(Markdown(string))\n"
      ]
    },
    {
      "cell_type": "markdown",
      "id": "ce745135",
      "metadata": {
        "id": "ce745135"
      },
      "source": [
        "#### **NOTE:** Re-run above cell if needed.\n",
        "If you receive a messsage above that states something along the lines of \"Restart Runtime\", simply run the above cell once again."
      ]
    },
    {
      "cell_type": "markdown",
      "id": "95626222",
      "metadata": {
        "id": "95626222"
      },
      "source": [
        "## Empath Categories\n",
        "We will now use the [Empath toolkit](https://github.com/Ejhfast/empath-client/tree/master/empath) to analyse the transcripts by creating a linguistic category and using the category as a lens with which to examine the dataset. "
      ]
    },
    {
      "cell_type": "markdown",
      "id": "2f6f1c5c",
      "metadata": {
        "id": "2f6f1c5c"
      },
      "source": [
        "### Manage Categories in Empath\n",
        "Below are some functions for keeping track of original categories present in Empath and new ones that you create. We will call these functions if needed."
      ]
    },
    {
      "cell_type": "code",
      "execution_count": 2,
      "id": "799b059a",
      "metadata": {
        "id": "799b059a"
      },
      "outputs": [],
      "source": [
        "def check_for_custom_caetgories():\n",
        "    current_lexicon = Empath()\n",
        "    empath_original_categories_list = [\n",
        "         'achievement', 'affection', 'aggression', 'air_travel', 'alcohol', 'ancient', 'anger',\n",
        "         'animal', 'anonymity', 'anticipation', 'appearance', 'art', 'attractive', 'banking',\n",
        "         'beach', 'beauty', 'blue_collar_job', 'body', 'breaking', 'business', 'car',\n",
        "         'celebration', 'cheerfulness', 'childish', 'children', 'cleaning', 'clothing', 'cold',\n",
        "         'college', 'communication', 'competing', 'computer', 'confusion', 'contentment',\n",
        "         'cooking', 'crime', 'dance', 'death', 'deception', 'disappointment', 'disgust',\n",
        "         'dispute', 'divine', 'domestic_work', 'dominant_heirarchical', 'dominant_personality',\n",
        "         'driving', 'eating', 'economics', 'emotional', 'envy', 'exasperation', 'exercise',\n",
        "         'exotic', 'fabric', 'family', 'farming', 'fashion', 'fear', 'feminine', 'fight',\n",
        "         'fire', 'friends', 'fun', 'furniture', 'gain', 'giving', 'government', 'hate',\n",
        "         'healing', 'health', 'hearing', 'help', 'heroic', 'hiking', 'hipster', 'home',\n",
        "         'horror', 'hygiene', 'independence', 'injury', 'internet', 'irritability',\n",
        "         'journalism', 'joy', 'kill', 'law', 'leader', 'legend', 'leisure', 'liquid', 'listen',\n",
        "         'love', 'lust', 'magic', 'masculine', 'medical_emergency', 'medieval', 'meeting',\n",
        "         'messaging', 'military', 'money', 'monster', 'morning', 'movement', 'music',\n",
        "         'musical', 'negative_emotion', 'neglect', 'negotiate', 'nervousness', 'night',\n",
        "         'noise', 'occupation', 'ocean', 'office', 'optimism', 'order', 'pain', 'party',\n",
        "         'payment', 'pet', 'philosophy', 'phone', 'plant', 'play', 'politeness', 'politics',\n",
        "         'poor', 'positive_emotion', 'power', 'pride', 'prison', 'programming', 'rage',\n",
        "         'reading', 'real_estate', 'religion', 'restaurant', 'ridicule', 'royalty', 'rural',\n",
        "         'sadness', 'sailing', 'school', 'science', 'sexual', 'shame', 'shape_and_size',\n",
        "         'ship', 'shopping', 'sleep', 'smell', 'social_media', 'sound', 'speaking', 'sports',\n",
        "         'stealing', 'strength', 'suffering', 'superhero', 'surprise', 'swearing_terms',\n",
        "         'swimming', 'sympathy', 'technology', 'terrorism', 'timidity', 'tool', 'torment',\n",
        "         'tourism', 'toy', 'traveling', 'trust', 'ugliness', 'urban', 'vacation', 'valuable',\n",
        "         'vehicle', 'violence', 'war', 'warmth', 'water', 'weakness', 'wealthy', 'weapon',\n",
        "         'weather', 'wedding', 'white_collar_job', 'work', 'worship', 'writing', 'youth', 'zest'\n",
        "    ]\n",
        "    empath_original_set = set(empath_original_categories_list)\n",
        "    empath_current_set = set(lexicon.cats.keys())\n",
        "    new_categories = empath_current_set.difference(empath_original_set)\n",
        "    return new_categories\n",
        "    \n",
        "\n",
        "def delete_custom_categories():\n",
        "    cats_to_delete = check_for_custom_caetgories()\n",
        "    empath_lexicon = Empath()\n",
        "    for cat in list(cats_to_delete) :\n",
        "        empath_lexicon.delete_category(cat)\n",
        "    print(\"Categories Deleted: \")\n",
        "    print(cats_to_delete)\n",
        "        "
      ]
    },
    {
      "cell_type": "markdown",
      "id": "b6d4471d",
      "metadata": {
        "id": "b6d4471d"
      },
      "source": [
        "## Examine Empath Category\n",
        "You can list the words in an Empath Category by running the cells below. First, specify the category name you want to examine (this is ideally an existing Empath category)."
      ]
    },
    {
      "cell_type": "code",
      "execution_count": 31,
      "id": "ebbad0ab",
      "metadata": {
        "id": "ebbad0ab"
      },
      "outputs": [],
      "source": [
        "#@title Specify Existing Empath Category\n",
        "empath_category_name = 'hearing' #@param [ 'achievement', 'affection', 'aggression', 'air_travel', 'alcohol', 'ancient', 'anger', 'animal', 'anonymity', 'anticipation', 'appearance', 'art', 'attractive', 'banking', 'beach', 'beauty', 'blue_collar_job', 'body', 'breaking', 'business', 'car', 'celebration', 'cheerfulness', 'childish', 'children', 'cleaning', 'clothing', 'cold', 'college', 'communication', 'competing', 'computer', 'confusion', 'contentment', 'cooking', 'crime', 'dance', 'death', 'deception', 'disappointment', 'disgust', 'dispute', 'divine', 'domestic_work', 'dominant_heirarchical', 'dominant_personality', 'driving', 'eating', 'economics', 'emotional', 'envy', 'exasperation', 'exercise', 'exotic', 'fabric', 'family', 'farming', 'fashion', 'fear', 'feminine', 'fight', 'fire', 'friends', 'fun', 'furniture', 'gain', 'giving', 'government', 'hate', 'healing', 'health', 'hearing', 'help', 'heroic', 'hiking', 'hipster', 'home', 'horror', 'hygiene', 'independence', 'injury', 'internet', 'irritability', 'journalism', 'joy', 'kill', 'law', 'leader', 'legend', 'leisure', 'liquid', 'listen', 'love', 'lust', 'magic', 'masculine', 'medical_emergency', 'medieval', 'meeting', 'messaging', 'military', 'money', 'monster', 'morning', 'movement', 'music', 'musical', 'negative_emotion', 'neglect', 'negotiate', 'nervousness', 'night', 'noise', 'occupation', 'ocean', 'office', 'optimism', 'order', 'pain', 'party', 'payment', 'pet', 'philosophy', 'phone', 'plant', 'play', 'politeness', 'politics', 'poor', 'positive_emotion', 'power', 'pride', 'prison', 'programming', 'rage', 'reading', 'real_estate', 'religion', 'restaurant', 'ridicule', 'royalty', 'rural', 'sadness', 'sailing', 'school', 'science', 'sexual', 'shame', 'shape_and_size', 'ship', 'shopping', 'sleep', 'smell', 'social_media', 'sound', 'speaking', 'sports', 'stealing', 'strength', 'suffering', 'superhero', 'surprise', 'swearing_terms', 'swimming', 'sympathy', 'technology', 'terrorism', 'timidity', 'tool', 'torment', 'tourism', 'toy', 'traveling', 'trust', 'ugliness', 'urban', 'vacation', 'valuable', 'vehicle', 'violence', 'war', 'warmth', 'water', 'weakness', 'wealthy', 'weapon', 'weather', 'wedding', 'white_collar_job', 'work', 'worship', 'writing', 'youth', 'zest' ] {type:\"string\"}"
      ]
    },
    {
      "cell_type": "code",
      "execution_count": 32,
      "id": "9a0bebfd",
      "metadata": {
        "cellView": "form",
        "id": "9a0bebfd",
        "outputId": "e794a7ff-2288-4d81-d4c1-7c90bde7fcfe",
        "colab": {
          "base_uri": "https://localhost:8080/"
        }
      },
      "outputs": [
        {
          "output_type": "stream",
          "name": "stdout",
          "text": [
            "[ 'aloud', 'amplify', 'audible', 'blaring', 'blasting', 'boom', 'buzzing',\n",
            "  'call', 'chatter', 'chattering', 'creaking', 'deafening', 'decibel',\n",
            "  'distract', 'drumbeat', 'ear', 'ears', 'eavesdrop', 'eavesdropping',\n",
            "  'echoing', 'grumbling', 'gunfire', 'harmonic', 'hear', 'heard', 'hearing',\n",
            "  'hears', 'hush', 'hushed', 'irritating', 'knocking', 'listen', 'listening',\n",
            "  'louder', 'loudly', 'low', 'melodic', 'melody', 'mumbling', 'murmur',\n",
            "  'murmurs', 'music', 'mute', 'noise', 'noisy', 'pitch', 'quieter', 'quietly',\n",
            "  'radio', 'resonate', 'response', 'ringing', 'rumble', 'scream', 'screaming',\n",
            "  'shout', 'shrill', 'shuffling', 'siren', 'snoring', 'soft', 'softly',\n",
            "  'soothing', 'sound', 'sounded', 'sounding', 'speak', 'speaker', 'speaking',\n",
            "  'splitting', 'squeak', 'squeaky', 'talk', 'talking', 'tapping', 'thumping',\n",
            "  'tune', 'voiced', 'volume', 'wail', 'wailing', 'whisper', 'whispered', 'yell',\n",
            "  'yelling']\n"
          ]
        }
      ],
      "source": [
        "#@title List Terms under Specified Category\n",
        "\n",
        "lexicon = Empath()\n",
        "if empath_category_name in lexicon.cats.keys() :\n",
        "    empath_category_terms = sorted(lexicon.cats[empath_category_name])\n",
        "    pp.pprint(empath_category_terms)\n",
        "else :\n",
        "    print(\"Category '\" + empath_category_name + \"' does not exist. Please try again.\")"
      ]
    },
    {
      "cell_type": "markdown",
      "id": "1e2a97e0",
      "metadata": {
        "id": "1e2a97e0"
      },
      "source": [
        "## Compare with LIWC Category\n",
        "In the cell below, copy and paste a list of terms from the LIWC category against which you want to compare the Empath category. Then run all cells below it."
      ]
    },
    {
      "cell_type": "code",
      "execution_count": 33,
      "id": "e44628b3",
      "metadata": {
        "cellView": "form",
        "id": "e44628b3"
      },
      "outputs": [],
      "source": [
        "#@title Specify Existing LIWC Category\n",
        "liwc_category_name = 'hear' #@param {type:\"string\"}"
      ]
    },
    {
      "cell_type": "code",
      "execution_count": 34,
      "id": "f5862295",
      "metadata": {
        "cellView": "form",
        "id": "f5862295"
      },
      "outputs": [],
      "source": [
        "#@title Specify LIWC Category Terms (as a list of strings, each enclosed within quotes)\n",
        "liwc_category_terms = [\"audibl*\", \"audio*\", \"boom*\", \"cellphone*\", \"choir*\", \"chorus\", \"clap\", \"clapped\", \"clapping\", \"claps\", \"click*\", \"concert*\", \"deaf*\", \"di*\", \"ear\", \"ears\", \"ep\", \"flapping\", \"harmon*\", \"hear\", \"heard\", \"hearing\", \"hears\", \"hush*\", \"hymn*\", \"inaudibl*\", \"laugh\", \"listen\", \"listened\", \"listener*\", \"listening\", \"listens\", \"loud\", \"louder\", \"loudest\", \"loudly\", \"loudn*\", \"musi*\", \"noise\", \"noises\", \"noisier\", \"noisiest\", \"noisy\", \"opera\", \"orchestra*\", \"overhear*\", \"phone*\", \"quiet\", \"quieter\", \"quietest\", \"quietly\", \"radio*\", \"rang\", \"rap\", \"remark*\", \"rng\", \"ringing\", \"rings\", \"said\", \"sang\", \"say\", \"saying\", \"says\", \"scream*\", \"shout*\", \"silen*\", \"sing\", \"singing\", \"sings\", \"song*\", \"sound*\", \"speak\", \"speaker*\", \"speaking\", \"speaks\", \"speech\", \"spoke*\", \"stutter*\", \"sung\", \"telephon*\", \"thunder*\", \"tune\", \"tunes\", \"voic*\", \"wheez*\", \"whine*\", \"whining\", \"whisper*\", \"yawn*\", \"yell\", \"yelled\", \"yelling\", \"yells\" ] #@param {type:\"raw\"}"
      ]
    },
    {
      "cell_type": "code",
      "execution_count": 35,
      "id": "423ef7dc",
      "metadata": {
        "id": "423ef7dc",
        "outputId": "5e61f9b1-ac57-412e-f8c4-a85e391e30ed",
        "colab": {
          "base_uri": "https://localhost:8080/"
        }
      },
      "outputs": [
        {
          "output_type": "stream",
          "name": "stdout",
          "text": [
            "Words common to both categories:\n",
            "{ 'ear', 'ears', 'hear', 'heard', 'hearing', 'hears', 'listen', 'listening',\n",
            "  'louder', 'loudly', 'noise', 'noisy', 'quieter', 'quietly', 'ringing',\n",
            "  'speak', 'speaking', 'tune', 'yell', 'yelling'}\n",
            "--------------------------------\n",
            "\n",
            "Words in LIWC but NOT IN Empath:\n",
            "{ 'audibl*', 'audio*', 'boom*', 'chorus', 'clap', 'clapped', 'clapping',\n",
            "  'claps', 'deaf*', 'di*', 'ep', 'flapping', 'harmon*', 'hush*', 'laugh',\n",
            "  'listened', 'listens', 'loud', 'loudest', 'loudn*', 'musi*', 'noises',\n",
            "  'noisier', 'noisiest', 'opera', 'quiet', 'quietest', 'radio*', 'rang', 'rap',\n",
            "  'rings', 'rng', 'said', 'sang', 'say', 'saying', 'says', 'scream*', 'shout*',\n",
            "  'sing', 'singing', 'sings', 'sound*', 'speaker*', 'speaks', 'speech', 'sung',\n",
            "  'tunes', 'voic*', 'whining', 'whisper*', 'yelled', 'yells'}\n",
            "--------------------------------\n",
            "\n",
            "Words in Empath but NOT IN LIWC:\n",
            "{ 'aloud', 'amplify', 'audible', 'blaring', 'blasting', 'boom', 'buzzing',\n",
            "  'call', 'chatter', 'chattering', 'creaking', 'deafening', 'decibel',\n",
            "  'distract', 'drumbeat', 'eavesdrop', 'eavesdropping', 'echoing', 'grumbling',\n",
            "  'gunfire', 'harmonic', 'hush', 'hushed', 'irritating', 'knocking', 'low',\n",
            "  'melodic', 'melody', 'mumbling', 'murmur', 'murmurs', 'music', 'mute',\n",
            "  'pitch', 'radio', 'resonate', 'response', 'rumble', 'scream', 'screaming',\n",
            "  'shout', 'shrill', 'shuffling', 'siren', 'snoring', 'soft', 'softly',\n",
            "  'soothing', 'sound', 'sounded', 'sounding', 'speaker', 'splitting', 'squeak',\n",
            "  'squeaky', 'talk', 'talking', 'tapping', 'thumping', 'voiced', 'volume',\n",
            "  'wail', 'wailing', 'whisper', 'whispered'}\n",
            "--------------------------------\n",
            "\n"
          ]
        }
      ],
      "source": [
        "#@title Compare Both Categories\n",
        "\n",
        "def compare_categories(empath_category_terms, liwc_category_terms):\n",
        "    empath_set = set(empath_category_terms)\n",
        "    liwc_set = set(liwc_category_terms)\n",
        "    liwc_wildcard_list = [term for term in list(liwc_set) if '*' in term]\n",
        "    liwc_set = liwc_set.difference(set(liwc_wildcard_list))\n",
        "    empath_str = (' ').join(list(empath_set))\n",
        "    wildcard_intersections = []\n",
        "    wildcards_unmatched = []\n",
        "    for wildcard in liwc_wildcard_list :\n",
        "        reg_str = '\\\\b' +wildcard +'[a-z]*\\\\b'\n",
        "        matches = re.findall(reg_str, empath_str)\n",
        "        if len(matches) > 0 :\n",
        "            wildcards_unmatched.append(wildcard)\n",
        "        else :\n",
        "            wildcard_intersections.extend(matches)\n",
        "    empath_set = empath_set.difference(set(wildcard_intersections))\n",
        "    \n",
        "    overlaps = empath_set.intersection(liwc_set)\n",
        "    overlaps = overlaps.union(set(wildcard_intersections))\n",
        "    unique_to_liwc = liwc_set.difference(empath_set)\n",
        "    unique_to_liwc = unique_to_liwc.union(set(wildcards_unmatched))\n",
        "    unique_to_empath = empath_set.difference(liwc_set)\n",
        "\n",
        "    print(\"Words common to both categories:\")\n",
        "    pp.pprint(overlaps)\n",
        "    print(\"--------------------------------\")\n",
        "    print(\"\")\n",
        "    print(\"Words in LIWC but NOT IN Empath:\")\n",
        "    pp.pprint(unique_to_liwc)\n",
        "    print(\"--------------------------------\")\n",
        "    print(\"\")\n",
        "    print(\"Words in Empath but NOT IN LIWC:\")\n",
        "    pp.pprint(unique_to_empath)\n",
        "    print(\"--------------------------------\")\n",
        "    print(\"\")\n",
        "compare_categories(empath_category_terms, liwc_category_terms)"
      ]
    },
    {
      "cell_type": "markdown",
      "id": "7b17fab1",
      "metadata": {
        "id": "7b17fab1"
      },
      "source": [
        "## Create your own Empath Category\n",
        "In the cell below, you can create your own category. Make sure the category name is an English word without special characters, as it can improve the outcome.\n",
        "\n",
        "If needed, replace the text that is assigned to the variable ```category_name``` and the list of seed words assigned to ```category_seed_words``` with a category and a corresponding set of seed words that interest you for the analysis."
      ]
    },
    {
      "cell_type": "code",
      "execution_count": null,
      "id": "a790b2a3",
      "metadata": {
        "cellView": "form",
        "id": "a790b2a3"
      },
      "outputs": [],
      "source": [
        "#@title Specify New Empath Category Name\n",
        "category_name = 'reflection' #@param {type:\"string\"}"
      ]
    },
    {
      "cell_type": "code",
      "execution_count": null,
      "id": "442d6ffd",
      "metadata": {
        "cellView": "form",
        "id": "442d6ffd"
      },
      "outputs": [],
      "source": [
        "#@title Enter a list of seed words (list of strings, each within quotes)\n",
        "category_seed_words = ['believe', 'realise', 'realize', 'retrospect', 'introspect', 'know'] #@param {type:\"raw\"}"
      ]
    },
    {
      "cell_type": "code",
      "execution_count": null,
      "id": "8c4636b5",
      "metadata": {
        "cellView": "form",
        "id": "8c4636b5"
      },
      "outputs": [],
      "source": [
        "#@title Maximum number of words in the new category\n",
        "number_of_words_in_category = 100 #@param{type : 'number'}"
      ]
    },
    {
      "cell_type": "code",
      "execution_count": null,
      "id": "e5cb3804",
      "metadata": {
        "cellView": "form",
        "id": "e5cb3804"
      },
      "outputs": [],
      "source": [
        "#@title Specify which model to use when generating category terms\n",
        "model_to_use= 'fiction' #@param ['fiction', 'reddit', 'nytimes'] {type:\"raw\"}"
      ]
    },
    {
      "cell_type": "code",
      "execution_count": null,
      "id": "d12983f9",
      "metadata": {
        "cellView": "form",
        "id": "d12983f9",
        "outputId": "b01947f4-d76a-4df1-936b-28832a570ad5",
        "colab": {
          "base_uri": "https://localhost:8080/"
        }
      },
      "outputs": [
        {
          "output_type": "stream",
          "name": "stdout",
          "text": [
            "[\"realize\", \"realise\", \"believe\", \"understand\", \"Because\", \"mean\", \"knowing\", \"though\", \"thought\", \"care\", \"honestly\", \"actually\", \"remember\", \"knew\", \"wonder\", \"admit\", \"guess\", \"anymore\", \"Honestly\", \"matter\", \"thinking\", \"suppose\", \"trust\", \"probably\", \"blame\", \"assume\", \"Maybe\", \"explain\", \"Obviously\", \"realized\", \"seem\", \"wish\", \"imagine\", \"though\", \"right\", \"deny\", \"notice\", \"doubt\", \"knows\", \"anything\", \"anyway\", \"realizing\", \"exactly\", \"forget\", \"either\", \"expect\", \"seriously\", \"figured\", \"pretend\", \"why\", \"Actually\", \"truly\", \"idea\", \"seeing\", \"realised\", \"Even\", \"If\", \"meant\", \"realise\", \"bet\", \"regret\", \"suspect\", \"yet\", \"sure\", \"happen\", \"slightest_clue\", \"understood\", \"Knowing\", \"accept\", \"question\", \"funny_thing\"]\n",
            "-------------------------------------------\n",
            "Category reflection created with 69 terms.\n"
          ]
        }
      ],
      "source": [
        "#@title Generate category based on specs\n",
        "lexicon.create_category(category_name, category_seed_words, size=number_of_words_in_category, model=model_to_use)\n",
        "custom_category_terms = lexicon.cats[category_name]\n",
        "print('-------------------------------------------')\n",
        "print('Category', category_name, \"created with\", len(custom_category_terms), \"terms.\")"
      ]
    },
    {
      "cell_type": "code",
      "execution_count": null,
      "id": "b499fc42",
      "metadata": {
        "cellView": "form",
        "id": "b499fc42"
      },
      "outputs": [],
      "source": [
        "#@title Uncomment code here to check for and/or delete custom categories\n",
        "# check_for_custom_caetgories()\n",
        "# delete_custom_categories()"
      ]
    },
    {
      "cell_type": "code",
      "execution_count": null,
      "id": "ab8b803b",
      "metadata": {
        "id": "ab8b803b"
      },
      "outputs": [],
      "source": [
        ""
      ]
    }
  ],
  "metadata": {
    "kernelspec": {
      "display_name": "Python 3",
      "language": "python",
      "name": "python3"
    },
    "language_info": {
      "codemirror_mode": {
        "name": "ipython",
        "version": 3
      },
      "file_extension": ".py",
      "mimetype": "text/x-python",
      "name": "python",
      "nbconvert_exporter": "python",
      "pygments_lexer": "ipython3",
      "version": "3.9.4"
    },
    "colab": {
      "name": "empath-vs-liwc.ipynb",
      "provenance": [],
      "include_colab_link": true
    }
  },
  "nbformat": 4,
  "nbformat_minor": 5
}
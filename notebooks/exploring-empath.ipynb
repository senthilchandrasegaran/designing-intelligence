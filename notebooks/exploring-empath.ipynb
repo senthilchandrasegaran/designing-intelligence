{
 "cells": [
  {
   "cell_type": "markdown",
   "id": "69a02ca1",
   "metadata": {
    "colab_type": "text",
    "id": "view-in-github"
   },
   "source": [
    "<a href=\"https://colab.research.google.com/github/senthilchandrasegaran/drs2021-tool-share/blob/master/analysis_song_exploder.ipynb\" target=\"_parent\"><img src=\"https://colab.research.google.com/assets/colab-badge.svg\" alt=\"Open In Colab\"/></a>"
   ]
  },
  {
   "cell_type": "markdown",
   "id": "dd3dd5b4",
   "metadata": {
    "id": "dd3dd5b4"
   },
   "source": [
    "# Exploring Categories in Empath\n",
    "\n",
    "Empath (see [Fast et al., 2016](https://dl.acm.org/doi/10.1145/2858036.2858535)) is a tool for analysing a given corpus of text to identify the occurrence of certain pre-defined linguistic categories (similar to what is provided by LIWC), but also provides us with a way to create our own linguistic categories based on the behaviour we might want to examine. For instance, we might want to look for instances of **_reflective thinking_** in a corpus of designers' interview transcripts. \n",
    "\n",
    "In this notebook, we provide a way for you to compare Empath against LIWC. How does a category in Empath compare against a category in LIWC?\n",
    " "
   ]
  },
  {
   "cell_type": "markdown",
   "id": "Ryg3fUkQaZuI",
   "metadata": {
    "id": "Ryg3fUkQaZuI"
   },
   "source": [
    "## First, Some Housekeeping\n",
    "The cells below are hidden for simplicity. \n",
    "\n",
    "You can click on the triangle (pointing right) on the left of this cell to examine the code in the cells below.\n",
    "\n",
    "For now, simply run them. If you are unfamiliar with the notebook format, you \"run\" cells by clicking once on the \"play\" button below, to the left of the text that might say \"_[X] cells hidden_\". The same instruction applies for any other cell(s) later on in this notebook."
   ]
  },
  {
   "cell_type": "markdown",
   "id": "cGCwtZ5S98V2",
   "metadata": {
    "id": "cGCwtZ5S98V2"
   },
   "source": [
    "### Installing Libraries and Importing Data Sources\n",
    "We install and import some necessary libraries in this cell. Simply run the cell below by clicking on the \"Play\" button on the top left corner (if you cannot see it, hover your mouse pointer over the top left corner of the cell below and it should appear).\n"
   ]
  },
  {
   "cell_type": "code",
   "execution_count": 1,
   "id": "2ed6b0cc",
   "metadata": {
    "colab": {
     "base_uri": "https://localhost:8080/"
    },
    "id": "2ed6b0cc",
    "outputId": "df431815-1224-4d8c-b049-9de015702336"
   },
   "outputs": [
    {
     "name": "stdout",
     "output_type": "stream",
     "text": [
      "Requirement already satisfied: Empath in /Users/schandrasegara/homebrew/Caskroom/miniforge/base/lib/python3.9/site-packages (0.89)\r\n",
      "Requirement already satisfied: requests in /Users/schandrasegara/homebrew/Caskroom/miniforge/base/lib/python3.9/site-packages (from Empath) (2.25.1)\r\n",
      "Requirement already satisfied: urllib3<1.27,>=1.21.1 in /Users/schandrasegara/homebrew/Caskroom/miniforge/base/lib/python3.9/site-packages (from requests->Empath) (1.26.5)\r\n",
      "Requirement already satisfied: certifi>=2017.4.17 in /Users/schandrasegara/homebrew/Caskroom/miniforge/base/lib/python3.9/site-packages (from requests->Empath) (2021.5.30)\r\n",
      "Requirement already satisfied: idna<3,>=2.5 in /Users/schandrasegara/homebrew/Caskroom/miniforge/base/lib/python3.9/site-packages (from requests->Empath) (2.10)\r\n",
      "Requirement already satisfied: chardet<5,>=3.0.2 in /Users/schandrasegara/homebrew/Caskroom/miniforge/base/lib/python3.9/site-packages (from requests->Empath) (4.0.0)\r\n"
     ]
    }
   ],
   "source": [
    "!pip install Empath\n",
    "\n",
    "import glob\n",
    "import re\n",
    "import string\n",
    "import sys\n",
    "\n",
    "import matplotlib.pyplot as plt\n",
    "import numpy as np\n",
    "import pandas as pd\n",
    "import pprint\n",
    "import seaborn as sns\n",
    "\n",
    "from IPython.display import Markdown, display\n",
    "from empath import Empath\n",
    "\n",
    "pp = pprint.PrettyPrinter(indent=2, compact=True)\n",
    "def printmd(string):\n",
    "    display(Markdown(string))\n"
   ]
  },
  {
   "cell_type": "markdown",
   "id": "FpPfhk4oB5gO",
   "metadata": {
    "id": "FpPfhk4oB5gO"
   },
   "source": [
    "#### **NOTE:** Re-run above cell if needed.\n",
    "If you receive a messsage above that states something along the lines of \"Restart Runtime\", simply run the above cell once again."
   ]
  },
  {
   "cell_type": "markdown",
   "id": "b50c5957",
   "metadata": {
    "id": "b50c5957"
   },
   "source": [
    "## Empath Categories\n",
    "We will now use the [Empath toolkit](https://github.com/Ejhfast/empath-client/tree/master/empath) to analyse the transcripts by creating a linguistic category and using the category as a lens with which to examine the dataset. "
   ]
  },
  {
   "cell_type": "markdown",
   "id": "P53N9lUxS-NY",
   "metadata": {
    "id": "P53N9lUxS-NY"
   },
   "source": [
    "### Manage Categories in Empath\n",
    "Below are some functions for keeping track of original categories present in Empath and new ones that you create. We will call these functions if needed."
   ]
  },
  {
   "cell_type": "code",
   "execution_count": 2,
   "id": "9437d9f5",
   "metadata": {
    "id": "9437d9f5"
   },
   "outputs": [],
   "source": [
    "def check_for_custom_caetgories():\n",
    "    current_lexicon = Empath()\n",
    "    empath_original_categories_list = [\n",
    "         'achievement', 'affection', 'aggression', 'air_travel', 'alcohol', 'ancient', 'anger',\n",
    "         'animal', 'anonymity', 'anticipation', 'appearance', 'art', 'attractive', 'banking',\n",
    "         'beach', 'beauty', 'blue_collar_job', 'body', 'breaking', 'business', 'car',\n",
    "         'celebration', 'cheerfulness', 'childish', 'children', 'cleaning', 'clothing', 'cold',\n",
    "         'college', 'communication', 'competing', 'computer', 'confusion', 'contentment',\n",
    "         'cooking', 'crime', 'dance', 'death', 'deception', 'disappointment', 'disgust',\n",
    "         'dispute', 'divine', 'domestic_work', 'dominant_heirarchical', 'dominant_personality',\n",
    "         'driving', 'eating', 'economics', 'emotional', 'envy', 'exasperation', 'exercise',\n",
    "         'exotic', 'fabric', 'family', 'farming', 'fashion', 'fear', 'feminine', 'fight',\n",
    "         'fire', 'friends', 'fun', 'furniture', 'gain', 'giving', 'government', 'hate',\n",
    "         'healing', 'health', 'hearing', 'help', 'heroic', 'hiking', 'hipster', 'home',\n",
    "         'horror', 'hygiene', 'independence', 'injury', 'internet', 'irritability',\n",
    "         'journalism', 'joy', 'kill', 'law', 'leader', 'legend', 'leisure', 'liquid', 'listen',\n",
    "         'love', 'lust', 'magic', 'masculine', 'medical_emergency', 'medieval', 'meeting',\n",
    "         'messaging', 'military', 'money', 'monster', 'morning', 'movement', 'music',\n",
    "         'musical', 'negative_emotion', 'neglect', 'negotiate', 'nervousness', 'night',\n",
    "         'noise', 'occupation', 'ocean', 'office', 'optimism', 'order', 'pain', 'party',\n",
    "         'payment', 'pet', 'philosophy', 'phone', 'plant', 'play', 'politeness', 'politics',\n",
    "         'poor', 'positive_emotion', 'power', 'pride', 'prison', 'programming', 'rage',\n",
    "         'reading', 'real_estate', 'religion', 'restaurant', 'ridicule', 'royalty', 'rural',\n",
    "         'sadness', 'sailing', 'school', 'science', 'sexual', 'shame', 'shape_and_size',\n",
    "         'ship', 'shopping', 'sleep', 'smell', 'social_media', 'sound', 'speaking', 'sports',\n",
    "         'stealing', 'strength', 'suffering', 'superhero', 'surprise', 'swearing_terms',\n",
    "         'swimming', 'sympathy', 'technology', 'terrorism', 'timidity', 'tool', 'torment',\n",
    "         'tourism', 'toy', 'traveling', 'trust', 'ugliness', 'urban', 'vacation', 'valuable',\n",
    "         'vehicle', 'violence', 'war', 'warmth', 'water', 'weakness', 'wealthy', 'weapon',\n",
    "         'weather', 'wedding', 'white_collar_job', 'work', 'worship', 'writing', 'youth', 'zest'\n",
    "    ]\n",
    "    empath_original_set = set(empath_original_categories_list)\n",
    "    empath_current_set = set(lexicon.cats.keys())\n",
    "    new_categories = empath_current_set.difference(empath_original_set)\n",
    "    return new_categories\n",
    "    \n",
    "\n",
    "def delete_custom_categories():\n",
    "    cats_to_delete = check_for_custom_caetgories()\n",
    "    empath_lexicon = Empath()\n",
    "    for cat in list(cats_to_delete) :\n",
    "        empath_lexicon.delete_category(cat)\n",
    "    print(\"Categories Deleted: \")\n",
    "    print(cats_to_delete)\n",
    "        "
   ]
  },
  {
   "cell_type": "markdown",
   "id": "4835b681",
   "metadata": {},
   "source": [
    "## Examine Empath Category\n",
    "You can list the words in an Empath Category by running the cells below. First, specify the category name you want to examine (this is ideally an existing Empath category)."
   ]
  },
  {
   "cell_type": "code",
   "execution_count": 3,
   "id": "8bb989b8",
   "metadata": {},
   "outputs": [],
   "source": [
    "empath_category_name = 'hearing'"
   ]
  },
  {
   "cell_type": "code",
   "execution_count": 4,
   "id": "45c6480c",
   "metadata": {},
   "outputs": [
    {
     "name": "stdout",
     "output_type": "stream",
     "text": [
      "[ 'aloud', 'amplify', 'audible', 'blaring', 'blasting', 'boom', 'buzzing',\n",
      "  'call', 'chatter', 'chattering', 'creaking', 'deafening', 'decibel',\n",
      "  'distract', 'drumbeat', 'ear', 'ears', 'eavesdrop', 'eavesdropping',\n",
      "  'echoing', 'grumbling', 'gunfire', 'harmonic', 'hear', 'heard', 'hearing',\n",
      "  'hears', 'hush', 'hushed', 'irritating', 'knocking', 'listen', 'listening',\n",
      "  'louder', 'loudly', 'low', 'melodic', 'melody', 'mumbling', 'murmur',\n",
      "  'murmurs', 'music', 'mute', 'noise', 'noisy', 'pitch', 'quieter', 'quietly',\n",
      "  'radio', 'resonate', 'response', 'ringing', 'rumble', 'scream', 'screaming',\n",
      "  'shout', 'shrill', 'shuffling', 'siren', 'snoring', 'soft', 'softly',\n",
      "  'soothing', 'sound', 'sounded', 'sounding', 'speak', 'speaker', 'speaking',\n",
      "  'splitting', 'squeak', 'squeaky', 'talk', 'talking', 'tapping', 'thumping',\n",
      "  'tune', 'voiced', 'volume', 'wail', 'wailing', 'whisper', 'whispered', 'yell',\n",
      "  'yelling']\n"
     ]
    }
   ],
   "source": [
    "lexicon = Empath()\n",
    "if empath_category_name in lexicon.cats.keys() :\n",
    "    empath_category_terms = sorted(lexicon.cats[empath_category_name])\n",
    "    pp.pprint(empath_category_terms)\n",
    "else :\n",
    "    print(\"Category '\" + empath_category_name + \"' does not exist. Please try again.\")"
   ]
  },
  {
   "cell_type": "markdown",
   "id": "a1716aa8",
   "metadata": {},
   "source": [
    "## Compare with LIWC Category\n",
    "In the cell below, copy and paste a list of terms from the LIWC category against which you want to compare the Empath category. Then run all cells below it."
   ]
  },
  {
   "cell_type": "code",
   "execution_count": 5,
   "id": "f393fd43",
   "metadata": {},
   "outputs": [],
   "source": [
    "liwc_category_name = 'hear'"
   ]
  },
  {
   "cell_type": "code",
   "execution_count": 6,
   "id": "d6764dd6",
   "metadata": {},
   "outputs": [],
   "source": [
    "liwc_category_terms = [\"audibl*\", \"audio*\", \"boom*\", \"cellphone*\", \"choir*\", \"chorus\", \"clap\",\n",
    "                      \"clapped\", \"clapping\", \"claps\", \"click*\", \"concert*\", \"deaf*\", \"di*\",\n",
    "                      \"ear\", \"ears\", \"ep\", \"flapping\", \"harmon*\", \"hear\", \"heard\", \"hearing\",\n",
    "                      \"hears\", \"hush*\", \"hymn*\", \"inaudibl*\", \"laugh\", \"listen\", \"listened\",\n",
    "                      \"listener*\", \"listening\", \"listens\", \"loud\", \"louder\", \"loudest\", \"loudly\",\n",
    "                      \"loudn*\", \"musi*\", \"noise\", \"noises\", \"noisier\", \"noisiest\", \"noisy\",\n",
    "                      \"opera\", \"orchestra*\", \"overhear*\", \"phone*\", \"quiet\", \"quieter\",\n",
    "                      \"quietest\", \"quietly\", \"radio*\", \"rang\", \"rap\", \"remark*\", \"rng\",\n",
    "                      \"ringing\", \"rings\", \"said\", \"sang\", \"say\", \"saying\", \"says\", \"scream*\",\n",
    "                      \"shout*\", \"silen*\", \"sing\", \"singing\", \"sings\", \"song*\", \"sound*\", \"speak\",\n",
    "                      \"speaker*\", \"speaking\", \"speaks\", \"speech\", \"spoke*\", \"stutter*\", \"sung\",\n",
    "                      \"telephon*\", \"thunder*\", \"tune\", \"tunes\", \"voic*\", \"wheez*\", \"whine*\",\n",
    "                      \"whining\", \"whisper*\", \"yawn*\", \"yell\", \"yelled\", \"yelling\", \"yells\"\n",
    "                     ]"
   ]
  },
  {
   "cell_type": "code",
   "execution_count": 7,
   "id": "35c5edf4",
   "metadata": {},
   "outputs": [
    {
     "name": "stdout",
     "output_type": "stream",
     "text": [
      "Words common to both categories:\n",
      "{ 'audible', 'boom', 'deafening', 'decibel', 'distract', 'drumbeat', 'ear',\n",
      "  'ears', 'harmonic', 'hear', 'heard', 'hearing', 'hears', 'hush', 'hushed',\n",
      "  'listen', 'listening', 'louder', 'loudly', 'music', 'noise', 'noisy',\n",
      "  'quieter', 'quietly', 'radio', 'ringing', 'scream', 'screaming', 'shout',\n",
      "  'sound', 'sounded', 'sounding', 'speak', 'speaker', 'speaking', 'tune',\n",
      "  'voiced', 'whisper', 'whispered', 'yell', 'yelling'}\n",
      "--------------------------------\n",
      "\n",
      "Words in LIWC but NOT IN Empath:\n",
      "{ 'cellphone*', 'choir*', 'chorus', 'clap', 'clapped', 'clapping', 'claps',\n",
      "  'click*', 'concert*', 'ep', 'flapping', 'hymn*', 'inaudibl*', 'laugh',\n",
      "  'listened', 'listener*', 'listens', 'loud', 'louder', 'loudest', 'loudly',\n",
      "  'noises', 'noisier', 'noisiest', 'opera', 'orchestra*', 'overhear*', 'phone*',\n",
      "  'quiet', 'quietest', 'rang', 'rap', 'remark*', 'rings', 'rng', 'said', 'sang',\n",
      "  'say', 'saying', 'says', 'silen*', 'sing', 'singing', 'sings', 'song*',\n",
      "  'speaks', 'speech', 'spoke*', 'stutter*', 'sung', 'telephon*', 'thunder*',\n",
      "  'tunes', 'wheez*', 'whine*', 'whining', 'yawn*', 'yelled', 'yells'}\n",
      "--------------------------------\n",
      "\n",
      "Words in Empath but NOT IN LIWC:\n",
      "{ 'aloud', 'amplify', 'blaring', 'blasting', 'buzzing', 'call', 'chatter',\n",
      "  'chattering', 'creaking', 'eavesdrop', 'eavesdropping', 'echoing',\n",
      "  'grumbling', 'gunfire', 'irritating', 'knocking', 'low', 'melodic', 'melody',\n",
      "  'mumbling', 'murmur', 'murmurs', 'mute', 'pitch', 'resonate', 'response',\n",
      "  'rumble', 'shrill', 'shuffling', 'siren', 'snoring', 'soft', 'softly',\n",
      "  'soothing', 'splitting', 'squeak', 'squeaky', 'talk', 'talking', 'tapping',\n",
      "  'thumping', 'volume', 'wail', 'wailing'}\n",
      "--------------------------------\n",
      "\n"
     ]
    }
   ],
   "source": [
    "def compare_categories(empath_category_terms, liwc_category_terms):\n",
    "    empath_set = set(empath_category_terms)\n",
    "    liwc_set = set(liwc_category_terms)\n",
    "    liwc_wildcard_list = [term for term in list(liwc_set) if '*' in term]\n",
    "    liwc_set = liwc_set.difference(set(liwc_wildcard_list))\n",
    "    empath_str = (' ').join(list(empath_set))\n",
    "    wildcard_intersections = []\n",
    "    wildcards_unmatched = []\n",
    "    for wildcard in liwc_wildcard_list :\n",
    "        reg_str = '\\\\b' +wildcard +'[a-z]*\\\\b'\n",
    "        matches = re.findall(reg_str, empath_str)\n",
    "        if len(matches) > 0 :\n",
    "            wildcard_intersections.extend(matches)\n",
    "        else :\n",
    "            wildcards_unmatched.append(wildcard)\n",
    "    empath_set = empath_set.difference(set(wildcard_intersections))\n",
    "    \n",
    "    \n",
    "    overlaps = empath_set.intersection(liwc_set)\n",
    "    overlaps = overlaps.union(set(wildcard_intersections))\n",
    "    unique_to_liwc = liwc_set.difference(empath_set)\n",
    "    unique_to_liwc = unique_to_liwc.union(set(wildcards_unmatched))\n",
    "    unique_to_empath = empath_set.difference(liwc_set)\n",
    "\n",
    "    print(\"Words common to both categories:\")\n",
    "    pp.pprint(overlaps)\n",
    "    print(\"--------------------------------\")\n",
    "    print(\"\")\n",
    "    print(\"Words in LIWC but NOT IN Empath:\")\n",
    "    pp.pprint(unique_to_liwc)\n",
    "    print(\"--------------------------------\")\n",
    "    print(\"\")\n",
    "    print(\"Words in Empath but NOT IN LIWC:\")\n",
    "    pp.pprint(unique_to_empath)\n",
    "    print(\"--------------------------------\")\n",
    "    print(\"\")\n",
    "compare_categories(empath_category_terms, liwc_category_terms)"
   ]
  },
  {
   "cell_type": "markdown",
   "id": "ff903827",
   "metadata": {
    "id": "ff903827"
   },
   "source": [
    "## Create your own Empath Category\n",
    "In the cell below, you can create your own category. Make sure the category name is an English word without special characters, as it can improve the outcome.\n",
    "\n",
    "If needed, replace the text that is assigned to the variable ```category_name``` and the list of seed words assigned to ```category_seed_words``` with a category and a corresponding set of seed words that interest you for the analysis."
   ]
  },
  {
   "cell_type": "code",
   "execution_count": 8,
   "id": "0586a6c9",
   "metadata": {},
   "outputs": [],
   "source": [
    "category_name = 'reflection'"
   ]
  },
  {
   "cell_type": "code",
   "execution_count": 9,
   "id": "cc9cef34",
   "metadata": {},
   "outputs": [],
   "source": [
    "category_seed_words = ['believe', 'realise', 'realize', 'retrospect', 'introspect', 'know']"
   ]
  },
  {
   "cell_type": "code",
   "execution_count": 10,
   "id": "aab1d7f1",
   "metadata": {},
   "outputs": [],
   "source": [
    "number_of_words_in_category = 100"
   ]
  },
  {
   "cell_type": "code",
   "execution_count": 11,
   "id": "5696581a",
   "metadata": {},
   "outputs": [],
   "source": [
    "models = ['fiction', 'reddit', 'nytimes']\n",
    "model_to_use=models[0]"
   ]
  },
  {
   "cell_type": "code",
   "execution_count": 12,
   "id": "a860ef6d",
   "metadata": {
    "colab": {
     "base_uri": "https://localhost:8080/"
    },
    "id": "a860ef6d",
    "outputId": "dd6ac282-135e-4814-a5ba-f5bc290e2f70"
   },
   "outputs": [
    {
     "name": "stdout",
     "output_type": "stream",
     "text": [
      "[\"realize\", \"realise\", \"believe\", \"understand\", \"Because\", \"mean\", \"knowing\", \"though\", \"thought\", \"care\", \"honestly\", \"actually\", \"remember\", \"knew\", \"wonder\", \"admit\", \"guess\", \"anymore\", \"Honestly\", \"matter\", \"thinking\", \"suppose\", \"trust\", \"probably\", \"blame\", \"assume\", \"Maybe\", \"explain\", \"Obviously\", \"realized\", \"seem\", \"wish\", \"imagine\", \"though\", \"right\", \"deny\", \"notice\", \"doubt\", \"knows\", \"anything\", \"anyway\", \"realizing\", \"exactly\", \"forget\", \"either\", \"expect\", \"seriously\", \"figured\", \"pretend\", \"why\", \"Actually\", \"truly\", \"idea\", \"seeing\", \"realised\", \"Even\", \"If\", \"meant\", \"realise\", \"bet\", \"regret\", \"suspect\", \"yet\", \"sure\", \"happen\", \"slightest_clue\", \"understood\", \"Knowing\", \"accept\", \"question\", \"funny_thing\"]\n",
      "-------------------------------------------\n",
      "Category reflection created with 69 terms.\n"
     ]
    }
   ],
   "source": [
    "lexicon.create_category(category_name, category_seed_words, size=number_of_words_in_category, model=model_to_use)\n",
    "custom_category_terms = lexicon.cats[category_name]\n",
    "print('-------------------------------------------')\n",
    "print('Category', category_name, \"created with\", len(custom_category_terms), \"terms.\")"
   ]
  },
  {
   "cell_type": "code",
   "execution_count": 13,
   "id": "a31ffdd5",
   "metadata": {
    "colab": {
     "base_uri": "https://localhost:8080/"
    },
    "id": "a31ffdd5",
    "outputId": "fcf92ae9-05de-4b46-bccc-ef6720838719"
   },
   "outputs": [],
   "source": [
    "# check_for_custom_caetgories()\n",
    "# delete_custom_categories()"
   ]
  }
 ],
 "metadata": {
  "colab": {
   "include_colab_link": true,
   "name": "analysis_song_exploder.ipynb",
   "provenance": []
  },
  "kernelspec": {
   "display_name": "Python 3",
   "language": "python",
   "name": "python3"
  },
  "language_info": {
   "codemirror_mode": {
    "name": "ipython",
    "version": 3
   },
   "file_extension": ".py",
   "mimetype": "text/x-python",
   "name": "python",
   "nbconvert_exporter": "python",
   "pygments_lexer": "ipython3",
   "version": "3.9.4"
  }
 },
 "nbformat": 4,
 "nbformat_minor": 5
}

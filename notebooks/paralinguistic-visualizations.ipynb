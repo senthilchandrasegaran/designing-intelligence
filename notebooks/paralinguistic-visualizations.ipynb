{
  "cells": [
    {
      "cell_type": "markdown",
      "metadata": {
        "id": "view-in-github",
        "colab_type": "text"
      },
      "source": [
        "<a href=\"https://colab.research.google.com/github/senthilchandrasegaran/designing-intelligence/blob/main/notebooks/paralinguistic-visualizations.ipynb\" target=\"_parent\"><img src=\"https://colab.research.google.com/assets/colab-badge.svg\" alt=\"Open In Colab\"/></a>"
      ]
    },
    {
      "cell_type": "markdown",
      "id": "e7a1b037",
      "metadata": {
        "id": "e7a1b037"
      },
      "source": [
        "# Analysing Transcripts Created using the Jefferson Conventions\n",
        "This is an example of a how the annotations that form part of the Jefferson Transcription Conventions can be used to visually analyse the [paralinguistic](https://en.wikipedia.org/wiki/Paralanguage) components of the transcript. "
      ]
    },
    {
      "cell_type": "markdown",
      "id": "4cc3f557",
      "metadata": {
        "id": "4cc3f557"
      },
      "source": [
        "## Set up the Notebook\n",
        "Since you are likely to run the notebook using Colab, you do not have to do change anything in the cell(s) below. However, if you plan to clone this repository and run it locally, please edit the cell below according to the instructions in the comments.\n",
        "\n",
        "#### NOTE:\n",
        "If you are planning to run this notebook locally, you will need to make sure you have the [spacy](https://spacy.io/usage), [pandas](https://pandas.pydata.org/), and [seaborn](https://seaborn.pydata.org/) libraries installed."
      ]
    },
    {
      "cell_type": "code",
      "execution_count": null,
      "id": "63048275",
      "metadata": {
        "id": "63048275"
      },
      "outputs": [],
      "source": [
        "environment = 'local'\n",
        "\n",
        "# If you are running the content locally and not using Colab,\n",
        "# comment out the lines below until the line marked with '#---'\n",
        "!git clone https://github.com/senthilchandrasegaran/designing-intelligence\n",
        "%cd /content/designing-intelligence/notebooks/\n",
        "!git pull\n",
        "environment = 'colab'\n",
        "#---\n",
        "\n",
        "if environment == 'colab' :\n",
        "    path = '/content/designing-intelligence/'\n",
        "else :\n",
        "    path = '../'\n",
        "\n",
        "import re\n",
        "import spacy\n",
        "import matplotlib.pyplot as plt\n",
        "import pandas as pd\n",
        "import pprint as pp\n",
        "import seaborn as sns\n",
        "from IPython.display import Markdown, display\n",
        "\n"
      ]
    },
    {
      "cell_type": "code",
      "execution_count": null,
      "id": "cfa7488c",
      "metadata": {
        "id": "cfa7488c"
      },
      "outputs": [],
      "source": [
        "def printmd(string):\n",
        "    display(Markdown(string))"
      ]
    },
    {
<<<<<<< HEAD
     "data": {
      "text/html": [
       "<div>\n",
       "<style scoped>\n",
       "    .dataframe tbody tr th:only-of-type {\n",
       "        vertical-align: middle;\n",
       "    }\n",
       "\n",
       "    .dataframe tbody tr th {\n",
       "        vertical-align: top;\n",
       "    }\n",
       "\n",
       "    .dataframe thead th {\n",
       "        text-align: right;\n",
       "    }\n",
       "</style>\n",
       "<table border=\"1\" class=\"dataframe\">\n",
       "  <thead>\n",
       "    <tr style=\"text-align: right;\">\n",
       "      <th></th>\n",
       "      <th>start</th>\n",
       "      <th>end</th>\n",
       "      <th>match</th>\n",
       "    </tr>\n",
       "  </thead>\n",
       "  <tbody>\n",
       "    <tr>\n",
       "      <th>15</th>\n",
       "      <td>1903</td>\n",
       "      <td>1906</td>\n",
       "      <td>(.)</td>\n",
       "    </tr>\n",
       "    <tr>\n",
       "      <th>23</th>\n",
       "      <td>2789</td>\n",
       "      <td>2794</td>\n",
       "      <td>(0.2)</td>\n",
       "    </tr>\n",
       "    <tr>\n",
       "      <th>17</th>\n",
       "      <td>2050</td>\n",
       "      <td>2053</td>\n",
       "      <td>(.)</td>\n",
       "    </tr>\n",
       "  </tbody>\n",
       "</table>\n",
       "</div>"
      ],
      "text/plain": [
       "    start   end  match\n",
       "15   1903  1906    (.)\n",
       "23   2789  2794  (0.2)\n",
       "17   2050  2053    (.)"
=======
      "cell_type": "markdown",
      "id": "0dbd3a68",
      "metadata": {
        "id": "0dbd3a68"
      },
      "source": [
        "## Read the Transcript\n",
        "For now, this notebook is set up to read the transcript as a text file. Please refer to the sample transcript in the 'data' folder to see what it looks like. The cells below read the transcript and print it out for verification."
      ]
    },
    {
      "cell_type": "code",
      "execution_count": null,
      "id": "3f630ec1",
      "metadata": {
        "id": "3f630ec1"
      },
      "outputs": [],
      "source": [
        "with open(path + 'data/sample-transcript.txt', 'r') as fo:\n",
        "    transcript_text = fo.read()"
      ]
    },
    {
      "cell_type": "code",
      "execution_count": null,
      "id": "b0070c70",
      "metadata": {
        "id": "b0070c70",
        "outputId": "aa6e7743-1b17-451d-ae1a-edeffc916931"
      },
      "outputs": [
        {
          "data": {
            "text/plain": [
              "\"INT: Okav so erm what is the Ten >Percent< Founda::tion\\n  (1.0)\\nRES: The ↑Ten >Percent< Foundation is a charitable trust erm that was sat uo in ↑two >thousand and< ↑two .hh to:oo deal with the donations from the Ten >Percent< group of ↑web↓sites.\\n  (1.2)\\nINT: So can ↑you tell me erm why and how it was established\\n  (2.0)\\nRES: .hhh It was es↑tablished because when we set up the Ten Percent companies .hhh we thought >it would be a ↑good idea< to donate ten percent of our profits to ↑CHArity every year\\n  (.)\\n.hh Erm and we realised quite ↑quick↓ly after ↑trying to donate money to charities .hhh that it was a difficult thing to do .hhh because charities were .hh erm a bit suspicious .hh as to why a company would want to give them any money.\\n  (2.0)\\nINT: .h So what did you do ↑next?\\n  (1.2)\\nRES: Well we went through the ↑diffi↓cult erm experience of .hh trying to (0.2) set up a charitable trust .hh er which took for↑ever with the charity comm↑ission¿ .hh and erm but ↑that's now in place and has been since two thousand and three_ .hh So we've been donating for fifteen years .hh into the cha>rity<.\\nINT: And ↑why ten percent.\\n  (2.7)\\nRES: .hhh Why ↑hot be orobably the best answer because we erm that was a figure we thought was a good i↑dea >and it's connected to the< .hh tithe principle going back into medieval times_ .hh erm and er that's (.) just what we ended up ↑doing?\\n(1.2)\\nINT: So can ↑you tell me a bit about the charities you've supported so far.\\n  (1.0)\\nRES: Well we've- we've supported numerous charities (0.2) around the world, erm the- in Africa mainly and the UK_=so our charitable principles .hh are that we donate to charities in those areas_\\n  (0.2)\\n.hh We ↑won't donate to charities that have (0.2) staff salaries of ↑more than about seventy thousand .hhh er because (0.2) we don't think that's appropriate for .hhh any any charity to-to be giving that sort of ↑money!\\n  (.)\\n.hh Erm so (.) ↑types of charities we've donated ↓to have been local charities <in the> northwest areas=so f- Centre sixty-three and Kirkby_\\n  (.)\\n.hhn Erm the- a domestic violence charity .hh in- on Merseyside_\\n  (.)\\nErm we've given money to local ↑sports clubs,\\n  (.)\\n.hh Erm we've also supported erm the- Riding for the Dis↑abled =the Clwydian Riding for the Dis↑abled, .hh erm and a trampo↑lining erm group in .h ↑Denbigh.\\n  (3.0)\\nINT: And how do vou deci::de what charities vou are going to support_\\n  (1.2)\\nRES: .hh We have ↑two >charity< trustees erm we meet fairly regularly every year to >determine< who gets the money .hhh and we like ongoing projects >so we've< been supporting .hh erm #d-# four children in Tanzania .hh for about five years now through their edu↑cation?\\n  (.)\\n.hh Erm and >similarly< we've done work with a >couple< of Liv- Liverpool charities .hhh erm (0.2) d- of a similar nature .hh where we've been giving them ov- ↑on↓going support for a number of years,\\n  (.)\\n.hhn Erm and we look at new options that >come into us< from members of the public and our clients .hhh and go from ↑there?\\n\""
            ]
          },
          "execution_count": 4,
          "metadata": {},
          "output_type": "execute_result"
        }
      ],
      "source": [
        "transcript_text"
>>>>>>> 2f9537509f67cc863c6a078450bc93913ed16efa
      ]
    },
    {
      "cell_type": "markdown",
      "id": "96b720dd",
      "metadata": {
        "id": "96b720dd"
      },
      "source": [
        "## Visualizing Pauses\n",
        "### Counting the Pauses\n",
        "We use [regular expressions in python](https://www.w3schools.com/python/python_regex.asp) to search for specific annotations in the transcript and collect them. In the function below, we look for all occurrences of characters within parentheses and collect the matches as well as the locations in the transcript (obtained by counting the characters including spaces up to the match) where the match is found."
      ]
    },
    {
      "cell_type": "code",
      "execution_count": null,
      "id": "10d3ed8f",
      "metadata": {
        "id": "10d3ed8f"
      },
      "outputs": [],
      "source": [
        "def get_pauses(transcript_str):\n",
        "    regex=r\"\\(.*?\\)\"\n",
        "    match_list = []\n",
        "    for match in re.finditer(regex, transcript_text):\n",
        "        match_list.append({'start' : match.span()[0], 'end' : match.span()[1], 'match' : match.group()})\n",
        "    df = pd.DataFrame(match_list)\n",
        "    return df"
      ]
<<<<<<< HEAD
     },
     "metadata": {
      "needs_background": "light"
     },
     "output_type": "display_data"
    }
   ],
   "source": [
    "pause_timeline(pauses_df)"
   ]
  },
  {
   "cell_type": "code",
   "execution_count": 9,
   "id": "17482b86",
   "metadata": {},
   "outputs": [
    {
     "data": {
      "image/png": "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\n",
      "text/plain": [
       "<Figure size 1500x700 with 1 Axes>"
      ]
     },
     "metadata": {
      "needs_background": "light"
     },
     "output_type": "display_data"
    }
   ],
   "source": [
    "def pause_counts(df):\n",
    "    pause_types = list(set(list(df['match'])))\n",
    "    pause_types.sort(key=sortnumber, reverse=True)\n",
    "    fig = plt.figure(figsize=[5, len(pause_types)/3], dpi=300)\n",
    "    p = sns.countplot(data = df, y = 'match', order=pause_types)\n",
    "    plt.savefig(path + 'plots/pause-counts.pdf', bbox_inches='tight')\n",
    "#     p.set_ylim([-1,len(pause_types)])\n",
    "\n",
    "pause_counts(pauses_df)"
   ]
  },
  {
   "cell_type": "markdown",
   "id": "9c657877",
   "metadata": {},
   "source": [
    "## Visualizing Intonations\n",
    "We use an approach similar to visualizing the pauses above to count and visualize upward (↑) and downward (↓) intonations."
   ]
  },
  {
   "cell_type": "code",
   "execution_count": 10,
   "id": "4a979c7e",
   "metadata": {
    "id": "4a979c7e"
   },
   "outputs": [],
   "source": [
    "def get_intonations(transcript_str):\n",
    "    regex=r\"↑|↓\"\n",
    "    match_list = []\n",
    "    for match in re.finditer(regex, transcript_text):\n",
    "        match_list.append({'start' : match.span()[0], 'end' : match.span()[1], 'match' : match.group()})\n",
    "    df = pd.DataFrame(match_list)\n",
    "    return df"
   ]
  },
  {
   "cell_type": "code",
   "execution_count": 11,
   "id": "488662fc",
   "metadata": {
    "colab": {
     "base_uri": "https://localhost:8080/",
     "height": 161
=======
>>>>>>> 2f9537509f67cc863c6a078450bc93913ed16efa
    },
    {
<<<<<<< HEAD
     "data": {
      "text/html": [
       "<div>\n",
       "<style scoped>\n",
       "    .dataframe tbody tr th:only-of-type {\n",
       "        vertical-align: middle;\n",
       "    }\n",
       "\n",
       "    .dataframe tbody tr th {\n",
       "        vertical-align: top;\n",
       "    }\n",
       "\n",
       "    .dataframe thead th {\n",
       "        text-align: right;\n",
       "    }\n",
       "</style>\n",
       "<table border=\"1\" class=\"dataframe\">\n",
       "  <thead>\n",
       "    <tr style=\"text-align: right;\">\n",
       "      <th></th>\n",
       "      <th>start</th>\n",
       "      <th>end</th>\n",
       "      <th>match</th>\n",
       "    </tr>\n",
       "  </thead>\n",
       "  <tbody>\n",
       "    <tr>\n",
       "      <th>26</th>\n",
       "      <td>1922</td>\n",
       "      <td>1923</td>\n",
       "      <td>↑</td>\n",
       "    </tr>\n",
       "    <tr>\n",
       "      <th>1</th>\n",
       "      <td>144</td>\n",
       "      <td>145</td>\n",
       "      <td>↑</td>\n",
       "    </tr>\n",
       "    <tr>\n",
       "      <th>10</th>\n",
       "      <td>547</td>\n",
       "      <td>548</td>\n",
       "      <td>↓</td>\n",
       "    </tr>\n",
       "  </tbody>\n",
       "</table>\n",
       "</div>"
      ],
      "text/plain": [
       "    start   end match\n",
       "26   1922  1923     ↑\n",
       "1     144   145     ↑\n",
       "10    547   548     ↓"
      ]
     },
     "execution_count": 11,
     "metadata": {},
     "output_type": "execute_result"
    }
   ],
   "source": [
    "intonations_df = get_intonations(transcript_text)\n",
    "intonations_df.sample(3)"
   ]
  },
  {
   "cell_type": "code",
   "execution_count": 12,
   "id": "20537333",
   "metadata": {
    "colab": {
     "base_uri": "https://localhost:8080/",
     "height": 220
=======
      "cell_type": "code",
      "execution_count": null,
      "id": "5d24df0a",
      "metadata": {
        "id": "5d24df0a",
        "outputId": "7b83657d-c89b-4197-e211-3a8982448092"
      },
      "outputs": [
        {
          "data": {
            "text/html": [
              "<div>\n",
              "<style scoped>\n",
              "    .dataframe tbody tr th:only-of-type {\n",
              "        vertical-align: middle;\n",
              "    }\n",
              "\n",
              "    .dataframe tbody tr th {\n",
              "        vertical-align: top;\n",
              "    }\n",
              "\n",
              "    .dataframe thead th {\n",
              "        text-align: right;\n",
              "    }\n",
              "</style>\n",
              "<table border=\"1\" class=\"dataframe\">\n",
              "  <thead>\n",
              "    <tr style=\"text-align: right;\">\n",
              "      <th></th>\n",
              "      <th>start</th>\n",
              "      <th>end</th>\n",
              "      <th>match</th>\n",
              "    </tr>\n",
              "  </thead>\n",
              "  <tbody>\n",
              "    <tr>\n",
              "      <th>3</th>\n",
              "      <td>507</td>\n",
              "      <td>510</td>\n",
              "      <td>(.)</td>\n",
              "    </tr>\n",
              "    <tr>\n",
              "      <th>19</th>\n",
              "      <td>2173</td>\n",
              "      <td>2176</td>\n",
              "      <td>(.)</td>\n",
              "    </tr>\n",
              "    <tr>\n",
              "      <th>12</th>\n",
              "      <td>1675</td>\n",
              "      <td>1680</td>\n",
              "      <td>(0.2)</td>\n",
              "    </tr>\n",
              "  </tbody>\n",
              "</table>\n",
              "</div>"
            ],
            "text/plain": [
              "    start   end  match\n",
              "3     507   510    (.)\n",
              "19   2173  2176    (.)\n",
              "12   1675  1680  (0.2)"
            ]
          },
          "execution_count": 6,
          "metadata": {},
          "output_type": "execute_result"
        }
      ],
      "source": [
        "pauses_df = get_pauses(transcript_text)\n",
        "pauses_df.sample(3)"
      ]
    },
    {
      "cell_type": "markdown",
      "id": "56b1adc1",
      "metadata": {
        "id": "56b1adc1"
      },
      "source": [
        "### Plotting the Pauses\n",
        "We then plot the pauses along the length of the transcript, with each \"kind\" of pause on a separate row."
      ]
    },
    {
      "cell_type": "code",
      "execution_count": null,
      "id": "c46ef718",
      "metadata": {
        "id": "c46ef718"
      },
      "outputs": [],
      "source": [
        "def sortnumber(elem):\n",
        "    elem_no_pars=elem[1:-1]\n",
        "    if elem_no_pars == '.' :\n",
        "        elem_num = 0.0\n",
        "    else :\n",
        "        elem_num = float(elem_no_pars)\n",
        "    return elem_num\n",
        "\n",
        "def pause_timeline(df):\n",
        "    pause_types = list(set(list(df['match'])))\n",
        "    pause_types.sort(key=sortnumber)\n",
        "    fig = plt.figure(figsize=[10, len(pause_types)/3], dpi=300)\n",
        "    p = sns.stripplot(data = df, x = 'start', y = 'match', order=pause_types,\n",
        "                      s=10, marker=\"$\\u007C$\", jitter=False)\n",
        "    plt.savefig(path + 'plots/pauses-timeline.pdf', bbox_inches='tight')\n",
        "    p.set_ylim([-1,len(pause_types)])"
      ]
    },
    {
      "cell_type": "code",
      "execution_count": null,
      "id": "48823bd7",
      "metadata": {
        "colab": {
          "base_uri": "https://localhost:8080/",
          "height": 430
        },
        "id": "48823bd7",
        "outputId": "54df7f3f-4f90-42c5-b8d6-e39200dd23a8"
      },
      "outputs": [
        {
          "data": {
            "image/png": "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\n",
            "text/plain": [
              "<Figure size 3000x700 with 1 Axes>"
            ]
          },
          "metadata": {
            "needs_background": "light"
          },
          "output_type": "display_data"
        }
      ],
      "source": [
        "pause_timeline(pauses_df)"
      ]
    },
    {
      "cell_type": "markdown",
      "id": "9c657877",
      "metadata": {
        "id": "9c657877"
      },
      "source": [
        "## Visualizing Intonations\n",
        "We use an approach similar to visualizing the pauses above to count and visualize upward (↑) and downward (↓) intonations."
      ]
    },
    {
      "cell_type": "code",
      "execution_count": null,
      "id": "4a979c7e",
      "metadata": {
        "id": "4a979c7e"
      },
      "outputs": [],
      "source": [
        "def get_intonations(transcript_str):\n",
        "    regex=r\"↑|↓\"\n",
        "    match_list = []\n",
        "    for match in re.finditer(regex, transcript_text):\n",
        "        match_list.append({'start' : match.span()[0], 'end' : match.span()[1], 'match' : match.group()})\n",
        "    df = pd.DataFrame(match_list)\n",
        "    return df"
      ]
>>>>>>> 2f9537509f67cc863c6a078450bc93913ed16efa
    },
    {
      "cell_type": "code",
      "execution_count": null,
      "id": "488662fc",
      "metadata": {
        "colab": {
          "base_uri": "https://localhost:8080/",
          "height": 161
        },
        "id": "488662fc",
        "outputId": "632e3efc-e8b2-44f5-e809-2173a408a159"
      },
      "outputs": [
        {
          "data": {
            "text/html": [
              "<div>\n",
              "<style scoped>\n",
              "    .dataframe tbody tr th:only-of-type {\n",
              "        vertical-align: middle;\n",
              "    }\n",
              "\n",
              "    .dataframe tbody tr th {\n",
              "        vertical-align: top;\n",
              "    }\n",
              "\n",
              "    .dataframe thead th {\n",
              "        text-align: right;\n",
              "    }\n",
              "</style>\n",
              "<table border=\"1\" class=\"dataframe\">\n",
              "  <thead>\n",
              "    <tr style=\"text-align: right;\">\n",
              "      <th></th>\n",
              "      <th>start</th>\n",
              "      <th>end</th>\n",
              "      <th>match</th>\n",
              "    </tr>\n",
              "  </thead>\n",
              "  <tbody>\n",
              "    <tr>\n",
              "      <th>24</th>\n",
              "      <td>1749</td>\n",
              "      <td>1750</td>\n",
              "      <td>↑</td>\n",
              "    </tr>\n",
              "    <tr>\n",
              "      <th>22</th>\n",
              "      <td>1406</td>\n",
              "      <td>1407</td>\n",
              "      <td>↑</td>\n",
              "    </tr>\n",
              "    <tr>\n",
              "      <th>36</th>\n",
              "      <td>2858</td>\n",
              "      <td>2859</td>\n",
              "      <td>↓</td>\n",
              "    </tr>\n",
              "  </tbody>\n",
              "</table>\n",
              "</div>"
            ],
            "text/plain": [
              "    start   end match\n",
              "24   1749  1750     ↑\n",
              "22   1406  1407     ↑\n",
              "36   2858  2859     ↓"
            ]
          },
          "execution_count": 10,
          "metadata": {},
          "output_type": "execute_result"
        }
      ],
      "source": [
        "intonations_df = get_intonations(transcript_text)\n",
        "intonations_df.sample(3)"
      ]
    },
    {
      "cell_type": "code",
      "execution_count": null,
      "id": "20537333",
      "metadata": {
        "colab": {
          "base_uri": "https://localhost:8080/",
          "height": 220
        },
        "id": "20537333",
        "outputId": "21fc5947-9042-4a8d-e00e-8152dc641894"
      },
      "outputs": [
        {
          "data": {
            "image/png": "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\n",
            "text/plain": [
              "<Figure size 3000x200 with 1 Axes>"
            ]
          },
          "metadata": {
            "needs_background": "light"
          },
          "output_type": "display_data"
        }
      ],
      "source": [
        "def intonation_timeline(df):\n",
        "    intonation_types = list(set(list(df['match'])))\n",
        "    fig = plt.figure(figsize=[10, len(intonation_types)/3], dpi=300)\n",
        "    p = sns.stripplot(data = df, x = 'start', y = 'match',\n",
        "                      s=10, marker=\"$\\u007C$\", jitter=False)\n",
        "    p.set_ylim([-1,len(intonation_types)])\n",
        "    plt.savefig(path + 'plots/intonation-timeline.pdf', bbox_inches='tight')\n",
        "\n",
        "intonation_timeline(intonations_df)\n"
      ]
    },
    {
      "cell_type": "code",
      "execution_count": null,
      "id": "760d74f7",
      "metadata": {
        "id": "760d74f7"
      },
      "outputs": [],
      "source": [
        ""
      ]
    }
<<<<<<< HEAD
   ],
   "source": [
    "def intonation_timeline(df):\n",
    "    intonation_types = list(set(list(df['match'])))\n",
    "    fig = plt.figure(figsize=[10, len(intonation_types)/3], dpi=300)\n",
    "    p = sns.stripplot(data = df, x = 'start', y = 'match',\n",
    "                      s=10, marker=\"$\\u007C$\", jitter=False)\n",
    "    p.set_ylim([-1,len(intonation_types)])\n",
    "    plt.savefig(path + 'plots/intonation-timeline.pdf', bbox_inches='tight')\n",
    "\n",
    "intonation_timeline(intonations_df)\n"
   ]
  },
  {
   "cell_type": "code",
   "execution_count": 13,
   "id": "760d74f7",
   "metadata": {
    "id": "760d74f7"
   },
   "outputs": [
    {
     "data": {
      "image/png": "iVBORw0KGgoAAAANSUhEUgAABT8AAAFQCAYAAAB53QqmAAAAOXRFWHRTb2Z0d2FyZQBNYXRwbG90bGliIHZlcnNpb24zLjQuMiwgaHR0cHM6Ly9tYXRwbG90bGliLm9yZy8rg+JYAAAACXBIWXMAAC4jAAAuIwF4pT92AAAvBUlEQVR4nO3dd7hsZ1k34N8TDoEkpJAEQodQEiB0QUAQgmBBEQiigIUiAoqI2D8FKYpi4bOCBRSCn4pSpIiIAiYUQzeIYGjBBEOHFAgkIeX5/pg5nDmTvc/es9vMrHPf1zXXnvedtd55zrnW9e6Z317vWtXdAQAAAAAYmgPmXQAAAAAAwHYQfgIAAAAAgyT8BAAAAAAGSfgJAAAAAAyS8BMAAAAAGCThJwAAAAAwSMJPAAAAAGCQhJ8AAAAAwCAJPwEAAACAQRJ+AgAAAACDJPwEAAAAAAZJ+AkAAAAADJLwEwAAAAAYJOEnAAAAADBIwk8AAAAAYJCEnwAAAADAIAk/AQAAAIBBEn4CAAAAAIMk/AQAAAAABkn4CQAAAAAMkvATAAAAABgk4ScAAAAAMEjCTwAAAABgkISfAAAAAMAgCT8BAAAAgEESfgIAAAAAg7Rr3gUwPFV1eJJ7T3T9b5Kvz6kcAAAAAObnwCQ3nGi/pbsv2Kk3F36yHe6d5DXzLgIAAACAhfOgJK/dqTez7B0AAAAAGCThJwAAAAAwSJa9sx3+d7Lx6le/Oje/+c3nVQsAAAAAc/Lxj388D37wgye7/neVTbeF8JPtsNfNjW5+85vnhBNOmFctAAAAACyOHb0ptmXvAAAAAMAgCT8BAAAAgEESfgIAAAAAgyT8BAAAAAAGyQ2P2Hbf/9zX5KCj3zfvMuAb3ve7j5x3CQAAAMAOcOYnAAAAADBIwk8AAAAAYJCEnwAAAADAIAk/AQAAAIBBEn4CAAAAAIMk/AQAAAAABkn4CQAAAAAMkvATAAAAABgk4ScAAAAAMEi75l3AVqiqg5McnuSqs+7b3Z/c+ooAAAAAgHlbyvCzqm6U5LFJvi3JHZIcvMGhOkv6fwAAAAAA7NtSBX9VtSvJryf5uSRX2d09v4oAAAAAgEW1NOFnVVWSv0/y4OwJPHv8EIACAAAAAHtZmvAzyU8mOSl7B56V5KwkZyQ5L8ml8yoOAAAAAFgsSxF+js/6fGr2PsvzNUme2t3/PbfCtlFVHZvRdU13+5Pu/vS86gEAAACAZbMU4WeSOyc5JnvO+jy5ux+7712W3o0zCnx3e3US4ScAAAAArNMB8y5gnW47/llJLk7ys3OsBQAAAABYAssSfh49/tlJ3tndF8yzGAAAAABg8S1L+HnRxPPPzK0KAAAAAGBpLEv4ec7E80PmVgUAAAAAsDSWJfx8T5Irxs+Pn2chAAAAAMByWIrws7vPSXJKRjc8Or6qjptzSQAAAADAgluK8HPsGUkuHz//zXkWAgAAAAAsvqUJP7v7tIwC0EpyUlUJQAEAAACAVS1N+Jkk3f2bSX4hSSf5pao6taq+vap2zbk0AAAAAGDBLERoWFX/NuMu5yc5Msm3JnlDkouq6swk52XPjZHWo7v7vjO+NwAAAACwBBYi/ExyYkZnc86iM1oCnyQHJ7ntjGPUBt4TAAAAAFgSixJ+bpTwcptV1bWTXGvG3W62HbUAAAAAwCwWKfystTdhDp6Y0Y2mAAAAAGCpLET42d1LdeMlAAAAAGDxCR0BAAAAgEFaiDM/WWh/kuTlM+5zsySv2YZaAAAAAGDdhJ/sU3d/PsnnZ9mnyuVbAQAAAJg/y94BAAAAgEESfi6AqrpBVV1nxn1uWlVHbldNAAAAALDslmbZe1Udm+RXJ7r+z3hJ9ixjHJPkORNdT+/uc7aivo2qqhskOSXJZVV1n+7+7Dr2uVmSU5N8oaru193nbnOZAAAAALB0lib8TPL4JI9O0kneOWvwmSTd/bmqumWSu467zk7yrC2rcEZVdf2Mgs+bj7tOHQegn9nHPjcd73OD8ePN4wD0S9teMAAAAAAskWVa9v6Qiecv2sQ4L0pS48f3b6qizbt8/Njt+CSnVNV1V9p4fPbrKUluuI8xAAAAAIAsSfg5Xhp+i3Gzk7xqE8O9ajxGktxqvBR+LsZL3E9M8pGJ7uMzCjinA9CbjPtvNNH3viTf3t3nb1uRAAAAALCkliL8THLb8c9O8onNXONyvDz8zImu22+msM3aRwD6wqlNT05y44n2f2QUfJ63nfUBAAAAwLJalvDz2InnH1l1q/X76Cpjz8UqAeghU5tNtk9Pcj/BJwAAAACsblnCz8Mmnp+/BeNNjnH4Foy3aasEoCsRfAIAAADAOixL+HnpxPODt2C8gyae1xaMtyXWEYC+P6Pgc8PL/gEAAABgf7Es4ecXJ55ffwvGmxzjS1sw3pbZRwD6/iT3FXwCAAAAwPosS/j56fHPSnLHqrrGRgca73unia7PbKaw7TARgH543PWfccYnAAAAAMxkWcLPdyS5LKO7ve9K8qObGOsx4zEyHu8dmytte3T3Z7v7Vt1d3X2H8V3qAQAAAIB1Worws7svTPLujM78rCRPq6obzDrOeJ+nZRR6dpL3OZsSAAAAAIZpKcLPsT8c/+wkRyd5Q1Udu96dq+omSV6f5FrZc5OjP9rKAgEAAACAxbFM4ecrknxg/LyT3DrJ+6vqV6vqmNV2qqprV9XTkpye5ITsOevzQ0n+dntLBgAAAADmZdfamyyG7u6q+oEk70pyWEYB5qFJnpnkmVX1kYwCzfPGrx2ZUUB6fPYsl+/xz/OSfF939w7/MwAAAACAHbI04WeSdPdHq+qkJK9MckT2hJlJcsuMgs5JNfF897ZfSvKQ7v7Y9lYLAAAAAMzTMi17T5J096lJ7pLkndkTbu5eyn6lzSf6K8lbk3xTd79tm8sEAAAAAOZs6cLPJOnuT3T3PZJ8Z5JXJTk/e5a2Tz/Oy+h6offp7hO7+5NzKRoAAAAA2FFLtex9Wne/Mckbq6qS3CrJdZMcNX75i0k+091nzKs+AAAAAGB+ljr83G1846L/Hj8AAAAAAJZz2TsAAAAAwFqW5szPqnrkRPMV3f21DY5zSJLv293u7r/abG0AAAAAwOJZmvAzycnZc+f2U5Ns9MZFR0+NJfwEAAAAgAFatmXvtaBjAQAAAAALZpnO/GRJvfznH5QTTjhh3mUAAAAAsJ9ZtjM/t8LkGZ+96lYAAAAAwFLbH8PPQyaeb+imSQAAAADA4tsfw8/J9dfnza0KAAAAAGBb7VfhZ1UdluRnxs1O8uE5lgMAAAAAbKOFuuFRVb1onZs+t6ounGHoqyW5bpK7JDl4ov+tM4wBAAAAACyRhQo/kzw6a9+EqJJ83wbHr4nxL07yVxscBwAAAABYcPvVsveMgs9KclmSJ3b3/865HgAAAABgmyzamZ/JKJzcim1WclaSU5L8UXf/5wbHAAAAAACWwKKFn8eu0l9JPjF+3knuleScdY7ZSS5Jcn53X7K58gAAAACAZbFQ4Wd3n73aa1WV7Lle5/929yd3pCgAAAAAYCktVPi5hk9mT/h52TwLAQAAAAAW39KEn919k3nXAAAAAAAsj/3tbu8AAAAAwH5C+AkAAAAADNLSLHtneX3mTx+cQ6999XmXAQAAALDQbvT0/5p3CYMziPCzqm6Q5JpJDs+MZ7N291u3pSgAAAAAYK6WMvysql1JfjDJDyW5a5JDNzhUZ0n/DwAAAACAfVu64K+q7prk75LcaHfXHMsBAAAAABbUUoWfVXW/JK9LctWMQs+eeHnyea3SP/0aAAAAADBQSxN+VtUxSV6a5MDsCTS/kOSfk3wlyZPGfZ3kWUkOS3K9JHfPnrNEO8nnk7wgyeU7UjgAAAAAMBdLE34meUqSo7In+Hxxkid190VVdePsCT/T3c+a3LGqvi3Jc5LcJcm1ktwzyQO7+8IdqBsAAAAAmIOZ7ow+Zz+WPcHnKd392O6+aD07dve/JblHkpMzWvZ+7ySv2I4iAQAAAIDFsBThZ1XdKqOzPndfr/Ops47R3ZdlFKC+bTzOt1fVY7esSAAAAABgoSxF+JnkDhPPP9vd79rIIN19RZKfn+j6ic0UBQAAAAAsrmUJP48a/+wk/7XC63vd0b2qrr7aQN39niRnZXT25x2r6qZbVCMAAAAAsECWJfw8bOL5l1Z4/WtT7WusMd4HJ57ffkMVAQAAAAALbVnCz4snntcKr39lqn29Nca7YOL5dTZUEQAAAACw0JYl/Dx34vlh0y929yXZO9C85RrjHTXx/PBN1AUAAAAALKhlCT8/NvH82FW2+dDE8xNXG6iqrprkrhNdX954WQAAAADAolqW8PO/M7qpUSW5RVUduMI27xj/rCQPr6ojVxnrx5Ncc6L9kS2rEgAAAABYGEsRfnb3edlzk6KrJLnXCpu9fPfmGS1l/8equvHkBlX1Y0memz13h/9aktO2vOAtUlU/XFXPrqrvn3ctAAAAALBsds27gBm8Mcltx88fkORNky9297ur6m1J7jnuunuSM6vqjIyuB3qLJEdnzw2TOslfdPdF2134RlTVzyf53XGzq+rI7v7zedYEAAAAAMtkKc78HHvZ+Gcl+ZGquvoK2/xkkgvHzzujf98JGQWh1xrvu/uszzOT/Oq2VbsJU8FnMqr7T6vq8XMqCQAAAACWztKc+Tk+s/P7siewPSTJxVPbfLCqviejoPQ6u7snftb48YEk39vdF2bBrBB8fuOlJH9WVd3dL9zhsgAAAABg6SxN+Jkk3f2qdWzz9qo6PslPJHlgRsvdj0hyXpL/TPL3SV7S3ZdvY6kbso/g8xubJPnzqooAFAAAAAD2banCz/Xq7q8k+Z3xYymsI/j8xqYZBaDd3X+xzWUBAAAAwNJapmt+DtYqwecr99GuJC+oqsdua2EAAAAAsMSEn3O2SvD5lCTPm+r7rSTPnNw1yQur6ke3rTgAAAAAWGLCzzmqqjvnysHnT3f3H660fXc/K8mzJofIaAn8zbepRAAAAABYWsLPOeru9yb5xYmuJ3f3H62xzzOT/Nq4eUWSx3X3x7enQgAAAABYXkt5w6OqOiTJDyS5b5I7JDkmyWGZ/d/T3T3X/4Pu/t2q6iSXdPcfr3OfZ1RVJTmzu1+yvRUCAAAAwHJauvCzqp6c5NeTXGN31xzL2RLd/dwN7PP07agFAAAAAIZiacLP8ZmOL07yI9kTePb4kcwWgvaM2++3quraSa414243245aAAAAAGAWSxN+JnlykkeOn+8OLyvJRUnOTHJBksvmU9qgPTHJM+ZdBAAAAADMainCz6raleTp2Tv0fH2S307y9u7ufewOAAAAAOyHliL8THKvJNfMnmXuf9bdPznfkgAAAACARbYs4efx45+V5MtJfn6Otexv/iTJy2fc52ZJXrMNtQAAAADAui1L+HnN8c9Oclp3XzTPYvYn3f35JJ+fZZ/RvakAAAAAYL4OmHcB6/SViedfmlsVAAAAAMDSWJbw88MTz4+cWxUAAAAAwNJYlvDz7Um+ltE1P+8y51oAAAAAgCWwFOHn+BqfLxk3j6qqk+ZZDwAAAACw+JYi/Bx7epLPjJ//QVUdM89iAAAAAIDFtjThZ3d/KckDkpyf5IZJ3l5Vd59rUQAAAADAwto17wJm0d2nV9Xdkrw8ye0yCkDfnuQNSc7IKBi9YsYx37rVdQIAAAAA87dU4WeSdPfHqurnkrwsyTWT3HP82NBwWcL/AwAAAABgbUsV/FXVYUlenOTB467e/dJcCgIAAAAAFtbShJ9VdUiSU5LcIaOwU/AJAAAAAKxqacLPJM9JcseMQs/OKPS8MMm/J/lYkguSXDa36gAAAACAhbIU4WdVHZHkcdkTel6W5KlJ/ri7L55jaQAAAADAglqK8DPJiUmulj1nff5kd79wrhUBAAAAAAttWcLPm41/VpJP7Q/BZ3efGtczBQAAAIANO2DeBazT7jo7yXvnWQgAAAAAsByWJfz81MTzr82tCgAAAABgaSxL+PnxiefXmVsVAAAAAMDSWIrws7vfneSsjK6Bedequvp8KwIAAAAAFt1ShJ9jfz7+eVCSJ82zEAAAAABg8S1T+Pl7Sd6d0dmfv1ZV955zPQAAAADAAlua8LO7L03y3UneleTqSf6lqp5WVYfNtzIAAAAAYBHtmncB61VVTx8//bckxyW5ZpJnJfmlqnpHkjOSnJfkilnG7e5f28o6AQAAAIDFsDThZ5JnJumJdme0BP6QJPcdPzZC+AkAAAAAA7Q0y95X0dk7EJ1FbWUhAAAAAMBiWaYzPxOBJQAAAACwTssUft5n3gUAAAAAAMtjacLP7n7LvGsAAAAAAJbH0oSfLK/r/sSrc6MTTph3GQAAAADsZ5b9hkcAAAAAACsSfgIAAAAAgyT8BAAAAAAGSfgJAAAAAAySGx6xHQ6cbHz84x+fVx0AAAAAzNEKudCBK223Xaq7d/L92A9U1QOTvGbedQAAAACwcB7U3a/dqTez7J3tcPi8CwAAAAAA4Sfb4bB5FwAAAAAArvnJdnjvVPuhST48j0Jgys2y9yUZHpTkzDnVAtMcnywyxyeLzPHJonJsssgcn+ykA5PccKL9lp18c+En2+HCqfaHu/tDc6kEJlTVdNeZjk0WheOTReb4ZJE5PllUjk0WmeOTOTh9Xm9s2TsAAAAAMEjCTwAAAABgkISfAAAAAMAgCT8BAAAAgEESfgIAAAAAgyT8BAAAAAAGSfgJAAAAAAyS8BMAAAAAGCThJwAAAAAwSMJPAAAAAGCQhJ8AAAAAwCDtmncBDNIXkjxrqg2LwLHJInN8ssgcnywyxyeLyrHJInN8st+o7p53DQAAAAAAW86ydwAAAABgkISfAAAAAMAgCT8BAAAAgEESfgIAAAAAgyT8BAAAAAAGSfgJAAAAAAyS8BMAAAAAGCThJwAAAAAwSMJPAAAAAGCQhJ8AAAAAwCAJPwEAAACAQRJ+AgAAAACDJPwEAAAAAAZp17wLYFiq6tgkd0hyvSTXSPKZJGcnOa27L51jaQCDUVVXTXKPJDdKct0kFyb5dJLTu/usOZYGsG5VdZUkN09y64w+Ox6e5JIk5yU5M8l7u/urW/ye5k/WZR7HJ6xXVR2U5JZJbpzR8Xlokqsm+XKSLyX5YJIPdfdlW/R+5k6WWnX3vGtgAKrqoUl+NsndV9nk3CR/n+Tp3f3FHSsMYAdU1U2T3CXJncc/75TRh9Ddzu7um2zB+1wrybOSPCzJkatsdlqS3+vuV272/QC2WlXdKMlDktwvybcmOWwfm1+e5I1Jntfd/7TJ9zV/sqadPD6rarNfxI8VOu1fquoxSb4tyV2T3Cxrr+S9MMnLkvxxd79/g+9p7mQQhJ9sSlVdI8kLkzx8nbt8Lsmjuvtftq8q9mdV9cwkz9jEEC/p7kdvTTUMWVWdmOSXMwo8V/swuNumw8+qun+Sk5Nce527/E2SJzgrhe0M5315ZxZV9bdJHrHB3V+X5Me6+3MbeF/zJ2va6ePT/MmsquqcJNffwK6XJ/njJL8wy5mg5k6GxLJ3Nmy8FOTvk3z31EtfSHJ6kgsy+ovUHZPU+LVjkrymqu7X3W/fqVoBtsEdknzHTrzROGh9dZIDJ7o7yX8k+USSIzKaa4+eeP2HkhxWVQ/u7it2ok4Wx4zhPOyU41bp/1SSj2X0R/JdSW6a5PbZ+6ymByR5a1Xdu7s/u943NH8ygx0/PmGTvpbRJRg+mdFy9wMy+p1/2yTXmdjuKkmekuQmVfXQ7r58rYHNnQyN8JPN+K3sHXxemtHS9xd099d3d1bVrZP8RfYsib9akldX1W27+zM7VSzADrkkyTkZ/fFn06rqBkn+IXt/+Pz3JI/r7jMmtrtakickeW5G13xKku9N8uwkv7IVtbBU7pAdCudhg05P8qIk/9zdZ06/WFXXT/L0JI+f6D4uycur6l69juVr5k82YduPzynvyvpX0u12zozbs/y+muS1Sf45o6XmH1wtZKyqu2U0h913ovvBGX1f/919vYm5kyGy7J0NGS+h+3D2THJJ8uDufs0q2x+U5M3Z+5qgf97dP759VbI/WmHZ+yOSvHOGIS50XVrWo6qekuR3knwoyXuTvGf8878yuiD8KRObb2ZZ8V8m+dGJrtOS3Le7L15l+wcnedVE1yVJju/uszfy/iyn8fH5+yu8tFI4v1XL3jf05X2rbsbA4quq92R09twzu/u969zniUmeP9X9iO7+u3Xsa/5k3eZwfE7On2/p7hPXWyv7p6q66iw3Ea6qA5K8JMkPT3RfkOSY7r5kH/uZOxkc4ScbUlUvSfLIia6Tu/sxa+xzXEahwO6/IF2W0aT4ie2pkv3RCuHnfbr71PlUw5BV1TWTXLTSB8HxUqFNh59VdYskZ2S0XClJvp7kNt39sTX2OznJoya6XtzdP7rK5gzQDobzvryzblV1k41co7CqXpHk+ya6Xt/d37PGPuZPZrKTx+d4P/Mn266qDsvoruyHTHTfv7vfsMr25k4Gaa27g8GVjM/ifOhU92+vtV93fzSj64bstivJD25dZQA7p7vPW+0v4FvoB7Pnw2eS/MNaHz7HpufkH6iqq29dWSyBlyQ5rLvv2N2P6+4XdPd/zHLGCGy1TdycZfrMuvusYx/zJzPZ4eMTdkR3fznJ9L02br6PXcydDJLwk434ziQHT7Tf0d0fXue+L55qP2RrSgIYpJOm2tNz6IrG12N610TXIXH9x/3KDoXzsFNOn2ofVFVHrLGP+ZOdspHjE3bSuVPtQ/exrbmTQRJ+shHfNdU+dYZ935bRcvfd7lhVx2y6IoCBqarrZHQ32d0uy+hi8+t16lT7/putCWBOVrou7IEr9CUxf7LjZjo+YQ5uPNX+9EobmTsZMuEnG3GbqfY71rtjd381o+uNTTph0xUBDM/0XPuB8Ry6XqdNtc21wLKaXqJ5WZJ93ZzQ/MlOmvX4hB0zvu/GXSe6OslbVtnc3MlgCT/ZiFtNtT8+4/5nTrVvvYlaAIZqem401wL7q+lrzb+3u6/Yx/bmT3bSrMfnSm5UVS+uqg9V1XlV9fWq+ty4/ddV9fiqOnKrCmb/UFXXTfLy7H0Nz1fs4/q25k4GS/jJTMa/dKd/8X5yxmGmt7/FxiuCNT2hqt5UVZ+qqour6itVdVZVvaWqfqOqvnXeBcIqps8kmXWuPXuqfdT4DvWwXXx5Z8tV1TWSPHaq+1Vr7Gb+ZEds8PhcybFJHp1RWHREkqsmufa4/UNJ/jzJJ6vq98fvCVdSVbuq6lpVda+q+p0kH05yu4lNPpHkSfsYwtzJYAk/mdURU+2vzXgqfJJ8fqp9+MbLgTU9PMl9k1wvydWSXCOj697cK8mvJHlrVb2nqu43vxJhRUdMtafnzn3q7guTTN/wxnzLdvLlne3wnCTXmWifn+Qv1tjniKm2+ZPtspHjc6MOSfKUJO+rKsuJSVX9QVX17keSSzOa796S5BeSHDax+SlJ7tXd+5oPj5hqmzsZDOEns5r+snLRBsaY3mdfd5uDnXDnJP86PhO05l0MjJlvGSJf3lm3qjopVz5L6andPX3n4mnmT7bdJo7PSZdldJOYpyV5YJI7ZbQq7o5JHpTkublyAHVckjdV1fRNbGAlr03ynd39bd39qTW2NXcyWLvmXQBLZ3pCnP7LznpMT4jO/mA7fCrJ65O8O8kZSc5NckWSozL6YPmAJN85sX1ldCboAUl+eUcrhZVt1Xw7udzIfMt2uCzJ25O8KckHkpyT5CsZHW83SvKtSR6Z0Vmgu+3+8n637p5eJgepqtsn+aup7n9N8qfr2N38ybba5PG529OSvHAfZ+K9P8lrq+pXkzwjyS9l9Hk1GZ1t+g9Vdefu7hnek/3P/ZNcpaou7u63rrGtuZPBEn6yWRv5ZesXNNvp3RmFmm/cx4fB05I8r6runORvs/d1Z/9PVb2zu1+zzXXCrMy3LCJf3tlyVXWjJP+Uvb80n53khzd4rJg/2TJbdXx292+sc7uLk/xyVZ2T5HkTL90pySMy+izL/unXkvzBRPugjE70uEOSk5J8W0aXoPmeJN9TVc9P8tPdffk6xzd3MhiWvTOrC6faB21gjOl9pseEDevu13f3v67nw2d3vzfJ3ZJ8dOql36qqq6ywC+wk8y0Lr7t/Y43rh+3e7uLu/uUkPzX10u4v75AkqaprJ3ljkutPdH82ybd39xfWOYz5k22xRcfnhnT38zNawjzpidv5niy27j63u8+aeJzR3W/v7ud1930zWnkxubriJ5O8YB9DmjsZLOEnszIhMijj6zI9Inv/lfKWSe4zn4rgG8y3DI4v7+xLVR2Z0eUTjpvo/mKS+3X3x2YYyvzJltvC43MznjPVvltVHbFD782S6e63Z/Sd5ksT3T9aVQ9aZRdzJ4Ml/GRWF0y1D66qQ2Yc49pT7fM3Xg5sXnf/R0bXaZr0XfOoBSZMz7fXmmXn8d20pz+Anr+ZgmCL+PLOlVTV4Rn9Lr7tRPd5GZ1R96EZhzN/sqW2+PjcjHeP33e3qyS59Q6+P0umu/8no+Xxk35xlc3NnQyW8JOZdPeXsvcv3GR0M4NZTN+ZcKf+Ugr78oap9u3mUgXsMT03znpX1+ntz+3u6fkb5sGXd/ZSVYdm9Hv4mya6v5zku7r7/RsY0vzJltmG43PDuvuKJJ+c6p4poGK/9HdT7dX+6GjuZLCEn2zEGVPtm8+4/03XGA/m4ayptg+SzNtWz7X/vYlaYMv48s6k8Qqi12d0De7dLkxy/+5+9waHNX+yJbbp+Nysi6baG1mazH5kfG3uyRDygCTHrrCpuZPBEn6yER+cat99vTuOP0BMn1E3PR7Mgw+SLJrpufF2VXXwDPvfY43xYJ7MuaSqDkryuiT3nOj+WpLv6e7TNjG0+ZNN28bjc7OOnmp/cS5VsGwunWpfbYVtzJ0MlvCTjZheHnziDPt+a5JdE+3Tu/tzm64INs8HSRZKd38myQcmunZl7y9gazlxqv3Pm60JtpA5dz9XVVfP6OZXJ050X5zkgd391s2Mbf5ks7bz+NyMqjo6Vz677tPzqIXlMT6ep3/vXuk7uLmTIRN+shH/kr3P2Lh7Vd1ynfs+eqr9qi2pCDbvrlNtHyRZBNNz5GPWs9N4Tp48pr+aK9/UC+bCl3eq6sAk/5DkfhPdlyR5cHe/eYvexvzJhuzQ8blRD8/e3+E/F5cQY233zd7HzdeSfGqVbc2dDJLwk5l199eSvGKq+5fW2q+qjkty0kTXZUn+dgtLgw0Z/zX0IVPdp86hFJj2N0kun2g/pKpusY79pufkl3X3xVtXFmyKL+/7saraleRlSe4/0X1pkod2979s4VuZP5nZDh6fM6uqY5I8bar7H7u751EPy6GqDkjyq1Pdb+jur6+yi7mTQRJ+slHPzN7XDXl0VT1wtY3H4dKLkxw40f2X3X3m9pQHM/mlJNefaF+e5J/mVAt8Q3d/LMlLJroOTHLyeE5dUVU9KHufZf/1JM/algJhRr6879+q6ioZfbF+0ET3ZUke1t2v28r3Mn8yq506Pqvq+Kr63hn3uU5G1x89ZqL760mes1V1sdiq6qeq6roz7nPVJH+ZK69we/5q+5g7GSrhJxvS3Z9I8odT3a+oqieNl4p8Q1XdKsmbk3zLRPeXYkJki1XVj4y/WM+yz+OSPGOq++TuPnvrKmOoquoGVXWT6UeS60xtumul7caP6WswTXtG9r5D57ckedP05Uaq6mpV9VNJXj61//91PLPVfHlng16U5Aem+n4lyen7mCNXe6z6RXyC+ZNZ7NTxed0kr62qD1TVL+7rrLqqOrSqnpTk/UnuPPXys8ffydg/PDbJmVX111X1vVV16GobVtVBVfWIJKfnyped+3/d/W9rvJe5k8Epf2hno8Z/Hf3H7L0sJEk+n+Q/knwlo2t63SlJTbz+9ST36+637USd7D+q6tQk35zRL+CXJTm1u7+6yrZ3zugD7UlTL30qyZ27+7PbWCoDUVVnJbnxJod5SXc/eo33OTGj6y1P/nGpk7wvySeSHJ7RXHutqV1fl9E1yi4P+52qukH2vsngbndL8tKJ9qey+g0NLuzuK92MaHxMnpLkv5L8dZJXjc8WWamOQ5M8KqMzPqf/QPX07v711f8VDElVbeUXj/t096nreM8TY/5kHXbq+JyYPyddkNGdsb+Y0XeoayS5YZLbZ+V5/AXd/YQtqpUlUFXvz+h42K2TfDzJWUnOz+g79qEZfS69dZKrrjDM6zK6hMMl63i/E2PuZECEn2xKVV0jyV8kedg6d/l8kkd19/Qd42HTxuHnvSe6rkjysYw+FFyQ0XL2ozL64LDSGaLnJrl3d39wWwtlMHYq/By/13cnOTlX/pC5mpcmedxqfwBg+Lbz+PTlnY2YR/g5fl/zJ2uac/i5Xl9N8jPd/cIN7s+SWiH8nMVFSZ6d5He7+9K1Np54T3Mng7HSB1FYt+6+MMnDq+oVSX4uo7NJVnJukr9P8ozu/sJO1cd+74Akx48fa3lzkkd39znbWxJsTHe/vqpuk9ElQx6W5JqrbPrOJM/t7lfuWHEwcniSe6xjO1/e2VHmTxbMGUl+M6M/2N8pyUHr2OejGYVQL1zpbHz2C49L8sCM7tx+pyRXW8c+H87oOrYnb+Q7jrmTIXHmJ1uqqo7NaDK+XpJDknw2ydlJ/n0fd5SDLVFVJyV5aEZfvtdzttNXk/xrkud395u3szbYSuNrK+8+zq+T0bH8qSSnd/f/zLM2Fsc2n/l5TJInx5d3loz5k0UyvhP3LZLcLKObbx6R5OoZnal3XpLPJHmPk0eYNL6R0a0yusTc9TNaaXHVJBcm+XJGq95O7+7zVhtjA+9p7mSpCT+BQaqqI5KckNGSy2OSHJzRmaDnZ/Rh8owkH3A9GoDN8eUdAIBFJvwEAAAAAAbpgHkXAAAAAACwHYSfAAAAAMAgCT8BAAAAgEESfgIAAAAAgyT8BAAAAAAGSfgJAAAAAAyS8BMAAAAAGCThJwAAAAAwSMJPAAAAAGCQhJ8AAAAAwCAJPwEAAACAQRJ+AgAAAACDJPwEAAAAAAZJ+AkAAAAADJLwEwAAAAAYJOEnAAAAADBIwk8AAAAAYJCEnwAAAADAIAk/AQAAAIBBEn4CAAAAAIMk/AQAAAAABkn4CQAAAAAMkvATAAAAABgk4ScAAAAAMEjCTwAAAABgkISfAADAXqrqJlXVE4+T510TAMBGCD8BAAAAgEESfgIAAAAAgyT8BAAAAAAGSfgJAAAAAAyS8BMAAAAAGKRd8y4AAAD2papumuSOSa6V5MgkX09ybpKPJHl/d391A2NeL8ndkhyT5JpJLkjyhSTv6e7/2aLSd1xVXT3JPZPcOMm1k3w5ydlJ3trdX55nbQAA81DdPe8aAABgL1V1VJKfSfLDGQV5q/l6ktOS/L8kL+3ui/Yx5gFJHpHkF5Lcfh9jfjTJHyV5QXdfuo5aT0xyykTXs7r7mWvtN7H/Wdnzbzy7u2+yj21PTvKoia5ju/usqjoiya9n9P91xAq7Xpbkb5P8Snd/ap21zOIx3X3yBvYDANhWlr0DALBQquqxSc5K8tSsHcQdmOTEJH+Z5K77GPO6Sd6R5K+z7+AzSY5L8rwk/1VVt1hX0XNUVd+c5P1JnpSVg89ktOLrkUneU1W325nKAADmz7J3AAAWRlX9QZKfXuGlczMK+L6Q5CoZLYG/XUZL1tca88ZJ3pIrB6lfSfLuJJ/PaDn9nZMcNfH68UlOq6r7dfd/zvLv2EHHJXlpRvUnyXlJ3pvki0kOyejfdL2J7a+b5FVVdbuNXC4AAGDZCD8BAFgIVfUzuXLw+Y4kT0tyandfscI+t0/yA0ket8qYuzIKByeDzwszOqv0Bd198dS2D0/y+0mOHncfneRlVfVN3X3hRv5d2+xvMgo+z07y80le1d2X736xqirJDyZ5QZKDx903TfKzGS2Tn3bPjL4j3CDJ2yb6XzkefzVf3GD9AADbSvgJAMDcVdWtk/zOVPfzkzx5pdBzt/EZmf9ZVc/OaAn8tCcmuftE+6tJvqO737HCWJcl+euqel+St2ZPAHpckmdkdK3QRXN0kg8luU93f2H6xR5d4P9vquqrSV418dKPVdWze+oGAN19TpKMMtO9XNjdZ21l4QAAO8E1PwEAWARPzd5/mP/nJD+1r+BzUndf1N0XTPaNb3D0lKlN/89KwefUWGck+fGp7sdX1aHrqWWHXZbk+1cKPid196szWg6/242S3Hwb6wIAWAjCTwAA5qqqjkzysImuKzIKPnuVXdbrXkmOnWifk+RP1rNjd78ye4eFhyU5aZP1bIdXjsPa9XjdVPuOW10MAMCiEX4CADBv987oJka7vbG7z9yCce851X7pes8kHfurNcZbBP80w7bTIem1t7IQAIBFJPwEAGDevmWqfeoWjXvnqfZpM+4/vf1dNlHLdvnvGbY9b6p9+FYWAgCwiISfAADM23Wn2h/aonGnz2z86Iz7f3iN8RbBdKC5L5dOta+6lYUAACwi4ScAAPN21FR7lkBvX6451b5gxa1W0d1fzeiGQrsduemKtt4sy/gBAPY7wk8AABbNZm90tFtt8bhbVRcAADtE+AkAwLx9caq9VWdYnjvVnukal1V1SJJdE11bdUbqtKusvQkAABsh/AQAYN4+M9W+9RaN+/mp9nEz7n/8GuPtdtlUe9eKW61uenk+AABbRPgJAMC8/ftU+8QtGve9U+3pu8qvZXr796yy3Zen2kes9w2q6kZJDpmhpp1iiT8AMAjCTwAA5u0t2fvsye+oqmO3YNy3T7UfUVWzfP79kTXG2236jNBZzlx9wAzb7qRLptpXm0sVAACbJPwEAGCuuvv8JH8z0XVAkj/agqHfmuR/Jto3TPKE9exYVScl+eaJri8nefVK23b3Z7P30v17VNWa1y2tqoOT/Nx66pmD86fa151HEQAAmyX8BABgETwnyaUT7QdU1R+s90zNqjqoqva6oVF3X5HkD6c2/e2q+ubsQ1Udn+TPprpf2N3Ty9snvXni+YFJnr7Ge+xK8qIkN93XdvPS3RcnOWui6y5VdcR8qgEA2DjhJwAAc9fdH0nys1PdP53kLVV1n9VC0Kq6fVX9RpKzk9xxhU2en+RdE+1Dk7yxqp5YVXst5a6qXVX1Q0neluTaEy99PMmz1vgnvHC69qr6zao6aIWavznJKUkeluTrSb62xtjzcsrE84OTvKGqHlZVt6mqY6vqJhOPa8yrSACAfalu1zIHAGAxVNXvJfmZFV76UpLTk3wxyVWSXCvJ7ZJMLi+/T3efusKYx2Z0XdEbTr305YyC0S9mdMf1Oyc5emqbc5Pcr7tPX0ftL0vy/VPdX0nyjiRfSHLYuOYbT7z+hCS/MtF3dnffZB/vcXKSR010HdvdZ61V23jfE7N3oPms7n7mPra/Q0Y3eVrP3esf090nr6cOAICdtJ4PMgAAsCO6+2er6sNJfj+jsw13OyrJ/TY45v9U1d2SvDbJN028dFiSb9/Hrh9L8r3js1LX4/FJrp+97xJ/aJLvWGHby5P8dHe/oKp+ZZ3j76jufn9VPT7JnyS5+rzrAQDYCMveAQBYKN39giTHJvm/2ftGQiu5JMkbM7oz+zv2MeanM7qB0aOSfGCNMT+W5MlJbjND8Ln7xk33TfKMXPmGQbtdluR1Se7a3c9f79jz0t0vTnLLjK5h+qYk5yT5ahLLxwCApWDZOwAAC62qbpPkNhktdT88yUUZLVX/aJL3d/dFGxjz+knuluSYJEdktDz980ne092f2IKarzoe/9YZLc3/SkbB4Tu6+3ObHR8AgPURfgIAAAAAg2TZOwAAAAAwSMJPAAAAAGCQhJ8AAAAAwCAJPwEAAACAQRJ+AgAAAACDJPwEAAAAAAZJ+AkAAAAADJLwEwAAAAAYJOEnAAAAADBIwk8AAAAAYJCEnwAAAADAIAk/AQAAAIBBEn4CAAAAAIMk/AQAAAAABkn4CQAAAAAMkvATAAAAABgk4ScAAAAAMEjCTwAAAABgkISfAAAAAMAgCT8BAAAAgEESfgIAAAAAgyT8BAAAAAAGSfgJAAAAAAyS8BMAAAAAGCThJwAAAAAwSMJPAAAAAGCQhJ8AAAAAwCAJPwEAAACAQRJ+AgAAAACDJPwEAAAAAAZJ+AkAAAAADJLwEwAAAAAYJOEnAAAAADBIwk8AAAAAYJCEnwAAAADAIAk/AQAAAIBB+v9EYZ4oFQEcbgAAAABJRU5ErkJggg==\n",
      "text/plain": [
       "<Figure size 1500x200 with 1 Axes>"
      ]
     },
     "metadata": {
      "needs_background": "light"
     },
     "output_type": "display_data"
    }
   ],
   "source": [
    "def intonation_counts(df):\n",
    "    intonation_types = list(set(list(df['match'])))\n",
    "    intonation_types.sort(reverse=True)\n",
    "    fig = plt.figure(figsize=[5, len(intonation_types)/3], dpi=300)\n",
    "    p = sns.countplot(data = df, y = 'match', order=intonation_types)\n",
    "    plt.savefig(path + 'plots/intonation-counts.pdf', bbox_inches='tight')\n",
    "\n",
    "intonation_counts(intonations_df)\n"
   ]
  },
  {
   "cell_type": "code",
   "execution_count": null,
   "id": "336f3f06",
   "metadata": {},
   "outputs": [],
   "source": []
  }
 ],
 "metadata": {
  "colab": {
   "include_colab_link": true,
   "name": "paralinguistic-visualizations.ipynb",
   "provenance": []
  },
  "kernelspec": {
   "display_name": "Python 3",
   "language": "python",
   "name": "python3"
=======
  ],
  "metadata": {
    "colab": {
      "name": "paralinguistic-visualizations.ipynb",
      "provenance": [],
      "include_colab_link": true
    },
    "kernelspec": {
      "display_name": "Python 3",
      "language": "python",
      "name": "python3"
    },
    "language_info": {
      "codemirror_mode": {
        "name": "ipython",
        "version": 3
      },
      "file_extension": ".py",
      "mimetype": "text/x-python",
      "name": "python",
      "nbconvert_exporter": "python",
      "pygments_lexer": "ipython3",
      "version": "3.9.4"
    }
>>>>>>> 2f9537509f67cc863c6a078450bc93913ed16efa
  },
  "nbformat": 4,
  "nbformat_minor": 5
}
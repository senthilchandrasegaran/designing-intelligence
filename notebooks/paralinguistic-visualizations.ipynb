{
  "cells": [
    {
      "cell_type": "markdown",
      "metadata": {
        "id": "view-in-github",
        "colab_type": "text"
      },
      "source": [
        "<a href=\"https://colab.research.google.com/github/senthilchandrasegaran/designing-intelligence/blob/main/notebooks/paralinguistic-visualizations.ipynb\" target=\"_parent\"><img src=\"https://colab.research.google.com/assets/colab-badge.svg\" alt=\"Open In Colab\"/></a>"
      ]
    },
    {
      "cell_type": "code",
      "execution_count": 6,
      "id": "63048275",
      "metadata": {
        "id": "63048275",
        "outputId": "f2fdb8b0-5cd4-45c9-b838-6b33cdaf7694",
        "colab": {
          "base_uri": "https://localhost:8080/"
        }
      },
      "outputs": [
        {
          "output_type": "stream",
          "name": "stdout",
          "text": [
            "Cloning into 'designing-intelligence'...\n",
            "remote: Enumerating objects: 39, done.\u001b[K\n",
            "remote: Counting objects: 100% (39/39), done.\u001b[K\n",
            "remote: Compressing objects: 100% (31/31), done.\u001b[K\n",
            "remote: Total 39 (delta 10), reused 24 (delta 5), pack-reused 0\u001b[K\n",
            "Unpacking objects: 100% (39/39), done.\n",
            "/content/designing-intelligence/notebooks\n",
            "Already up to date.\n"
          ]
        }
      ],
      "source": [
        "!git clone https://github.com/senthilchandrasegaran/designing-intelligence\n",
        "%cd /content/designing-intelligence/notebooks/\n",
        "!git pull\n",
        "\n",
        "import re\n",
        "import spacy\n",
        "import matplotlib.pyplot as plt\n",
        "import pandas as pd\n",
        "import pprint as pp\n",
        "import seaborn as sns\n",
        "from IPython.display import Markdown, display\n",
        "\n"
      ]
    },
    {
      "cell_type": "code",
      "execution_count": 7,
      "id": "cfa7488c",
      "metadata": {
        "id": "cfa7488c"
      },
      "outputs": [],
      "source": [
        "def printmd(string):\n",
        "    display(Markdown(string))"
      ]
    },
    {
      "cell_type": "code",
      "execution_count": 8,
      "id": "3f630ec1",
      "metadata": {
        "id": "3f630ec1"
      },
      "outputs": [],
      "source": [
        "with open('/content/designing-intelligence/data/sample-transcript.txt', 'r') as fo:\n",
        "    transcript_text = fo.read()"
      ]
    },
    {
      "cell_type": "code",
      "execution_count": null,
      "id": "b0070c70",
      "metadata": {
        "id": "b0070c70",
        "outputId": "aa6e7743-1b17-451d-ae1a-edeffc916931"
      },
      "outputs": [
        {
          "data": {
            "text/plain": [
              "\"INT: Okav so erm what is the Ten >Percent< Founda::tion\\n  (1.0)\\nRES: The ↑Ten >Percent< Foundation is a charitable trust erm that was sat uo in ↑two >thousand and< ↑two .hh to:oo deal with the donations from the Ten >Percent< group of ↑web↓sites.\\n  (1.2)\\nINT: So can ↑you tell me erm why and how it was established\\n  (2.0)\\nRES: .hhh It was es↑tablished because when we set up the Ten Percent companies .hhh we thought >it would be a ↑good idea< to donate ten percent of our profits to ↑CHArity every year\\n  (.)\\n.hh Erm and we realised quite ↑quick↓ly after ↑trying to donate money to charities .hhh that it was a difficult thing to do .hhh because charities were .hh erm a bit suspicious .hh as to why a company would want to give them any money.\\n  (2.0)\\nINT: .h So what did you do ↑next?\\n  (1.2)\\nRES: Well we went through the ↑diffi↓cult erm experience of .hh trying to (0.2) set up a charitable trust .hh er which took for↑ever with the charity comm↑ission¿ .hh and erm but ↑that's now in place and has been since two thousand and three_ .hh So we've been donating for fifteen years .hh into the cha>rity<.\\nINT: And ↑why ten percent.\\n  (2.7)\\nRES: .hhh Why ↑hot be orobably the best answer because we erm that was a figure we thought was a good i↑dea >and it's connected to the< .hh tithe principle going back into medieval times_ .hh erm and er that's (.) just what we ended up ↑doing?\\n(1.2)\\nINT: So can ↑you tell me a bit about the charities you've supported so far.\\n  (1.0)\\nRES: Well we've- we've supported numerous charities (0.2) around the world, erm the- in Africa mainly and the UK_=so our charitable principles .hh are that we donate to charities in those areas_\\n  (0.2)\\n.hh We ↑won't donate to charities that have (0.2) staff salaries of ↑more than about seventy thousand .hhh er because (0.2) we don't think that's appropriate for .hhh any any charity to-to be giving that sort of ↑money!\\n  (.)\\n.hh Erm so (.) ↑types of charities we've donated ↓to have been local charities <in the> northwest areas=so f- Centre sixty-three and Kirkby_\\n  (.)\\n.hhn Erm the- a domestic violence charity .hh in- on Merseyside_\\n  (.)\\nErm we've given money to local ↑sports clubs,\\n  (.)\\n.hh Erm we've also supported erm the- Riding for the Dis↑abled =the Clwydian Riding for the Dis↑abled, .hh erm and a trampo↑lining erm group in .h ↑Denbigh.\\n  (3.0)\\nINT: And how do vou deci::de what charities vou are going to support_\\n  (1.2)\\nRES: .hh We have ↑two >charity< trustees erm we meet fairly regularly every year to >determine< who gets the money .hhh and we like ongoing projects >so we've< been supporting .hh erm #d-# four children in Tanzania .hh for about five years now through their edu↑cation?\\n  (.)\\n.hh Erm and >similarly< we've done work with a >couple< of Liv- Liverpool charities .hhh erm (0.2) d- of a similar nature .hh where we've been giving them ov- ↑on↓going support for a number of years,\\n  (.)\\n.hhn Erm and we look at new options that >come into us< from members of the public and our clients .hhh and go from ↑there?\\n\""
            ]
          },
          "execution_count": 4,
          "metadata": {},
          "output_type": "execute_result"
        }
      ],
      "source": [
        "transcript_text"
      ]
    },
    {
      "cell_type": "code",
      "execution_count": 9,
      "id": "10d3ed8f",
      "metadata": {
        "id": "10d3ed8f"
      },
      "outputs": [],
      "source": [
        "def get_pauses(transcript_str):\n",
        "    regex=r\"\\(.*?\\)\"\n",
        "    match_list = []\n",
        "    for match in re.finditer(regex, transcript_text):\n",
        "        match_list.append({'start' : match.span()[0], 'end' : match.span()[1], 'match' : match.group()})\n",
        "    return match_list"
      ]
    },
    {
      "cell_type": "code",
      "execution_count": 10,
      "id": "5d24df0a",
      "metadata": {
        "id": "5d24df0a"
      },
      "outputs": [],
      "source": [
        "pauses_list = get_pauses(transcript_text)\n",
        "# pauses_list"
      ]
    },
    {
      "cell_type": "code",
      "execution_count": 11,
      "id": "3b4d4590",
      "metadata": {
        "id": "3b4d4590",
        "outputId": "0236e7c6-1cb3-4fbd-88f3-53ac6dc6dcb3",
        "colab": {
          "base_uri": "https://localhost:8080/",
          "height": 143
        }
      },
      "outputs": [
        {
          "output_type": "execute_result",
          "data": {
            "text/plain": [
              "   start  end  match\n",
              "0     58   63  (1.0)\n",
              "1    249  254  (1.2)\n",
              "2    317  322  (2.0)"
            ],
            "text/html": [
              "\n",
              "  <div id=\"df-43242879-6be5-4114-93c5-44fb87fe6bd2\">\n",
              "    <div class=\"colab-df-container\">\n",
              "      <div>\n",
              "<style scoped>\n",
              "    .dataframe tbody tr th:only-of-type {\n",
              "        vertical-align: middle;\n",
              "    }\n",
              "\n",
              "    .dataframe tbody tr th {\n",
              "        vertical-align: top;\n",
              "    }\n",
              "\n",
              "    .dataframe thead th {\n",
              "        text-align: right;\n",
              "    }\n",
              "</style>\n",
              "<table border=\"1\" class=\"dataframe\">\n",
              "  <thead>\n",
              "    <tr style=\"text-align: right;\">\n",
              "      <th></th>\n",
              "      <th>start</th>\n",
              "      <th>end</th>\n",
              "      <th>match</th>\n",
              "    </tr>\n",
              "  </thead>\n",
              "  <tbody>\n",
              "    <tr>\n",
              "      <th>0</th>\n",
              "      <td>58</td>\n",
              "      <td>63</td>\n",
              "      <td>(1.0)</td>\n",
              "    </tr>\n",
              "    <tr>\n",
              "      <th>1</th>\n",
              "      <td>249</td>\n",
              "      <td>254</td>\n",
              "      <td>(1.2)</td>\n",
              "    </tr>\n",
              "    <tr>\n",
              "      <th>2</th>\n",
              "      <td>317</td>\n",
              "      <td>322</td>\n",
              "      <td>(2.0)</td>\n",
              "    </tr>\n",
              "  </tbody>\n",
              "</table>\n",
              "</div>\n",
              "      <button class=\"colab-df-convert\" onclick=\"convertToInteractive('df-43242879-6be5-4114-93c5-44fb87fe6bd2')\"\n",
              "              title=\"Convert this dataframe to an interactive table.\"\n",
              "              style=\"display:none;\">\n",
              "        \n",
              "  <svg xmlns=\"http://www.w3.org/2000/svg\" height=\"24px\"viewBox=\"0 0 24 24\"\n",
              "       width=\"24px\">\n",
              "    <path d=\"M0 0h24v24H0V0z\" fill=\"none\"/>\n",
              "    <path d=\"M18.56 5.44l.94 2.06.94-2.06 2.06-.94-2.06-.94-.94-2.06-.94 2.06-2.06.94zm-11 1L8.5 8.5l.94-2.06 2.06-.94-2.06-.94L8.5 2.5l-.94 2.06-2.06.94zm10 10l.94 2.06.94-2.06 2.06-.94-2.06-.94-.94-2.06-.94 2.06-2.06.94z\"/><path d=\"M17.41 7.96l-1.37-1.37c-.4-.4-.92-.59-1.43-.59-.52 0-1.04.2-1.43.59L10.3 9.45l-7.72 7.72c-.78.78-.78 2.05 0 2.83L4 21.41c.39.39.9.59 1.41.59.51 0 1.02-.2 1.41-.59l7.78-7.78 2.81-2.81c.8-.78.8-2.07 0-2.86zM5.41 20L4 18.59l7.72-7.72 1.47 1.35L5.41 20z\"/>\n",
              "  </svg>\n",
              "      </button>\n",
              "      \n",
              "  <style>\n",
              "    .colab-df-container {\n",
              "      display:flex;\n",
              "      flex-wrap:wrap;\n",
              "      gap: 12px;\n",
              "    }\n",
              "\n",
              "    .colab-df-convert {\n",
              "      background-color: #E8F0FE;\n",
              "      border: none;\n",
              "      border-radius: 50%;\n",
              "      cursor: pointer;\n",
              "      display: none;\n",
              "      fill: #1967D2;\n",
              "      height: 32px;\n",
              "      padding: 0 0 0 0;\n",
              "      width: 32px;\n",
              "    }\n",
              "\n",
              "    .colab-df-convert:hover {\n",
              "      background-color: #E2EBFA;\n",
              "      box-shadow: 0px 1px 2px rgba(60, 64, 67, 0.3), 0px 1px 3px 1px rgba(60, 64, 67, 0.15);\n",
              "      fill: #174EA6;\n",
              "    }\n",
              "\n",
              "    [theme=dark] .colab-df-convert {\n",
              "      background-color: #3B4455;\n",
              "      fill: #D2E3FC;\n",
              "    }\n",
              "\n",
              "    [theme=dark] .colab-df-convert:hover {\n",
              "      background-color: #434B5C;\n",
              "      box-shadow: 0px 1px 3px 1px rgba(0, 0, 0, 0.15);\n",
              "      filter: drop-shadow(0px 1px 2px rgba(0, 0, 0, 0.3));\n",
              "      fill: #FFFFFF;\n",
              "    }\n",
              "  </style>\n",
              "\n",
              "      <script>\n",
              "        const buttonEl =\n",
              "          document.querySelector('#df-43242879-6be5-4114-93c5-44fb87fe6bd2 button.colab-df-convert');\n",
              "        buttonEl.style.display =\n",
              "          google.colab.kernel.accessAllowed ? 'block' : 'none';\n",
              "\n",
              "        async function convertToInteractive(key) {\n",
              "          const element = document.querySelector('#df-43242879-6be5-4114-93c5-44fb87fe6bd2');\n",
              "          const dataTable =\n",
              "            await google.colab.kernel.invokeFunction('convertToInteractive',\n",
              "                                                     [key], {});\n",
              "          if (!dataTable) return;\n",
              "\n",
              "          const docLinkHtml = 'Like what you see? Visit the ' +\n",
              "            '<a target=\"_blank\" href=https://colab.research.google.com/notebooks/data_table.ipynb>data table notebook</a>'\n",
              "            + ' to learn more about interactive tables.';\n",
              "          element.innerHTML = '';\n",
              "          dataTable['output_type'] = 'display_data';\n",
              "          await google.colab.output.renderOutput(dataTable, element);\n",
              "          const docLink = document.createElement('div');\n",
              "          docLink.innerHTML = docLinkHtml;\n",
              "          element.appendChild(docLink);\n",
              "        }\n",
              "      </script>\n",
              "    </div>\n",
              "  </div>\n",
              "  "
            ]
          },
          "metadata": {},
          "execution_count": 11
        }
      ],
      "source": [
        "pauses_df = pd.DataFrame(pauses_list)\n",
        "pauses_df[0:3]"
      ]
    },
    {
      "cell_type": "code",
      "execution_count": 12,
      "id": "c46ef718",
      "metadata": {
        "id": "c46ef718"
      },
      "outputs": [],
      "source": [
        "def sortnumber(elem):\n",
        "    elem_no_pars=elem[1:-1]\n",
        "    if elem_no_pars == '.' :\n",
        "        elem_num = 0.0\n",
        "    else :\n",
        "        elem_num = float(elem_no_pars)\n",
        "    return elem_num\n",
        "\n",
        "def pause_timeline(df):\n",
        "    pause_types = list(set(list(df['match'])))\n",
        "    pause_types.sort(key=sortnumber)\n",
        "    fig = plt.figure(figsize=[10, len(pause_types)/3], dpi=300)\n",
        "    p = sns.stripplot(data = df, x = 'start', y = 'match', order=pause_types,\n",
        "                      s=10, marker=\"$\\u007C$\", jitter=False)\n",
        "    p.set_ylim([-1,len(pause_types)])"
      ]
    },
    {
      "cell_type": "code",
      "execution_count": 13,
      "id": "48823bd7",
      "metadata": {
        "id": "48823bd7",
        "outputId": "54df7f3f-4f90-42c5-b8d6-e39200dd23a8",
        "colab": {
          "base_uri": "https://localhost:8080/",
          "height": 430
        }
      },
      "outputs": [
        {
          "output_type": "display_data",
          "data": {
            "text/plain": [
              "<Figure size 3000x700 with 1 Axes>"
            ],
            "image/png": "[encoded data removed]"
          },
          "metadata": {
            "needs_background": "light"
          }
        }
      ],
      "source": [
        "pause_timeline(pauses_df)"
      ]
    },
    {
      "cell_type": "code",
      "execution_count": 14,
      "id": "4a979c7e",
      "metadata": {
        "id": "4a979c7e"
      },
      "outputs": [],
      "source": [
        "def get_intonations(transcript_str):\n",
        "    regex=r\"↑|↓\"\n",
        "    match_list = []\n",
        "    for match in re.finditer(regex, transcript_text):\n",
        "        match_list.append({'start' : match.span()[0], 'end' : match.span()[1], 'match' : match.group()})\n",
        "    plt.savefig('../plots/pauses-timeline.pdf', bbox_inches='tight')\n",
        "    return match_list"
      ]
    },
    {
      "cell_type": "code",
      "execution_count": 15,
      "id": "488662fc",
      "metadata": {
        "id": "488662fc",
        "outputId": "632e3efc-e8b2-44f5-e809-2173a408a159",
        "colab": {
          "base_uri": "https://localhost:8080/",
          "height": 161
        }
      },
      "outputs": [
        {
          "output_type": "execute_result",
          "data": {
            "text/plain": [
              "   start  end match\n",
              "0     73   74     ↑\n",
              "1    144  145     ↑\n",
              "2    164  165     ↑"
            ],
            "text/html": [
              "\n",
              "  <div id=\"df-65b296a4-0f27-4b11-a093-61117ec5e492\">\n",
              "    <div class=\"colab-df-container\">\n",
              "      <div>\n",
              "<style scoped>\n",
              "    .dataframe tbody tr th:only-of-type {\n",
              "        vertical-align: middle;\n",
              "    }\n",
              "\n",
              "    .dataframe tbody tr th {\n",
              "        vertical-align: top;\n",
              "    }\n",
              "\n",
              "    .dataframe thead th {\n",
              "        text-align: right;\n",
              "    }\n",
              "</style>\n",
              "<table border=\"1\" class=\"dataframe\">\n",
              "  <thead>\n",
              "    <tr style=\"text-align: right;\">\n",
              "      <th></th>\n",
              "      <th>start</th>\n",
              "      <th>end</th>\n",
              "      <th>match</th>\n",
              "    </tr>\n",
              "  </thead>\n",
              "  <tbody>\n",
              "    <tr>\n",
              "      <th>0</th>\n",
              "      <td>73</td>\n",
              "      <td>74</td>\n",
              "      <td>↑</td>\n",
              "    </tr>\n",
              "    <tr>\n",
              "      <th>1</th>\n",
              "      <td>144</td>\n",
              "      <td>145</td>\n",
              "      <td>↑</td>\n",
              "    </tr>\n",
              "    <tr>\n",
              "      <th>2</th>\n",
              "      <td>164</td>\n",
              "      <td>165</td>\n",
              "      <td>↑</td>\n",
              "    </tr>\n",
              "  </tbody>\n",
              "</table>\n",
              "</div>\n",
              "      <button class=\"colab-df-convert\" onclick=\"convertToInteractive('df-65b296a4-0f27-4b11-a093-61117ec5e492')\"\n",
              "              title=\"Convert this dataframe to an interactive table.\"\n",
              "              style=\"display:none;\">\n",
              "        \n",
              "  <svg xmlns=\"http://www.w3.org/2000/svg\" height=\"24px\"viewBox=\"0 0 24 24\"\n",
              "       width=\"24px\">\n",
              "    <path d=\"M0 0h24v24H0V0z\" fill=\"none\"/>\n",
              "    <path d=\"M18.56 5.44l.94 2.06.94-2.06 2.06-.94-2.06-.94-.94-2.06-.94 2.06-2.06.94zm-11 1L8.5 8.5l.94-2.06 2.06-.94-2.06-.94L8.5 2.5l-.94 2.06-2.06.94zm10 10l.94 2.06.94-2.06 2.06-.94-2.06-.94-.94-2.06-.94 2.06-2.06.94z\"/><path d=\"M17.41 7.96l-1.37-1.37c-.4-.4-.92-.59-1.43-.59-.52 0-1.04.2-1.43.59L10.3 9.45l-7.72 7.72c-.78.78-.78 2.05 0 2.83L4 21.41c.39.39.9.59 1.41.59.51 0 1.02-.2 1.41-.59l7.78-7.78 2.81-2.81c.8-.78.8-2.07 0-2.86zM5.41 20L4 18.59l7.72-7.72 1.47 1.35L5.41 20z\"/>\n",
              "  </svg>\n",
              "      </button>\n",
              "      \n",
              "  <style>\n",
              "    .colab-df-container {\n",
              "      display:flex;\n",
              "      flex-wrap:wrap;\n",
              "      gap: 12px;\n",
              "    }\n",
              "\n",
              "    .colab-df-convert {\n",
              "      background-color: #E8F0FE;\n",
              "      border: none;\n",
              "      border-radius: 50%;\n",
              "      cursor: pointer;\n",
              "      display: none;\n",
              "      fill: #1967D2;\n",
              "      height: 32px;\n",
              "      padding: 0 0 0 0;\n",
              "      width: 32px;\n",
              "    }\n",
              "\n",
              "    .colab-df-convert:hover {\n",
              "      background-color: #E2EBFA;\n",
              "      box-shadow: 0px 1px 2px rgba(60, 64, 67, 0.3), 0px 1px 3px 1px rgba(60, 64, 67, 0.15);\n",
              "      fill: #174EA6;\n",
              "    }\n",
              "\n",
              "    [theme=dark] .colab-df-convert {\n",
              "      background-color: #3B4455;\n",
              "      fill: #D2E3FC;\n",
              "    }\n",
              "\n",
              "    [theme=dark] .colab-df-convert:hover {\n",
              "      background-color: #434B5C;\n",
              "      box-shadow: 0px 1px 3px 1px rgba(0, 0, 0, 0.15);\n",
              "      filter: drop-shadow(0px 1px 2px rgba(0, 0, 0, 0.3));\n",
              "      fill: #FFFFFF;\n",
              "    }\n",
              "  </style>\n",
              "\n",
              "      <script>\n",
              "        const buttonEl =\n",
              "          document.querySelector('#df-65b296a4-0f27-4b11-a093-61117ec5e492 button.colab-df-convert');\n",
              "        buttonEl.style.display =\n",
              "          google.colab.kernel.accessAllowed ? 'block' : 'none';\n",
              "\n",
              "        async function convertToInteractive(key) {\n",
              "          const element = document.querySelector('#df-65b296a4-0f27-4b11-a093-61117ec5e492');\n",
              "          const dataTable =\n",
              "            await google.colab.kernel.invokeFunction('convertToInteractive',\n",
              "                                                     [key], {});\n",
              "          if (!dataTable) return;\n",
              "\n",
              "          const docLinkHtml = 'Like what you see? Visit the ' +\n",
              "            '<a target=\"_blank\" href=https://colab.research.google.com/notebooks/data_table.ipynb>data table notebook</a>'\n",
              "            + ' to learn more about interactive tables.';\n",
              "          element.innerHTML = '';\n",
              "          dataTable['output_type'] = 'display_data';\n",
              "          await google.colab.output.renderOutput(dataTable, element);\n",
              "          const docLink = document.createElement('div');\n",
              "          docLink.innerHTML = docLinkHtml;\n",
              "          element.appendChild(docLink);\n",
              "        }\n",
              "      </script>\n",
              "    </div>\n",
              "  </div>\n",
              "  "
            ]
          },
          "metadata": {},
          "execution_count": 15
        },
        {
          "output_type": "display_data",
          "data": {
            "text/plain": [
              "<Figure size 432x288 with 0 Axes>"
            ]
          },
          "metadata": {}
        }
      ],
      "source": [
        "intonations_list = get_intonations(transcript_text)\n",
        "intonations_df = pd.DataFrame(intonations_list)\n",
        "intonations_df[0:3]"
      ]
    },
    {
      "cell_type": "code",
      "execution_count": 16,
      "id": "20537333",
      "metadata": {
        "id": "20537333",
        "outputId": "21fc5947-9042-4a8d-e00e-8152dc641894",
        "colab": {
          "base_uri": "https://localhost:8080/",
          "height": 220
        }
      },
      "outputs": [
        {
          "output_type": "display_data",
          "data": {
            "text/plain": [
              "<Figure size 3000x200 with 1 Axes>"
            ],
            "image/png": "[encoded data removed]"
          },
          "metadata": {
            "needs_background": "light"
          }
        }
      ],
      "source": [
        "def intonation_timeline(df):\n",
        "    intonation_types = list(set(list(df['match'])))\n",
        "    fig = plt.figure(figsize=[10, len(intonation_types)/3], dpi=300)\n",
        "    p = sns.stripplot(data = df, x = 'start', y = 'match',\n",
        "                      s=10, marker=\"$\\u007C$\", jitter=False)\n",
        "    p.set_ylim([-1,len(intonation_types)])\n",
        "    plt.savefig('../plots/intonation-timeline.pdf', bbox_inches='tight')\n",
        "\n",
        "intonation_timeline(intonations_df)\n"
      ]
    },
    {
      "cell_type": "code",
      "execution_count": null,
      "id": "760d74f7",
      "metadata": {
        "id": "760d74f7"
      },
      "outputs": [],
      "source": [
        ""
      ]
    }
  ],
  "metadata": {
    "kernelspec": {
      "display_name": "Python 3",
      "language": "python",
      "name": "python3"
    },
    "language_info": {
      "codemirror_mode": {
        "name": "ipython",
        "version": 3
      },
      "file_extension": ".py",
      "mimetype": "text/x-python",
      "name": "python",
      "nbconvert_exporter": "python",
      "pygments_lexer": "ipython3",
      "version": "3.9.4"
    },
    "colab": {
      "name": "paralinguistic-visualizations.ipynb",
      "provenance": [],
      "include_colab_link": true
    }
  },
  "nbformat": 4,
  "nbformat_minor": 5
}